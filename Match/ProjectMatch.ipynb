{
 "cells": [
  {
   "cell_type": "code",
   "execution_count": 1,
   "metadata": {},
   "outputs": [],
   "source": [
    "ids_Orig=open(\"ids_Orig.txt\",\"r\")\n",
    "ids_Rep=open(\"ids.txt\",\"r\")\n",
    "\n",
    "Orig=[]\n",
    "Rep=[]\n",
    "\n",
    "for line in ids_Orig:\n",
    "    Orig.append(line.strip(\"\\n\"))\n",
    "ids_Orig.close()\n",
    "\n",
    "for line in ids_Rep:\n",
    "    Rep.append(line.strip(\"\\n\"))\n",
    "ids_Rep.close()"
   ]
  },
  {
   "cell_type": "code",
   "execution_count": 2,
   "metadata": {},
   "outputs": [],
   "source": [
    "ids=[]\n",
    "for i in Orig:\n",
    "    if i in Rep:\n",
    "        continue\n",
    "    else:\n",
    "        ids.append(i)\n",
    "\n",
    "for j in Rep:\n",
    "    ids.append(j)"
   ]
  },
  {
   "cell_type": "code",
   "execution_count": 3,
   "metadata": {},
   "outputs": [],
   "source": [
    "file=open(\"xmlCompendium.txt\",\"r\")\n",
    "BioProjects=[]\n",
    "this_Proj=[]\n",
    "proj_dict={}\n",
    "just_finished=0\n",
    "i=0\n",
    "for line in file:\n",
    "    if ids[i]==\"7992613\":\n",
    "            proj_dict[\"7992613\"]=\"PRJNA545958\"\n",
    "            this_Proj.append(\"PRJNA545958\")\n",
    "            BioProjects.append(this_Proj)\n",
    "            this_Proj=[]\n",
    "            just_finished=1\n",
    "            i+=1\n",
    "    if \"END_RECORD\" not in line and just_finished==1:\n",
    "        just_finished=0\n",
    "    if \"PRJNA\" in line and \"EXTERNAL_ID\" in line and \"Bioproject\":\n",
    "        this_Proj.append(line.strip(\"\\n\").split(\">\")[1].split(\"<\")[0])\n",
    "    if \"END_RECORD\" in line:\n",
    "        if just_finished==1:\n",
    "            continue\n",
    "        proj_dict[ids[i]]=this_Proj[0]\n",
    "        BioProjects.append(this_Proj)\n",
    "        #print(ids[i])\n",
    "        #print(BioProjects[i])\n",
    "        this_Proj=[]\n",
    "        just_finished=1\n",
    "        i+=1\n",
    "file.close()"
   ]
  },
  {
   "cell_type": "code",
   "execution_count": 4,
   "metadata": {},
   "outputs": [],
   "source": [
    "fpapers=open(\"Papers-Grid_view.csv\",\"r\",encoding=\"utf-8\")\n",
    "\n",
    "BioProjPapers=[]\n",
    "\n",
    "for line in fpapers:\n",
    "    if \"PRJNA\" in line:\n",
    "        #print(line)\n",
    "        line=line.strip(\"\\n\").split('PRJNA')\n",
    "        BioProjPapers.append(line[1].split(\",\")[0].split(\";\")[0])\n",
    "fpapers.close()"
   ]
  },
  {
   "cell_type": "code",
   "execution_count": 5,
   "metadata": {},
   "outputs": [],
   "source": [
    "for i in range(0,len(BioProjPapers)):\n",
    "    #print(BioProjPapers[i])\n",
    "    if \"pdf\" in BioProjPapers[i]:\n",
    "        BioProjPapers[i]=BioProjPapers[i].split(\".pdf\")[0]\n",
    "    if \")\" in BioProjPapers[i]:\n",
    "        BioProjPapers[i]=BioProjPapers[i][0:-1]\n",
    "    BioProjPapers[i]=\"PRJNA\"+BioProjPapers[i]\n",
    "    #print(BioProjPapers[i])"
   ]
  },
  {
   "cell_type": "code",
   "execution_count": 6,
   "metadata": {},
   "outputs": [
    {
     "name": "stdout",
     "output_type": "stream",
     "text": [
      "568\n",
      "568\n",
      "569\n",
      "569\n",
      "570\n",
      "570\n",
      "741\n",
      "741\n",
      "756\n",
      "756\n",
      "954\n",
      "954\n"
     ]
    }
   ],
   "source": [
    "idsPresent=[]\n",
    "bPresent=[]\n",
    "for i in range(len(BioProjects)):\n",
    "    present=0\n",
    "    for j in BioProjects[i]:\n",
    "        if j in BioProjPapers:\n",
    "            idsPresent.append(ids[i])\n",
    "            bPresent.append(j)\n",
    "            present=1\n",
    "            break\n",
    "        if present==0:\n",
    "            print(i)"
   ]
  },
  {
   "cell_type": "code",
   "execution_count": 7,
   "metadata": {},
   "outputs": [
    {
     "data": {
      "text/plain": [
       "961"
      ]
     },
     "execution_count": 7,
     "metadata": {},
     "output_type": "execute_result"
    }
   ],
   "source": [
    "len(idsPresent)"
   ]
  },
  {
   "cell_type": "code",
   "execution_count": 8,
   "metadata": {},
   "outputs": [],
   "source": [
    "idsAbsent=[]\n",
    "for i in ids:\n",
    "    if i not in idsPresent:\n",
    "        idsAbsent.append(i)"
   ]
  },
  {
   "cell_type": "code",
   "execution_count": 9,
   "metadata": {},
   "outputs": [
    {
     "data": {
      "text/plain": [
       "['8549577', '8549579', '8549584', '9031610', '9034847', '9038519']"
      ]
     },
     "execution_count": 9,
     "metadata": {},
     "output_type": "execute_result"
    }
   ],
   "source": [
    "idsAbsent"
   ]
  },
  {
   "cell_type": "code",
   "execution_count": 13,
   "metadata": {},
   "outputs": [
    {
     "ename": "TypeError",
     "evalue": "'NoneType' object is not iterable",
     "output_type": "error",
     "traceback": [
      "\u001b[1;31m---------------------------------------------------------------------------\u001b[0m",
      "\u001b[1;31mTypeError\u001b[0m                                 Traceback (most recent call last)",
      "\u001b[1;32m<ipython-input-13-32b689e6a749>\u001b[0m in \u001b[0;36m<module>\u001b[1;34m\u001b[0m\n\u001b[0;32m      1\u001b[0m \u001b[0mfile\u001b[0m\u001b[1;33m=\u001b[0m\u001b[0mopen\u001b[0m\u001b[1;33m(\u001b[0m\u001b[1;34m\"Proj_UID.csv\"\u001b[0m\u001b[1;33m,\u001b[0m\u001b[1;34m\"w\"\u001b[0m\u001b[1;33m)\u001b[0m\u001b[1;33m\u001b[0m\u001b[1;33m\u001b[0m\u001b[0m\n\u001b[0;32m      2\u001b[0m \u001b[1;33m\u001b[0m\u001b[0m\n\u001b[1;32m----> 3\u001b[1;33m \u001b[1;32mfor\u001b[0m \u001b[0mi\u001b[0m \u001b[1;32min\u001b[0m \u001b[0mlist\u001b[0m\u001b[1;33m(\u001b[0m\u001b[0mproj_dict\u001b[0m\u001b[1;33m.\u001b[0m\u001b[0mkeys\u001b[0m\u001b[1;33m(\u001b[0m\u001b[1;33m)\u001b[0m\u001b[1;33m)\u001b[0m\u001b[1;33m.\u001b[0m\u001b[0msort\u001b[0m\u001b[1;33m(\u001b[0m\u001b[1;33m)\u001b[0m\u001b[1;33m:\u001b[0m\u001b[1;33m\u001b[0m\u001b[1;33m\u001b[0m\u001b[0m\n\u001b[0m\u001b[0;32m      4\u001b[0m     \u001b[0mprint\u001b[0m\u001b[1;33m(\u001b[0m\u001b[0mi\u001b[0m\u001b[1;33m)\u001b[0m\u001b[1;33m\u001b[0m\u001b[1;33m\u001b[0m\u001b[0m\n\u001b[0;32m      5\u001b[0m     \u001b[0mfile\u001b[0m\u001b[1;33m.\u001b[0m\u001b[0mwrite\u001b[0m\u001b[1;33m(\u001b[0m\u001b[0mi\u001b[0m\u001b[1;33m+\u001b[0m\u001b[1;34m\";\"\u001b[0m\u001b[1;33m+\u001b[0m\u001b[0mproj_dict\u001b[0m\u001b[1;33m[\u001b[0m\u001b[0mi\u001b[0m\u001b[1;33m]\u001b[0m\u001b[1;33m+\u001b[0m\u001b[1;34m\"\\n\"\u001b[0m\u001b[1;33m)\u001b[0m\u001b[1;33m\u001b[0m\u001b[1;33m\u001b[0m\u001b[0m\n",
      "\u001b[1;31mTypeError\u001b[0m: 'NoneType' object is not iterable"
     ]
    }
   ],
   "source": [
    "file=open(\"Proj_UID.csv\",\"w\")\n",
    "\n",
    "for i in proj_dict.keys():\n",
    "    print(i)\n",
    "    file.write(i+\";\"+proj_dict[i]+\"\\n\")\n",
    "file.close()"
   ]
  }
 ],
 "metadata": {
  "kernelspec": {
   "display_name": "Python 3",
   "language": "python",
   "name": "python3"
  },
  "language_info": {
   "codemirror_mode": {
    "name": "ipython",
    "version": 3
   },
   "file_extension": ".py",
   "mimetype": "text/x-python",
   "name": "python",
   "nbconvert_exporter": "python",
   "pygments_lexer": "ipython3",
   "version": "3.8.5"
  }
 },
 "nbformat": 4,
 "nbformat_minor": 4
}
