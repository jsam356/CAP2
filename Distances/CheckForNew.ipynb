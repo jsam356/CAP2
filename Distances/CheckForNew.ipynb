{
 "cells": [
  {
   "cell_type": "markdown",
   "metadata": {},
   "source": [
    "#### Check for New Samples after Download"
   ]
  },
  {
   "cell_type": "code",
   "execution_count": 1,
   "metadata": {},
   "outputs": [],
   "source": [
    "Orig=open(\"Proj_UID.csv\",\"r\")\n",
    "\n",
    "OrigSample=[]\n",
    "for line in Orig:\n",
    "    OrigSample.append(line.strip(\"\\n\").split(\";\")[0])\n",
    "    \n",
    "Orig.close()"
   ]
  },
  {
   "cell_type": "code",
   "execution_count": 2,
   "metadata": {},
   "outputs": [],
   "source": [
    "New=open(\"NewDistances.tab\",\"r\", encoding=\"utf-8\")\n",
    "\n",
    "NewSet=[]\n",
    "\n",
    "for line in New:\n",
    "    try:\n",
    "        sample=line.strip(\"\\n\").split(\"\\t\")[0].split(\"_\")[0].split(\"/\")[1]\n",
    "        if sample not in NewSet:\n",
    "            NewSet.append(sample)\n",
    "    except:\n",
    "        continue"
   ]
  },
  {
   "cell_type": "code",
   "execution_count": 3,
   "metadata": {},
   "outputs": [],
   "source": [
    "NewSamples=list(set(NewSet)-set(OrigSample))"
   ]
  },
  {
   "cell_type": "code",
   "execution_count": 4,
   "metadata": {},
   "outputs": [],
   "source": [
    "NewS=open(\"NewSampleIds.txt\",\"w\")\n",
    "\n",
    "for i in NewSamples:\n",
    "    NewS.write(i+\"\\n\")\n",
    "NewS.close()"
   ]
  },
  {
   "cell_type": "markdown",
   "metadata": {},
   "source": [
    "#### Associate bioproject to new samples after Batch Entrez download"
   ]
  },
  {
   "cell_type": "code",
   "execution_count": 1,
   "metadata": {},
   "outputs": [],
   "source": [
    "NewS=open(\"NewSampleIds.txt\",\"r\")\n",
    "\n",
    "NewSamples=[]\n",
    "for line in NewS:\n",
    "    NewSamples.append(line.strip(\"\\n\"))\n",
    "NewS.close()"
   ]
  },
  {
   "cell_type": "code",
   "execution_count": 3,
   "metadata": {},
   "outputs": [],
   "source": [
    "NewProj=open(\"NewSraRunInfo.csv\",\"r\")\n",
    "\n",
    "NProj=[]\n",
    "for line in NewProj:\n",
    "    if \"Run,ReleaseDate\" in line:\n",
    "        continue\n",
    "    line=line.strip(\"\\n\").split(\"PRJNA\")[1].split(\",\")[0]\n",
    "    NProj.append(\"PRJNA\"+line)\n",
    "NewProj.close()"
   ]
  },
  {
   "cell_type": "code",
   "execution_count": 4,
   "metadata": {},
   "outputs": [],
   "source": [
    "Out=open(\"Proj_UIDBatch2.csv\",\"w\")\n",
    "\n",
    "for (ID,proj)in zip(NewSamples,NProj):\n",
    "    Out.write(ID+\";\"+proj+\"\\n\")\n",
    "    \n",
    "Out.close()\n",
    "\n",
    "#It's ideal to check the output file as some bioprojects are not adequately parsed from NewSraRunInfo.csv (will try to \n",
    "#correct that later)."
   ]
  },
  {
   "cell_type": "code",
   "execution_count": null,
   "metadata": {},
   "outputs": [],
   "source": []
  }
 ],
 "metadata": {
  "kernelspec": {
   "display_name": "Python 3",
   "language": "python",
   "name": "python3"
  },
  "language_info": {
   "codemirror_mode": {
    "name": "ipython",
    "version": 3
   },
   "file_extension": ".py",
   "mimetype": "text/x-python",
   "name": "python",
   "nbconvert_exporter": "python",
   "pygments_lexer": "ipython3",
   "version": "3.8.5"
  }
 },
 "nbformat": 4,
 "nbformat_minor": 4
}
