{
 "cells": [
  {
   "cell_type": "markdown",
   "metadata": {},
   "source": [
    "**This notebook borrows most of the code of Scatterplot. Its objective is to test different parameters for the clusterization of DBSCAN and HDBSCAN.**\n",
    "\n",
    "Code for chunks shared with the Scatterplot notebook are the same. The descriptions of what each subsection does are omitted for those shared chunks."
   ]
  },
  {
   "cell_type": "markdown",
   "metadata": {},
   "source": [
    "### Distance & ID Load"
   ]
  },
  {
   "cell_type": "code",
   "execution_count": 1,
   "metadata": {},
   "outputs": [
    {
     "name": "stdout",
     "output_type": "stream",
     "text": [
      "Populating the interactive namespace from numpy and matplotlib\n"
     ]
    }
   ],
   "source": [
    "%pylab inline\n",
    "import umap"
   ]
  },
  {
   "cell_type": "markdown",
   "metadata": {},
   "source": [
    "#### Data can be loaded two ways. Use either the chunks below for load as an npy matrix (chunk just below DBSCAN)"
   ]
  },
  {
   "cell_type": "code",
   "execution_count": 2,
   "metadata": {},
   "outputs": [],
   "source": [
    "#We load the distance matrix, which was generated in a phyllip format. Each row has the name of a sample and then the\n",
    "#distances to all of the samplea above it in the file.\n",
    "phy=open(\"MashTriangle/secondCombinedDistances.phyllip\",\"r\",encoding=\"utf-8\")\n",
    "\n",
    "#There are a total of 13589 samples for now (this can be seen in the first line of the phyllip file).\n",
    "distances=np.zeros((13589,13589))\n",
    "#We'll save the sample ids in a list and the distances in distances.\n",
    "ids=[]\n",
    "\n",
    "#We'll need a counter to fill the distance matrix.\n",
    "i=-2\n",
    "for line in phy:\n",
    "#At the beggining of each line we increase the counter by 1.\n",
    "    i+=1\n",
    "#The first line of the file contains only the total number of samples so we ignore it (when we read the first line,\n",
    "#i=-1).\n",
    "    if i<0:\n",
    "        continue\n",
    "#The second line has just the id of the first samples. We simply save the id and that's it.\n",
    "    if i==1:\n",
    "        line=line.strip(\"\\n\").split(\"\\t\")\n",
    "        ids.append(line[0].split(\".gz\")[0].split(\"/\")[1])\n",
    "        continue\n",
    "    \n",
    "#The rest of the lines have distances. In particular the nth id has n-1 distances (for the n-1 samples above it). \n",
    "#First we get the id.\n",
    "    line=line.strip(\"\\n\").split(\"\\t\")\n",
    "    ids.append(line[0].split(\".gz\")[0].split(\"/\")[1])\n",
    "#Then we add the n-1 distances to the nth line and the nth column (the distance matrix is symmetrical).\n",
    "    dist=asarray([float(x) for x in line[1::]])\n",
    "    distances[0:i,i]=dist\n",
    "    distances[i,0:i]=dist\n",
    "    \n",
    "phy.close()"
   ]
  },
  {
   "cell_type": "code",
   "execution_count": 3,
   "metadata": {},
   "outputs": [
    {
     "data": {
      "text/plain": [
       "False"
      ]
     },
     "execution_count": 3,
     "metadata": {},
     "output_type": "execute_result"
    }
   ],
   "source": [
    "np.isnan(np.min(distances))"
   ]
  },
  {
   "cell_type": "markdown",
   "metadata": {},
   "source": [
    "#### If ID deduplication needs not be done omit the two cells below"
   ]
  },
  {
   "cell_type": "code",
   "execution_count": 4,
   "metadata": {},
   "outputs": [],
   "source": [
    "#We might be interested in deduplicating the data, as some of the samples might be present in more than one\n",
    "#database.\n",
    "\n",
    "#For that we can look at the distance matrix and look for samples with mash distance of 0.\n",
    "\n",
    "#We'll save the samples to be deleted in toDelete and their positions in the id list in PositionstoDelete.\n",
    "SampletoDelete=[]\n",
    "PositionstoDelete=[]\n",
    "\n",
    "#Now we iterate over the distance matrix. \n",
    "for i in range(0,len(ids)):\n",
    "    for j in range(i,len(ids)):\n",
    "#If a given pair of samples have a mash distance of 0, we add the id and position of the second one in the \n",
    "#corresponding lists for deletion.\n",
    "        if i!=j and distances[i,j]==0:\n",
    "            SampletoDelete.append(ids[j])\n",
    "            PositionstoDelete.append(j)"
   ]
  },
  {
   "cell_type": "code",
   "execution_count": 5,
   "metadata": {},
   "outputs": [
    {
     "data": {
      "text/plain": [
       "31"
      ]
     },
     "execution_count": 5,
     "metadata": {},
     "output_type": "execute_result"
    }
   ],
   "source": [
    "#We dereplicate SampletoDelete and PositionstoDelete incase a given sample appear more than once.\n",
    "SampletoDelete=list(set(SampletoDelete))\n",
    "len(SampletoDelete)\n",
    "\n",
    "PositionstoDelete=list(set(PositionstoDelete))\n",
    "len(PositionstoDelete)"
   ]
  },
  {
   "cell_type": "code",
   "execution_count": 6,
   "metadata": {},
   "outputs": [],
   "source": [
    "#We delete the ids of the duplicated from ids. We dereplicate the list just in case.\n",
    "\n",
    "for sample in SampletoDelete:\n",
    "    try:\n",
    "        ids.remove(str(sample))\n",
    "    except:\n",
    "        continue\n",
    "    \n",
    "#We remove the row and columns of the duplicated ids from the distance matrix.\n",
    "distances=np.delete(distances,PositionstoDelete,axis=0)\n",
    "distances=np.delete(distances,PositionstoDelete,axis=1)"
   ]
  },
  {
   "cell_type": "markdown",
   "metadata": {},
   "source": [
    "#### Load npy matrix (if necessary)"
   ]
  },
  {
   "cell_type": "code",
   "execution_count": 14,
   "metadata": {},
   "outputs": [],
   "source": [
    "distances=np.load(\"cluster1.npy\")"
   ]
  },
  {
   "cell_type": "markdown",
   "metadata": {},
   "source": [
    "## Clustering Parameter Analyses"
   ]
  },
  {
   "cell_type": "markdown",
   "metadata": {},
   "source": [
    "Here the different parameters of DBSCAN and HDBSCAN are tested and compared."
   ]
  },
  {
   "cell_type": "markdown",
   "metadata": {},
   "source": [
    "#### dbSCAN"
   ]
  },
  {
   "cell_type": "code",
   "execution_count": 15,
   "metadata": {},
   "outputs": [
    {
     "name": "stdout",
     "output_type": "stream",
     "text": [
      "0.05\n",
      "1\n",
      "0.06854957633465679\n",
      "10\n",
      "0.5449151791708935\n",
      "25\n",
      "-1\n",
      "50\n",
      "-1\n",
      "65\n",
      "-1\n",
      "75\n",
      "-1\n",
      "90\n",
      "-1\n",
      "100\n",
      "-1\n",
      "115\n",
      "-1\n",
      "125\n",
      "-1\n",
      "150\n",
      "-1\n",
      "175\n",
      "-1\n",
      "200\n",
      "-1\n",
      "225\n",
      "-1\n",
      "250\n",
      "-1\n",
      "0.075\n",
      "1\n",
      "0.1373090336886286\n",
      "10\n",
      "0.3151455465166551\n",
      "25\n",
      "0.50206429357446\n",
      "50\n",
      "-1\n",
      "65\n",
      "-1\n",
      "75\n",
      "-1\n",
      "90\n",
      "-1\n",
      "100\n",
      "-1\n",
      "115\n",
      "-1\n",
      "125\n",
      "-1\n",
      "150\n",
      "-1\n",
      "175\n",
      "-1\n",
      "200\n",
      "-1\n",
      "225\n",
      "-1\n",
      "250\n",
      "-1\n",
      "0.1\n",
      "1\n",
      "-0.18626066957862478\n",
      "10\n",
      "-0.0574979329552328\n",
      "25\n",
      "0.13605323125204316\n",
      "50\n",
      "-1\n",
      "65\n",
      "0.2634614813259464\n",
      "75\n",
      "0.2721512780290114\n",
      "90\n",
      "0.32200703580691825\n",
      "100\n",
      "0.3600805541333537\n",
      "115\n",
      "-1\n",
      "125\n",
      "-1\n",
      "150\n",
      "-1\n",
      "175\n",
      "-1\n",
      "200\n",
      "-1\n",
      "225\n",
      "-1\n",
      "250\n",
      "-1\n",
      "0.12\n",
      "1\n",
      "-0.08819837839283977\n",
      "10\n",
      "0.17114962907867498\n",
      "25\n",
      "-1\n",
      "50\n",
      "-1\n",
      "65\n",
      "-1\n",
      "75\n",
      "-1\n",
      "90\n",
      "-1\n",
      "100\n",
      "-1\n",
      "115\n",
      "-1\n",
      "125\n",
      "-1\n",
      "150\n",
      "-1\n",
      "175\n",
      "-1\n",
      "200\n",
      "-1\n",
      "225\n",
      "-1\n",
      "250\n",
      "-1\n",
      "0.15\n",
      "1\n",
      "-1\n",
      "10\n",
      "-1\n",
      "25\n",
      "-1\n",
      "50\n",
      "-1\n",
      "65\n",
      "-1\n",
      "75\n",
      "-1\n",
      "90\n",
      "-1\n",
      "100\n",
      "-1\n",
      "115\n",
      "-1\n",
      "125\n",
      "-1\n",
      "150\n",
      "-1\n",
      "175\n",
      "-1\n",
      "200\n",
      "-1\n",
      "225\n",
      "-1\n",
      "250\n",
      "-1\n",
      "0.2\n",
      "1\n",
      "-1\n",
      "10\n",
      "-1\n",
      "25\n",
      "-1\n",
      "50\n",
      "-1\n",
      "65\n",
      "-1\n",
      "75\n",
      "-1\n",
      "90\n",
      "-1\n",
      "100\n",
      "-1\n",
      "115\n",
      "-1\n",
      "125\n",
      "-1\n",
      "150\n",
      "-1\n",
      "175\n",
      "-1\n",
      "200\n",
      "-1\n",
      "225\n",
      "-1\n",
      "250\n",
      "-1\n",
      "0.25\n",
      "1\n",
      "-1\n",
      "10\n",
      "-1\n",
      "25\n",
      "-1\n",
      "50\n",
      "-1\n",
      "65\n",
      "-1\n",
      "75\n",
      "-1\n",
      "90\n",
      "-1\n",
      "100\n",
      "-1\n",
      "115\n",
      "-1\n",
      "125\n",
      "-1\n",
      "150\n",
      "-1\n",
      "175\n",
      "-1\n",
      "200\n",
      "-1\n",
      "225\n",
      "-1\n",
      "250\n",
      "-1\n",
      "0.3\n",
      "1\n",
      "-1\n",
      "10\n",
      "-1\n",
      "25\n",
      "-1\n",
      "50\n",
      "-1\n",
      "65\n",
      "-1\n",
      "75\n",
      "-1\n",
      "90\n",
      "-1\n",
      "100\n",
      "-1\n",
      "115\n",
      "-1\n",
      "125\n",
      "-1\n",
      "150\n",
      "-1\n",
      "175\n",
      "-1\n",
      "200\n",
      "-1\n",
      "225\n",
      "-1\n",
      "250\n",
      "-1\n",
      "0.35\n",
      "1\n",
      "-1\n",
      "10\n",
      "-1\n",
      "25\n",
      "-1\n",
      "50\n",
      "-1\n",
      "65\n",
      "-1\n",
      "75\n",
      "-1\n",
      "90\n",
      "-1\n",
      "100\n",
      "-1\n",
      "115\n",
      "-1\n",
      "125\n",
      "-1\n",
      "150\n",
      "-1\n",
      "175\n",
      "-1\n",
      "200\n",
      "-1\n",
      "225\n",
      "-1\n",
      "250\n",
      "-1\n"
     ]
    }
   ],
   "source": [
    "#We'll begin with DBSCAN. We also load the solhouette score.\n",
    "from sklearn.cluster import DBSCAN\n",
    "from sklearn.metrics import silhouette_score\n",
    "\n",
    "#We define the parameters to be tested. Here we'll only vary the (soft lock on) maximum distance between points of the\n",
    "#same cluster, and the number of samples close to a sample to be considered the center of a cluster.\n",
    "eOpt=[0.05,0.075,0.1,0.12,0.15,0.2,0.25,0.3,0.35]\n",
    "#MSamples=[18,19,20,21,22,23,24,25,26,27,28,29,30,31,32]\n",
    "#MSamples=[1,10,25,50,75,100,150,200,250,350,500,600,750,900,1000]\n",
    "MSamples=[1,10,25,50,65,75,90,100,115,125,150,175,200,225,250]\n",
    "\n",
    "#We'll save the results of the best output. We'll measure the best one as that which minimizes the distances \n",
    "#between members of the same cluster. We don't minimize the median distance between members of the same and \n",
    "#different clusters as this might favor a low intercluster distance.\n",
    "\n",
    "#The parameters to be saved are the intra cluster distance, the number of clusters, and the difference between the \n",
    "#inter and intra cluster distances.\n",
    "#bestEOpt=0\n",
    "#bestMSamples=0\n",
    "#leastSame=1000000000\n",
    "#leastInter=0\n",
    "\n",
    "#We'll also save the output from every possible combination of parameters.\n",
    "#AllDiff=[]\n",
    "#AllSameDist=[]\n",
    "NumClusters=[]\n",
    "SS=[]\n",
    "\n",
    "#Now we test the parameters. We try every possible combination.\n",
    "for EO in eOpt:\n",
    "    print(EO)\n",
    "    for MS in MSamples:\n",
    "        print(MS)\n",
    "#For each we generate the clusterization using the Mash distance data.\n",
    "        dbg=DBSCAN(eps=EO,metric=\"precomputed\",min_samples=MS).fit(distances)\n",
    "#We go over the distance matrix and save inter cluster distances in group_distances and intra cluster distances in\n",
    "#diff_distances.\n",
    "        #group_distances=[]\n",
    "        #diff_distances=[]\n",
    "\n",
    "        #for i in range(1,distances.shape[0]):\n",
    "        #    for j in range(0,i):\n",
    "        #        if dbg.labels_[i]==dbg.labels_[j]:\n",
    "        #            group_distances.append(distances[i,j])\n",
    "        #        else:\n",
    "        #            diff_distances.append(distances[i,j])\n",
    "        \n",
    "#We save the values in the adequate lists.\n",
    "        #thisDiff=mean(diff_distances)-mean(group_distances)\n",
    "        #thisDist=mean(group_distances)\n",
    "        NumClusters.append((max(dbg.labels_)+2))\n",
    "        #AllDiff.append(thisDiff)\n",
    "        #AllSameDist.append(thisDist)\n",
    "        filterDist=distances[dbg.labels_!=-1,]\n",
    "        filterDist=filterDist[:,dbg.labels_!=-1]\n",
    "        try:\n",
    "            #ss=silhouette_score(filterDist,dbg.labels_[dbg.labels_>-1],metric='precomputed')\n",
    "            ss=silhouette_score(filterDist,dbg.labels_[dbg.labels_>-1],metric='precomputed')\n",
    "            print(ss)\n",
    "            SS.append(ss)\n",
    "        except ValueError:\n",
    "            print(-1)\n",
    "            SS.append(-1)\n",
    "        del dbg\n",
    "#As a failsafe, we make sure that the median intra group distance is smaller than the median inter group distance.\n",
    "        #if median(diff_distances)<=median(group_distances):\n",
    "        #    continue\n",
    "\n",
    "#If the median intra cluster distance is smaller than the smallest one so far, the parameters for the best \n",
    "#clusterization are updated.\n",
    "        #if thisDist<leastSame:\n",
    "        #    bestEOpt=EO\n",
    "        #    bestMSamples=MS\n",
    "        #    leastSame=thisDist\n",
    "        #    leastInter=thisDiff"
   ]
  },
  {
   "cell_type": "code",
   "execution_count": 8,
   "metadata": {},
   "outputs": [
    {
     "name": "stdout",
     "output_type": "stream",
     "text": [
      "0.05\n",
      "1\n",
      "0.07944422523994979\n",
      "0.3371637647666449\n"
     ]
    }
   ],
   "source": [
    "#We print the parameters of the best models.\n",
    "print(bestEOpt)\n",
    "print(bestMSamples)\n",
    "print(leastSame)\n",
    "print(leastInter)"
   ]
  },
  {
   "cell_type": "code",
   "execution_count": 13,
   "metadata": {
    "scrolled": true
   },
   "outputs": [
    {
     "data": {
      "text/plain": [
       "<matplotlib.legend.Legend at 0x7f621fa5f0d0>"
      ]
     },
     "execution_count": 13,
     "metadata": {},
     "output_type": "execute_result"
    },
    {
     "data": {
      "image/png": "[encoded data removed]",
      "text/plain": [
       "<Figure size 432x288 with 1 Axes>"
      ]
     },
     "metadata": {
      "needs_background": "light"
     },
     "output_type": "display_data"
    }
   ],
   "source": [
    "#Now we graph the behaviour of model performance. Here, difference in median intra and inter cluster distance.\n",
    "eOpt=[0.05,0.075,0.1,0.12,0.15,0.2,0.25]\n",
    "plot(MSamples,AllDiff[0:15],label=\"0.05\")\n",
    "plot(MSamples,AllDiff[15:30],label=\"0.075\")\n",
    "plot(MSamples,AllDiff[30:45],label=\"0.1\")\n",
    "plot(MSamples,AllDiff[45:60],label=\"0.12\")\n",
    "plot(MSamples,AllDiff[60:75],label=\"0.15\")\n",
    "plot(MSamples,AllDiff[75:90],label=\"0.2\")\n",
    "plot(MSamples,AllDiff[90:105],label=\"0.25\")\n",
    "\n",
    "title(\"Inter-Intra Distance Difference\")\n",
    "xlabel(\"MinSamples for Cluster\")\n",
    "ylabel(\"Mash Distance\")\n",
    "legend(loc=1)"
   ]
  },
  {
   "cell_type": "code",
   "execution_count": 14,
   "metadata": {},
   "outputs": [
    {
     "data": {
      "text/plain": [
       "<matplotlib.legend.Legend at 0x7f621f982f90>"
      ]
     },
     "execution_count": 14,
     "metadata": {},
     "output_type": "execute_result"
    },
    {
     "data": {
      "image/png": "[encoded data removed]",
      "text/plain": [
       "<Figure size 432x288 with 1 Axes>"
      ]
     },
     "metadata": {
      "needs_background": "light"
     },
     "output_type": "display_data"
    }
   ],
   "source": [
    "#Next, intra cluster median distance.\n",
    "eOpt=[0.05,0.075,0.1,0.12,0.15,0.2,0.25]\n",
    "plot(MSamples,AllSameDist[0:15],label=\"0.05\")\n",
    "plot(MSamples,AllSameDist[15:30],label=\"0.075\")\n",
    "plot(MSamples,AllSameDist[30:45],label=\"0.1\")\n",
    "plot(MSamples,AllSameDist[45:60],label=\"0.12\")\n",
    "plot(MSamples,AllSameDist[60:75],label=\"0.15\")\n",
    "plot(MSamples,AllSameDist[75:90],label=\"0.2\")\n",
    "plot(MSamples,AllSameDist[90:105],label=\"0.25\")\n",
    "title(\"Intra Distance\")\n",
    "xlabel(\"MinSamples for Cluster\")\n",
    "ylabel(\"Mash Distance\")\n",
    "legend()"
   ]
  },
  {
   "cell_type": "code",
   "execution_count": 16,
   "metadata": {},
   "outputs": [
    {
     "data": {
      "text/plain": [
       "<matplotlib.legend.Legend at 0x7f71148d0cd0>"
      ]
     },
     "execution_count": 16,
     "metadata": {},
     "output_type": "execute_result"
    },
    {
     "data": {
      "image/png": "[encoded data removed]",
      "text/plain": [
       "<Figure size 432x288 with 1 Axes>"
      ]
     },
     "metadata": {
      "needs_background": "light"
     },
     "output_type": "display_data"
    }
   ],
   "source": [
    "#Now the silhouette score.\n",
    "plot(MSamples,SS[0:15],label=\"0.05\")\n",
    "plot(MSamples,SS[15:30],label=\"0.075\")\n",
    "plot(MSamples,SS[30:45],label=\"0.1\")\n",
    "plot(MSamples,SS[45:60],label=\"0.12\")\n",
    "plot(MSamples,SS[60:75],label=\"0.15\")\n",
    "plot(MSamples,SS[75:90],label=\"0.2\")\n",
    "plot(MSamples,SS[90:105],label=\"0.25\")\n",
    "title(\"Silhouette Score (Cluster 1)\")\n",
    "xlabel(\"MinSamples for Cluster\")\n",
    "ylabel(\"Silhouette Score\")\n",
    "#yscale(\"log\")\n",
    "legend(loc=4)"
   ]
  },
  {
   "cell_type": "code",
   "execution_count": 17,
   "metadata": {},
   "outputs": [
    {
     "data": {
      "text/plain": [
       "<matplotlib.legend.Legend at 0x7f71147e6910>"
      ]
     },
     "execution_count": 17,
     "metadata": {},
     "output_type": "execute_result"
    },
    {
     "data": {
      "image/png": "[encoded data removed]",
      "text/plain": [
       "<Figure size 432x288 with 1 Axes>"
      ]
     },
     "metadata": {
      "needs_background": "light"
     },
     "output_type": "display_data"
    }
   ],
   "source": [
    "#Finally, the number of clusters.\n",
    "eOpt=[0.05,0.075,0.1,0.12,0.15,0.2,0.25]\n",
    "plot(MSamples,NumClusters[0:15],label=\"0.05\")\n",
    "plot(MSamples,NumClusters[15:30],label=\"0.075\")\n",
    "plot(MSamples,NumClusters[30:45],label=\"0.1\")\n",
    "plot(MSamples,NumClusters[45:60],label=\"0.12\")\n",
    "plot(MSamples,NumClusters[60:75],label=\"0.15\")\n",
    "plot(MSamples,NumClusters[75:90],label=\"0.2\")\n",
    "plot(MSamples,NumClusters[90:105],label=\"0.25\")\n",
    "title(\"Number of Clusters (Cluster 1)\")\n",
    "xlabel(\"MinSamples for Cluster\")\n",
    "ylabel(\"Number of Clusters\")\n",
    "yscale(\"log\")\n",
    "legend()"
   ]
  },
  {
   "cell_type": "markdown",
   "metadata": {},
   "source": [
    "#### hdbSCAN"
   ]
  },
  {
   "cell_type": "code",
   "execution_count": 20,
   "metadata": {
    "scrolled": true
   },
   "outputs": [
    {
     "name": "stdout",
     "output_type": "stream",
     "text": [
      "-0.11478401140109963\n",
      "-0.23142824908910517\n",
      "-0.14316682485915652\n",
      "-0.1780704488871939\n",
      "-0.20806455712704763\n",
      "-0.1460476008960713\n",
      "0.5772720089446466\n",
      "0.5720163366974098\n",
      "0.5717568249794962\n",
      "0.5702933735878013\n",
      "0.5710307441946677\n",
      "0.570946474026756\n",
      "0.5685269428719659\n",
      "0.5387322305057608\n",
      "0.5479240636602811\n",
      "-0.11478401140109963\n",
      "-0.23142824908910517\n",
      "-0.14316682485915652\n",
      "-0.1780704488871939\n",
      "-0.20806455712704763\n",
      "-0.1460476008960713\n",
      "0.5772720089446466\n",
      "0.5720163366974098\n",
      "0.5717568249794962\n",
      "0.5702933735878013\n",
      "0.5710307441946677\n",
      "0.570946474026756\n",
      "0.5685269428719659\n",
      "0.5387322305057608\n",
      "0.5479240636602811\n",
      "-0.11478401140109963\n",
      "-0.23142824908910517\n",
      "-0.14316682485915652\n",
      "-0.1780704488871939\n",
      "-0.20806455712704763\n",
      "-0.1460476008960713\n",
      "0.5772720089446466\n",
      "0.5720163366974098\n",
      "0.5717568249794962\n",
      "0.5702933735878013\n",
      "0.5710307441946677\n",
      "0.570946474026756\n",
      "0.5685269428719659\n",
      "0.5387322305057608\n",
      "0.5479240636602811\n",
      "-0.11478401140109963\n",
      "-0.23142824908910517\n",
      "-0.14316682485915652\n",
      "-0.1780704488871939\n",
      "-0.20806455712704763\n",
      "-0.1460476008960713\n",
      "0.5772720089446466\n",
      "0.5720163366974098\n",
      "0.5717568249794962\n",
      "0.5702933735878013\n",
      "0.5710307441946677\n",
      "0.570946474026756\n",
      "0.5685269428719659\n",
      "0.5387322305057608\n",
      "0.5479240636602811\n",
      "-0.11478401140109963\n",
      "-0.23142824908910517\n",
      "-0.14316682485915652\n",
      "-0.1780704488871939\n",
      "-0.20806455712704763\n",
      "-0.1460476008960713\n",
      "0.5772720089446466\n",
      "0.5720163366974098\n",
      "0.5717568249794962\n",
      "0.5702933735878013\n",
      "0.5710307441946677\n",
      "0.570946474026756\n",
      "0.5685269428719659\n",
      "0.5387322305057608\n",
      "0.5479240636602811\n",
      "-0.11478401140109963\n",
      "-0.23142824908910517\n",
      "-0.14316682485915652\n",
      "-0.1780704488871939\n",
      "-0.20806455712704763\n",
      "-0.1460476008960713\n",
      "0.5772720089446466\n",
      "0.5720163366974098\n",
      "0.5717568249794962\n",
      "0.5702933735878013\n",
      "0.5710307441946677\n",
      "0.570946474026756\n",
      "0.5685269428719659\n",
      "0.5387322305057608\n",
      "0.5479240636602811\n",
      "-0.11478401140109963\n",
      "-0.23142824908910517\n",
      "-0.14316682485915652\n",
      "-0.1780704488871939\n",
      "-0.20806455712704763\n",
      "-0.1460476008960713\n",
      "0.5772720089446466\n",
      "0.5720163366974098\n",
      "0.5717568249794962\n",
      "0.5702933735878013\n",
      "0.5710307441946677\n",
      "0.570946474026756\n",
      "0.5685269428719659\n",
      "0.5387322305057608\n",
      "0.5479240636602811\n"
     ]
    }
   ],
   "source": [
    "#Now the same thing with HDBSCAN. Comments are the same when the code is the same or equivalent.\n",
    "import hdbscan\n",
    "from sklearn.metrics import silhouette_score\n",
    "\n",
    "#del hdbg\n",
    "#del group_distances\n",
    "#del diff_distances\n",
    "\n",
    "#del hdbg\n",
    "#del group_distances\n",
    "#del diff_distances\n",
    "#The parameters tested are the same. \n",
    "eOpt=[0.05,0.075,0.1,0.12,0.15,0.2,0.25]\n",
    "#MSamples=[1,2,3,4,5,6,7,8,9,10,11,12,13,14,15]\n",
    "MSamples=[1,10,25,50,75,100,150,200,250,350,500,600,750,900,1000]\n",
    "\n",
    "#We'll save the results of the best output. We'll measure the best one as that which minimizes the distances \n",
    "#between members of the same cluster. We don't minimize the median distance between members of the same and \n",
    "#different clusters as this might favor a low intercluster distance.\n",
    "\n",
    "#The parameters to be saved are the intra cluster distance, the number of clusters, and the difference between the \n",
    "#inter and intra cluster distances.\n",
    "HbestEOpt=0\n",
    "HbestMSamples=0\n",
    "HleastSame=1000000000\n",
    "HleastInter=0\n",
    "\n",
    "#We'll also save the output from every possible combination of parameters.\n",
    "HAllDiff=[]\n",
    "HAllSameDist=[]\n",
    "HNumClusters=[]\n",
    "HSS=[]\n",
    "\n",
    "#Now we test the parameters. We try every possible combination.\n",
    "for EO in eOpt:\n",
    "    for MS in MSamples:\n",
    "#For each we generate the clusterization using the Mash distance data.\n",
    "        hdbg=hdbscan.HDBSCAN(eps=EO,metric=\"precomputed\",min_samples=MS)\n",
    "#We go over the distance matrix and save inter cluster distances in group_distances and intra cluster distances in\n",
    "#diff_distances.\n",
    "        cluster_labels = hdbg.fit_predict(distances)\n",
    "        group_distances=[]\n",
    "        diff_distances=[]\n",
    "\n",
    "        for i in range(1,distances.shape[0]):\n",
    "            for j in range(0,i):\n",
    "                if cluster_labels[i]==cluster_labels[j]:\n",
    "                    group_distances.append(distances[i,j])\n",
    "                else:\n",
    "                    diff_distances.append(distances[i,j])\n",
    "#We save the values in the adequate lists.\n",
    "        HthisDiff=mean(diff_distances)-mean(group_distances)\n",
    "        HthisDist=mean(group_distances)\n",
    "        HNumClusters.append((max(cluster_labels)+2))\n",
    "        HAllDiff.append(HthisDiff)\n",
    "        HAllSameDist.append(HthisDist)\n",
    "        try:\n",
    "            ss=silhouette_score(distances,hdbg.labels_,metric='precomputed')\n",
    "            print(ss)\n",
    "            HSS.append(ss)\n",
    "        except ValueError:\n",
    "            print(-1)\n",
    "            HSS.append(-1)\n",
    "        del hdbg\n",
    "\n",
    "#As a failsafe, we make sure that the median intra group distance is smaller than the median inter group distance.\n",
    "        if median(diff_distances)<=median(group_distances):\n",
    "            continue\n",
    "        \n",
    "        del group_distances\n",
    "        del diff_distances\n",
    "#If the median intra cluster distance is smaller than the smallest one so far, the parameters for the best \n",
    "#clusterization are updated.            \n",
    "        if HthisDist<HleastSame:\n",
    "            HbestEOpt=EO\n",
    "            HbestMSamples=MS\n",
    "            HleastSame=HthisDist\n",
    "            HleastInter=HthisDiff"
   ]
  },
  {
   "cell_type": "code",
   "execution_count": 21,
   "metadata": {},
   "outputs": [
    {
     "name": "stdout",
     "output_type": "stream",
     "text": [
      "0.05\n",
      "100\n",
      "0.2374057015302246\n",
      "0.19407015170747977\n"
     ]
    }
   ],
   "source": [
    "#We print the parameters of the best models.\n",
    "print(HbestEOpt)\n",
    "print(HbestMSamples)\n",
    "print(HleastSame)\n",
    "print(HleastInter)"
   ]
  },
  {
   "cell_type": "code",
   "execution_count": 26,
   "metadata": {},
   "outputs": [
    {
     "data": {
      "text/plain": [
       "<matplotlib.legend.Legend at 0x7f596c1f5a90>"
      ]
     },
     "execution_count": 26,
     "metadata": {},
     "output_type": "execute_result"
    },
    {
     "data": {
      "image/png": "[encoded data removed]",
      "text/plain": [
       "<Figure size 432x288 with 1 Axes>"
      ]
     },
     "metadata": {
      "needs_background": "light"
     },
     "output_type": "display_data"
    }
   ],
   "source": [
    "#Now we graph the behaviour of model performance. Here, difference in median intra and inter cluster distance.\n",
    "eOpt=[0.05,0.075,0.1,0.12,0.15,0.2,0.25]\n",
    "#plot(arange(0,15),HAllDiff[0:15],label=\"0.05\")\n",
    "#plot(arange(0,15),HAllDiff[15:30],label=\"0.075\")\n",
    "#plot(arange(0,15),HAllDiff[30:45],label=\"0.1\")\n",
    "#plot(arange(0,15),HAllDiff[45:60],label=\"0.12\")\n",
    "#plot(arange(0,15),HAllDiff[60:75],label=\"0.15\")\n",
    "#plot(arange(0,15),HAllDiff[75:90],label=\"0.2\")\n",
    "#plot(arange(0,15),HAllDiff[90:105],label=\"0.25\")\n",
    "plot([1,10,25,50,75,100,150,200,250,350,500,600,750,900,1000],HAllDiff[0:15],label=\"0.05\")\n",
    "plot([1,10,25,50,75,100,150,200,250,350,500,600,750,900,1000],HAllDiff[15:30],label=\"0.075\")\n",
    "plot([1,10,25,50,75,100,150,200,250,350,500,600,750,900,1000],HAllDiff[30:45],label=\"0.1\")\n",
    "plot([1,10,25,50,75,100,150,200,250,350,500,600,750,900,1000],HAllDiff[45:60],label=\"0.12\")\n",
    "plot([1,10,25,50,75,100,150,200,250,350,500,600,750,900,1000],HAllDiff[60:75],label=\"0.15\")\n",
    "plot([1,10,25,50,75,100,150,200,250,350,500,600,750,900,1000],HAllDiff[75:90],label=\"0.2\")\n",
    "plot([1,10,25,50,75,100,150,200,250,350,500,600,750,900,1000],HAllDiff[90:105],label=\"0.25\")\n",
    "title(\"Inter-Intra Distance Difference\")\n",
    "xlabel(\"MinSamples for Cluster\")\n",
    "ylabel(\"Mash Distance\")\n",
    "legend()"
   ]
  },
  {
   "cell_type": "code",
   "execution_count": 28,
   "metadata": {},
   "outputs": [
    {
     "data": {
      "text/plain": [
       "<matplotlib.legend.Legend at 0x7f596c4e1b90>"
      ]
     },
     "execution_count": 28,
     "metadata": {},
     "output_type": "execute_result"
    },
    {
     "data": {
      "image/png": "[encoded data removed]",
      "text/plain": [
       "<Figure size 432x288 with 1 Axes>"
      ]
     },
     "metadata": {
      "needs_background": "light"
     },
     "output_type": "display_data"
    }
   ],
   "source": [
    "#Next, intra cluster median distance.\n",
    "eOpt=[0.05,0.075,0.1,0.12,0.15,0.2,0.25]\n",
    "#plot(arange(0,15),HAllSameDist[0:15],label=\"0.05\")\n",
    "#plot(arange(0,15),HAllSameDist[15:30],label=\"0.075\")\n",
    "#plot(arange(0,15),HAllSameDist[30:45],label=\"0.1\")\n",
    "#plot(arange(0,15),HAllSameDist[45:60],label=\"0.12\")\n",
    "#plot(arange(0,15),HAllSameDist[60:75],label=\"0.15\")\n",
    "#plot(arange(0,15),HAllSameDist[75:90],label=\"0.2\")\n",
    "#plot(arange(0,15),HAllSameDist[90:105],label=\"0.25\")\n",
    "plot([1,10,25,50,75,100,150,200,250,350,500,600,750,900,1000],HAllSameDist[0:15],label=\"0.05\")\n",
    "plot([1,10,25,50,75,100,150,200,250,350,500,600,750,900,1000],HAllSameDist[15:30],label=\"0.075\")\n",
    "plot([1,10,25,50,75,100,150,200,250,350,500,600,750,900,1000],HAllSameDist[30:45],label=\"0.1\")\n",
    "plot([1,10,25,50,75,100,150,200,250,350,500,600,750,900,1000],HAllSameDist[45:60],label=\"0.12\")\n",
    "plot([1,10,25,50,75,100,150,200,250,350,500,600,750,900,1000],HAllSameDist[60:75],label=\"0.15\")\n",
    "plot([1,10,25,50,75,100,150,200,250,350,500,600,750,900,1000],HAllSameDist[75:90],label=\"0.2\")\n",
    "plot([1,10,25,50,75,100,150,200,250,350,500,600,750,900,1000],HAllSameDist[90:105],label=\"0.25\")\n",
    "title(\"Intra Distance\")\n",
    "xlabel(\"MinSamples for Cluster\")\n",
    "ylabel(\"Mash Distance\")\n",
    "legend()"
   ]
  },
  {
   "cell_type": "code",
   "execution_count": 29,
   "metadata": {},
   "outputs": [
    {
     "data": {
      "text/plain": [
       "<matplotlib.legend.Legend at 0x7f596cdf2bd0>"
      ]
     },
     "execution_count": 29,
     "metadata": {},
     "output_type": "execute_result"
    },
    {
     "data": {
      "image/png": "[encoded data removed]",
      "text/plain": [
       "<Figure size 432x288 with 1 Axes>"
      ]
     },
     "metadata": {
      "needs_background": "light"
     },
     "output_type": "display_data"
    }
   ],
   "source": [
    "#FNow the silhouette scores.\n",
    "eOpt=[0.05,0.075,0.1,0.12,0.15,0.2,0.25]\n",
    "#plot(arange(0,15),HSS[0:15],label=\"0.05\")\n",
    "#plot(arange(0,15),HSS[15:30],label=\"0.075\")\n",
    "#plot(arange(0,15),HSS[30:45],label=\"0.1\")\n",
    "#plot(arange(0,15),HSS[45:60],label=\"0.12\")\n",
    "#plot(arange(0,15),HSS[60:75],label=\"0.15\")\n",
    "#plot(arange(0,15),HSS[75:90],label=\"0.2\")\n",
    "#plot(arange(0,15),HSS[90:105],label=\"0.25\")\n",
    "plot([1,10,25,50,75,100,150,200,250,350,500,600,750,900,1000],HSS[0:15],label=\"0.05\")\n",
    "plot([1,10,25,50,75,100,150,200,250,350,500,600,750,900,1000],HSS[15:30],label=\"0.075\")\n",
    "plot([1,10,25,50,75,100,150,200,250,350,500,600,750,900,1000],HSS[30:45],label=\"0.1\")\n",
    "plot([1,10,25,50,75,100,150,200,250,350,500,600,750,900,1000],HSS[45:60],label=\"0.12\")\n",
    "plot([1,10,25,50,75,100,150,200,250,350,500,600,750,900,1000],HSS[60:75],label=\"0.15\")\n",
    "plot([1,10,25,50,75,100,150,200,250,350,500,600,750,900,1000],HSS[75:90],label=\"0.2\")\n",
    "plot([1,10,25,50,75,100,150,200,250,350,500,600,750,900,1000],HSS[90:105],label=\"0.25\")\n",
    "title(\"Silhouette Scores\")\n",
    "xlabel(\"MinSamples for Cluster\")\n",
    "ylabel(\"Silhouette Scores\")\n",
    "legend()"
   ]
  },
  {
   "cell_type": "code",
   "execution_count": 30,
   "metadata": {},
   "outputs": [
    {
     "data": {
      "text/plain": [
       "<matplotlib.legend.Legend at 0x7f596c037f90>"
      ]
     },
     "execution_count": 30,
     "metadata": {},
     "output_type": "execute_result"
    },
    {
     "data": {
      "image/png": "[encoded data removed]",
      "text/plain": [
       "<Figure size 432x288 with 1 Axes>"
      ]
     },
     "metadata": {
      "needs_background": "light"
     },
     "output_type": "display_data"
    }
   ],
   "source": [
    "#Finally, the number of clusters.\n",
    "eOpt=[0.05,0.075,0.1,0.12,0.15,0.2,0.25]\n",
    "#plot(arange(0,15),HNumClusters[0:15],label=\"0.05\")\n",
    "#plot(arange(0,15),HNumClusters[15:30],label=\"0.075\")\n",
    "#plot(arange(0,15),HNumClusters[30:45],label=\"0.1\")\n",
    "#plot(arange(0,15),HNumClusters[45:60],label=\"0.12\")\n",
    "#plot(arange(0,15),HNumClusters[60:75],label=\"0.15\")\n",
    "#plot(arange(0,15),HNumClusters[75:90],label=\"0.2\")\n",
    "#plot(arange(0,15),HNumClusters[90:105],label=\"0.25\")\n",
    "plot([1,10,25,50,75,100,150,200,250,350,500,600,750,900,1000],HNumClusters[0:15],label=\"0.05\")\n",
    "plot([1,10,25,50,75,100,150,200,250,350,500,600,750,900,1000],HNumClusters[15:30],label=\"0.075\")\n",
    "plot([1,10,25,50,75,100,150,200,250,350,500,600,750,900,1000],HNumClusters[30:45],label=\"0.1\")\n",
    "plot([1,10,25,50,75,100,150,200,250,350,500,600,750,900,1000],HNumClusters[45:60],label=\"0.12\")\n",
    "plot([1,10,25,50,75,100,150,200,250,350,500,600,750,900,1000],HNumClusters[60:75],label=\"0.15\")\n",
    "plot([1,10,25,50,75,100,150,200,250,350,500,600,750,900,1000],HNumClusters[75:90],label=\"0.2\")\n",
    "plot([1,10,25,50,75,100,150,200,250,350,500,600,750,900,1000],HNumClusters[90:105],label=\"0.25\")\n",
    "title(\"Number of Clusters\")\n",
    "xlabel(\"MinSamples for Cluster\")\n",
    "ylabel(\"Number of Clusters\")\n",
    "legend()"
   ]
  },
  {
   "cell_type": "markdown",
   "metadata": {},
   "source": [
    "#### Agglomerative Clustering"
   ]
  },
  {
   "cell_type": "code",
   "execution_count": 18,
   "metadata": {},
   "outputs": [
    {
     "name": "stdout",
     "output_type": "stream",
     "text": [
      "0.01\n",
      "0.02334568129423912\n",
      "0.03538461538461538\n",
      "0.09116568401515389\n",
      "0.06076923076923077\n",
      "0.13463380013238252\n",
      "0.08615384615384615\n",
      "0.15862749642483073\n",
      "0.11153846153846153\n",
      "0.15178872729627657\n",
      "0.13692307692307693\n",
      "0.14782045536750132\n",
      "0.16230769230769232\n",
      "0.14477655125707817\n",
      "0.18769230769230769\n",
      "0.13804190885026243\n",
      "0.21307692307692308\n",
      "0.13232563427992522\n",
      "0.23846153846153847\n",
      "0.12364474265507008\n",
      "0.26384615384615384\n",
      "0.13614414985254858\n",
      "0.28923076923076924\n",
      "0.13266745930828783\n",
      "0.31461538461538463\n",
      "0.12813807891150825\n",
      "0.34\n",
      "0.12419147564033077\n",
      "0.36538461538461536\n",
      "0.12520115248111502\n",
      "0.39076923076923076\n",
      "0.142855874765119\n",
      "0.41615384615384615\n",
      "0.13678186083387237\n",
      "0.44153846153846155\n",
      "0.13678186083387237\n",
      "0.46692307692307694\n",
      "0.13678186083387237\n",
      "0.4923076923076923\n",
      "0.13678186083387237\n",
      "0.5176923076923077\n",
      "0.13678186083387237\n",
      "0.5430769230769231\n",
      "0.13678186083387237\n",
      "0.5684615384615385\n",
      "0.13678186083387237\n",
      "0.5938461538461538\n",
      "0.13678186083387237\n",
      "0.6192307692307693\n",
      "0.13678186083387237\n",
      "0.6446153846153846\n",
      "0.13678186083387237\n",
      "0.67\n",
      "0.13678186083387237\n",
      "0.6953846153846154\n",
      "0.13678186083387237\n",
      "0.7207692307692307\n",
      "0.13678186083387237\n",
      "0.7461538461538462\n",
      "0.13678186083387237\n",
      "0.7715384615384615\n",
      "0.13678186083387237\n",
      "0.796923076923077\n",
      "0.13678186083387237\n",
      "0.8223076923076923\n",
      "0.13678186083387237\n",
      "0.8476923076923076\n",
      "0.13678186083387237\n",
      "0.8730769230769231\n",
      "0.13678186083387237\n",
      "0.8984615384615384\n",
      "0.13678186083387237\n",
      "0.9238461538461539\n",
      "0.13678186083387237\n",
      "0.9492307692307692\n",
      "0.13678186083387237\n",
      "0.9746153846153846\n",
      "0.13678186083387237\n",
      "1.0\n",
      "0.13678186083387237\n"
     ]
    }
   ],
   "source": [
    "#Next one is agglomerative clustering. We only need to tune either the distance threshold or number of clusters.\n",
    "from sklearn.cluster import AgglomerativeClustering\n",
    "from sklearn.metrics import silhouette_score\n",
    "\n",
    "#We define the list with the parameter (either of the two).\n",
    "Params=linspace(0.01,1,40)\n",
    "\n",
    "#We design variables to save the best silhouette score, number of clusters, and best parameter.\n",
    "bestParam=0\n",
    "bestSS=-2\n",
    "bestNumClust=0\n",
    "\n",
    "#We'll also save the output from every possible combination of parameters.\n",
    "AllParams=[]\n",
    "SS=[]\n",
    "NumClusters=[]\n",
    "\n",
    "#Now we test the parameters.\n",
    "for param in Params:\n",
    "        print(param)\n",
    "#For each we generate the agglomerative clusterization.\n",
    "        clustering=AgglomerativeClustering(distance_threshold=param, linkage='complete',affinity='precomputed',n_clusters=None).fit(distances)\n",
    "\n",
    "#We save the number of clusters in NumClusters.\n",
    "        NumClusters.append((max(clustering.labels_)+1))\n",
    "        try:\n",
    "            ss=silhouette_score(distances,clustering.labels_,metric='precomputed')\n",
    "            print(ss)\n",
    "            SS.append(ss)\n",
    "        except ValueError:\n",
    "            print(-1)\n",
    "            SS.append(-1)\n",
    "\n",
    "        #If the median intra cluster distance is smaller than the smallest one so far, the parameters for the best \n",
    "#clusterization are updated.\n",
    "        if bestSS<ss:\n",
    "            bestParam=param\n",
    "            bestSS=ss\n",
    "            bestNumClust=(max(clustering.labels_)+1)"
   ]
  },
  {
   "cell_type": "code",
   "execution_count": 19,
   "metadata": {},
   "outputs": [
    {
     "data": {
      "text/plain": [
       "Text(0, 0.5, 'Silhouette Score')"
      ]
     },
     "execution_count": 19,
     "metadata": {},
     "output_type": "execute_result"
    },
    {
     "data": {
      "image/png": "[encoded data removed]",
      "text/plain": [
       "<Figure size 432x288 with 1 Axes>"
      ]
     },
     "metadata": {
      "needs_background": "light"
     },
     "output_type": "display_data"
    }
   ],
   "source": [
    "#Now the silhouette score.\n",
    "plot(Params,SS)\n",
    "title(\"Silhouette Score\")\n",
    "xlabel(\"Parameter (Distance Threshold)\")\n",
    "ylabel(\"Silhouette Score\")\n",
    "#yscale(\"log\")"
   ]
  },
  {
   "cell_type": "code",
   "execution_count": 21,
   "metadata": {},
   "outputs": [
    {
     "data": {
      "image/png": "[encoded data removed]",
      "text/plain": [
       "<Figure size 432x288 with 1 Axes>"
      ]
     },
     "metadata": {
      "needs_background": "light"
     },
     "output_type": "display_data"
    }
   ],
   "source": [
    "#Finally, the number of clusters.\n",
    "plot(Params,NumClusters)\n",
    "title(\"Number of Clusters\")\n",
    "xlabel(\"Parameter (Distance Threshold)\")\n",
    "ylabel(\"Number of Clusters\")\n",
    "yscale(\"log\")"
   ]
  },
  {
   "cell_type": "code",
   "execution_count": null,
   "metadata": {},
   "outputs": [],
   "source": []
  }
 ],
 "metadata": {
  "kernelspec": {
   "display_name": "Python 3",
   "language": "python",
   "name": "python3"
  },
  "language_info": {
   "codemirror_mode": {
    "name": "ipython",
    "version": 3
   },
   "file_extension": ".py",
   "mimetype": "text/x-python",
   "name": "python",
   "nbconvert_exporter": "python",
   "pygments_lexer": "ipython3",
   "version": "3.7.10"
  }
 },
 "nbformat": 4,
 "nbformat_minor": 4
}
