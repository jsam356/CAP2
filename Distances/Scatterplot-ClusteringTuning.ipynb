{
 "cells": [
  {
   "cell_type": "markdown",
   "metadata": {},
   "source": [
    "**This notebook borrows most of the code of Scatterplot. Its objective is to test different parameters for the clusterization of DBSCAN and HDBSCAN.**\n",
    "\n",
    "Code for chunks shared with the Scatterplot notebook are the same. The descriptions of what each subsection does are omitted for those shared chunks."
   ]
  },
  {
   "cell_type": "markdown",
   "metadata": {},
   "source": [
    "#### Data Load"
   ]
  },
  {
   "cell_type": "code",
   "execution_count": 2,
   "metadata": {},
   "outputs": [
    {
     "name": "stdout",
     "output_type": "stream",
     "text": [
      "Populating the interactive namespace from numpy and matplotlib\n"
     ]
    }
   ],
   "source": [
    "%pylab inline\n",
    "import umap"
   ]
  },
  {
   "cell_type": "code",
   "execution_count": 3,
   "metadata": {},
   "outputs": [],
   "source": [
    "#So far the data is divided in an initial set and a series of additionla batches of data (so far one).\n",
    "\n",
    "#ids will save the ids of the sample (SRAs), projects will save the bioproject identifiers (PJRNA).\n",
    "ids=[]\n",
    "projects=[]\n",
    "\n",
    "#The ids and corresponding project of the first batch is loaded first from Proj_UID. Proj_UID was generated\n",
    "#in the ProjectMatch notebook. in the Match folder.\n",
    "FirstBatch=open(\"Proj_UID.csv\",\"r\")\n",
    "\n",
    "for line in FirstBatch:\n",
    "    line=line.strip(\"\\n\").split(\";\")\n",
    "    ids.append(line[0])\n",
    "    projects.append(line[1])"
   ]
  },
  {
   "cell_type": "code",
   "execution_count": 4,
   "metadata": {},
   "outputs": [],
   "source": [
    "#The second batch is loaded in the same way. Proj_UIDBatch2 was generated\n",
    "#in the CheckforNew notebook in the Distances folder.\n",
    "SecondBatch=open(\"Proj_UIDBatch2.csv\",\"r\")\n",
    "\n",
    "for line in SecondBatch:\n",
    "    line=line.strip(\"\\n\").split(\";\")\n",
    "    \n",
    "    if line[0] in ids:\n",
    "        continue\n",
    "    else:\n",
    "        ids.append(line[0])\n",
    "    projects.append(line[1])"
   ]
  },
  {
   "cell_type": "code",
   "execution_count": 6,
   "metadata": {},
   "outputs": [],
   "source": [
    "#Now we load the Mash distances. Here they are loaded in the tabular output format of Mash Triangle \n",
    "#generated with the -E flag (if I'm not wrong).\n",
    "phy=open(\"NewDistances.tab\",\"r\")\n",
    "\n",
    "#The distances are saved in a matrix. The dimensions of the matrix can be found by determining the length\n",
    "#of ids.\n",
    "distances=np.zeros((1617,1617))\n",
    "\n",
    "#At each line the tab file is parsed and the distances added. The file includes, amongst others, the \n",
    "#id of all pairs of samples and their distance. We parse the ids and distance and place the distance in\n",
    "#the corresponding spot in the distance matrix, so that the order of samples in the list ids corresponds \n",
    "#to the distances in the matrix.\n",
    "for line in phy:\n",
    "    line=line.strip(\"\\n\").split(\"\\t\")\n",
    "    id1=line[0].split(\"_\")[0].split(\"/\")[1]\n",
    "    id2=line[1].split(\"_\")[0].split(\"/\")[1]\n",
    "    dist=float(line[2])\n",
    "    \n",
    "    distances[ids.index(id1),ids.index(id2)]=dist\n",
    "    distances[ids.index(id2),ids.index(id1)]=dist\n",
    "phy.close()"
   ]
  },
  {
   "cell_type": "code",
   "execution_count": 7,
   "metadata": {},
   "outputs": [
    {
     "name": "stdout",
     "output_type": "stream",
     "text": [
      "776\n"
     ]
    }
   ],
   "source": [
    "#Hereon we're interested in a dereplicated list of all projects, so we dereplicate projects ans save as\n",
    "#Ordprojects (for now).\n",
    "Ordprojects=list(set(projects))\n",
    "print(len(Ordprojects))"
   ]
  },
  {
   "cell_type": "code",
   "execution_count": 8,
   "metadata": {},
   "outputs": [],
   "source": [
    "#We generate col, a list which will map every sample to a number, and that number to a given project, based\n",
    "#on the order of appareance of the projects in Proj_UID and Proj_UIDBatch2. More on col below.\n",
    "col=[]\n",
    "\n",
    "for i in projects:\n",
    "    col.append(Ordprojects.index(i))"
   ]
  },
  {
   "cell_type": "code",
   "execution_count": 9,
   "metadata": {},
   "outputs": [],
   "source": [
    "#The original ordered project list, with the ith positions having the project of the ith id, is saved in\n",
    "#UnOrdprojects, while the dereplicated list is now saved simply as projects.\n",
    "UnOrdprojects=projects\n",
    "projects=Ordprojects"
   ]
  },
  {
   "cell_type": "markdown",
   "metadata": {},
   "source": [
    "#### Data Load (Keywords and MeSH)"
   ]
  },
  {
   "cell_type": "code",
   "execution_count": 10,
   "metadata": {},
   "outputs": [],
   "source": [
    "#Now we move on to load the keywords and MeSH terms for the bioprojects which have them. In general almost\n",
    "#all bioprojects have keywords, while only a handful have MeSH Terms.\n",
    "\n",
    "#For keywords the file Papers-Grid_Min.csv (custom made based on the Airtable data) contains the title of the\n",
    "#project (or paper if there's a paper), the bioproject identifier and the keywords from airtable.\n",
    "fpapers=open(\"Papers-Grid_Min.csv\",\"r\",encoding=\"utf-8\")\n",
    "\n",
    "#We'll save the keywords per project in keywords and the projects corresponding to each set of keywords in\n",
    "#ProjforKeywords. Note that we're mapping projects to keywords, not samples to keywords. Also, since \n",
    "#Papers-Grid_Min.csv was downloaded from Airtable, the order of the projects is not necessarily the same as \n",
    "#in the list projects generated above (that's why we need another list).\n",
    "ProjforKeywords=[]\n",
    "keywords=[]\n",
    "\n",
    "for line in fpapers:\n",
    "#We use the PRJNA in the project id as a separator and get the list of keywords from every project.\n",
    "    if \"PRJNA\" in line:\n",
    "        line=line.strip(\"\\n\").split('PRJNA')\n",
    "        projectID=\"PRJNA\"+line[1].split(\",\")[0].split(\";\")[0].split(\".pdf\")[0].split(\")\")[0]\n",
    "\n",
    "#Since we're only interested in the keywords of the projects whose samples have Mash distances, we filter\n",
    "#the projects and get the keywords of those which are present in Proj_UID.csv or Proj_UIDBatch2.csv.\n",
    "        if projectID in projects:\n",
    "            ProjforKeywords.append(projectID)\n",
    "            Prelkeywords=line[1].split(\",\")[1::]\n",
    "            Realkeywords=[]\n",
    "            for i in Prelkeywords:\n",
    "                if i==\"\":\n",
    "                    continue\n",
    "                else:\n",
    "#keywords are added in lowercase.\n",
    "                    Realkeywords.append(i.lower())\n",
    "            keywords.append(Realkeywords)\n",
    "fpapers.close()"
   ]
  },
  {
   "cell_type": "code",
   "execution_count": 11,
   "metadata": {},
   "outputs": [],
   "source": [
    "#Now we define a dictionary which will store the projects (value) associated to each keyword (key) present\n",
    "#in the dataset. \n",
    "kwordtoProj={}\n",
    "\n",
    "for i in range(len(keywords)):\n",
    "    for j in keywords[i]:\n",
    "        if j in kwordtoProj.keys():\n",
    "            kwordtoProj[j].append(ProjforKeywords[i])\n",
    "        else:\n",
    "             kwordtoProj[j]=[ProjforKeywords[i]]"
   ]
  },
  {
   "cell_type": "code",
   "execution_count": 12,
   "metadata": {},
   "outputs": [],
   "source": [
    "#For MeSH terms we employ the file MeSHTerms.csv which contains the major and minor MeSH terms per \n",
    "#article and project. This csv is partly made with notebook Title_Description_Extraction.csv in \n",
    "#Match/Keywords_MeSH, and partly done manually.\n",
    "\n",
    "MeShTerms=open(\"MeSHTerms.csv\",\"r\",encoding=\"utf-8\")\n",
    "\n",
    "#We generate lists to hold the major and minor MeSH terms per bioproject (MeSHMaj and MeSHMin), and the \n",
    "#bioprojects which have them in the order they are found in MeSHTerms.csv\n",
    "ProjforMeSH=[]\n",
    "MesHMaj=[]\n",
    "MesHMin=[]\n",
    "\n",
    "#These two are temporary lists for holding the terms associated to single bioprojects.\n",
    "thisMaj=[]\n",
    "tempMin=[]\n",
    "\n",
    "#Due to the way the csv with the MeSH terms is structured, a variable with the first project id in the file\n",
    "#needs to be defined.\n",
    "Currentproject=\"PRJNA450123\"\n",
    "\n",
    "#Now the meSH terms are loaded.\n",
    "while True:\n",
    "    line = MeShTerms.readline()\n",
    "    if line is None or line=='':\n",
    "        break\n",
    "    else:\n",
    "#The file has one line per Major-Minor MeSh term combination in each specific project, so there are many\n",
    "#lines associated to each project.\n",
    "        line=line.strip(\"\\n\").split(\";\")\n",
    "        if line[1]==Currentproject:\n",
    "            thisMaj.append(line[2])\n",
    "            thisMin=[]\n",
    "#While the same bioproject appears in the following line, we add Major and Minor terms into temporary lists.\n",
    "            for i in range(3,len(line)):\n",
    "                if line[i]!=\"\":\n",
    "                    thisMin.append(line[i])\n",
    "            tempMin.append(thisMin)\n",
    "#When the bioproject changes we save the terms of the prior bioproject in their corresponding lists.\n",
    "        else:\n",
    "            MesHMaj.append(thisMaj)\n",
    "            MesHMin.append(tempMin)\n",
    "            Currentproject=line[1]\n",
    "            ProjforMeSH.append(line[1])\n",
    "            thisMaj=[line[2]]\n",
    "            tempMin=[]\n",
    "            thisMin=[]\n",
    "            for i in range(3,len(line)):\n",
    "                if line[i]!=\"\":\n",
    "                    thisMin.append(line[i])\n",
    "            tempMin.append(thisMin)\n",
    "    \n",
    "MeShTerms.close()"
   ]
  },
  {
   "cell_type": "code",
   "execution_count": 13,
   "metadata": {},
   "outputs": [],
   "source": [
    "#We generate dictionaries with the Major and Minor MeSH terms (key) and the bioprojects the're included\n",
    "#in (value).\n",
    "\n",
    "#Note that for minor MeSH terms we're considering the combination of the major and the minor term as a key,\n",
    "#to avoid ambiguities.\n",
    "MajMeSHtoProj={}\n",
    "MinMeSHtoProj={}\n",
    "\n",
    "for i in range(len(MesHMaj)):\n",
    "    for j in range(len(MesHMaj[i])):\n",
    "        if MesHMaj[i][j] in MajMeSHtoProj.keys():\n",
    "            MajMeSHtoProj[MesHMaj[i][j]].append(ProjforMeSH[i])\n",
    "        else:\n",
    "             MajMeSHtoProj[MesHMaj[i][j]]=[ProjforMeSH[i]]\n",
    "#Major and minor MeSH combinations are separated by _ to make them easily distinguishable.\n",
    "        for z in MesHMin[i][j]:\n",
    "            if MesHMaj[i][j]+\"_\"+z in MinMeSHtoProj.keys():\n",
    "                MinMeSHtoProj[MesHMaj[i][j]+\"_\"+z].append(ProjforMeSH[i])\n",
    "            else:\n",
    "                MinMeSHtoProj[MesHMaj[i][j]+\"_\"+z]=[ProjforMeSH[i]]"
   ]
  },
  {
   "cell_type": "markdown",
   "metadata": {},
   "source": [
    "#### Search abstracts for keywords"
   ]
  },
  {
   "cell_type": "code",
   "execution_count": 14,
   "metadata": {},
   "outputs": [],
   "source": [
    "#Some of the projects we're working with have abstracts in Airtable which might contain the keywords which\n",
    "#are associated to the projects. Therefore, it makes sense to look for keywords in the abstracts of the \n",
    "#projects, to make sure that all bioprojects which have a given keyword in their abstracts (but not in their\n",
    "#original set of keywords) now have that keyword.\n",
    "\n",
    "#Note that abstracts in Airtable might be shorts descriptions or paper abstracts per se, depending\n",
    "#on the case.\n",
    "\n",
    "#The abstracts are saved in Abstracts.csv, which contains the title of the project, the project ID, and the\n",
    "#abstract itself.\n",
    "abst=open(\"Abstracts.csv\",\"r\",encoding=\"utf-8\")\n",
    "\n",
    "while True:\n",
    "    line = abst.readline()\n",
    "    if line is None or line=='':\n",
    "        break\n",
    "#Due to the way the Airtable information must be downloaded, abstracts can span multiple lines in the file.\n",
    "#We look for the PJRNA in the bioproject identifier and use that to identify the beggining of an abstract\n",
    "#and save all its lines.\n",
    "    else:\n",
    "        if \"PRJNA\" in line:\n",
    "            line=line.strip(\"\\n\").split(\"PRJNA\")\n",
    "            projectID=\"PRJNA\"+line[1].split(\",\")[0].split(\";\")[0].split(\".pdf\")[0].split(\")\")[0]\n",
    "            #print(projectID)\n",
    "#Naturally we only consider projects whose samples have Mash distances.\n",
    "            if projectID in projects:\n",
    "                try:\n",
    "#Some of the abstracts begin with double quotes, which are used to mark the beggining and end of them, so \n",
    "#they're used to parse them and mark the end of the abstract.\n",
    "                    text=line[1].split('\"')[-2]\n",
    "                    while '\"' not in text:\n",
    "#When an abstract is found all its line are searched for the presence of any of the keywords. if any its find\n",
    "#and its not already associated to the bioproject, the bioproject is added to the list of projects in the \n",
    "#keyword dictionary, and the keyword added to the list of keywords for that bioproject.\n",
    "                        for j in kwordtoProj.keys():\n",
    "                            if j in text.lower() and projectID not in kwordtoProj[j]:\n",
    "                                kwordtoProj[j].append(projectID)\n",
    "                                keywords[ProjforKeywords.index(projectID)].append(j)\n",
    "                        text=abst.readline().strip(\"\\n\")\n",
    "#For abstracts without double quotes we use commas.\n",
    "                except IndexError:\n",
    "                    text=line[1].split(',')[-1]\n",
    "                    for j in kwordtoProj.keys():\n",
    "                            if j in text.lower() and projectID not in kwordtoProj[j]:\n",
    "                                kwordtoProj[j].append(projectID)\n",
    "                                keywords[ProjforKeywords.index(projectID)].append(j)\n",
    "abst.close()"
   ]
  },
  {
   "cell_type": "markdown",
   "metadata": {},
   "source": [
    "#### Consolidate keywords by presence of specific words"
   ]
  },
  {
   "cell_type": "code",
   "execution_count": null,
   "metadata": {},
   "outputs": [],
   "source": [
    "#Now we move on to consolidate keywords if necessary. Consolidate means group together keywords which directly \n",
    "#mean the same thing (Permanent or Primary Consolidation) and those which are related (Secondary Consolidation).\n",
    "\n",
    "#Both consolidations are given by two csv files which are custom made: PermanentConsolidation.csv and \n",
    "#SecondaryConsolidation.csv. They contain in the first column the word in which the keywords will be consolidated \n",
    "#(consolidated term), and in the rest of the columns the keywords already present which will be consolidated \n",
    "#into the word in the first columns.\n",
    "\n",
    "#We do the same procedure for both files. First we open them.\n",
    "PC=open(\"PermanentConsolidation.csv\",\"r\")\n",
    "\n",
    "#Then a dictionary is defined with the keys being the word to consolidate and the values lists of the present\n",
    "#keywords to be consolidated into that word.\n",
    "FirstConsolidate={}\n",
    "\n",
    "for line in PC:\n",
    "    line=line.strip(\"\\n\").split(\";\")\n",
    "    \n",
    "#The keywords present are appended in lower case to coincide with the ones in kwordtoProj.\n",
    "    thisList=[]\n",
    "    for i in line[1::]:\n",
    "        if i!=\"\":\n",
    "            thisList.append(i.lower())\n",
    "    FirstConsolidate[line[0]]=thisList\n",
    "\n",
    "PC.close()\n",
    "\n",
    "#The secondary consolidate file is parsed in the same way.\n",
    "SC=open(\"SecondaryConsolidation.csv\",\"r\")\n",
    "\n",
    "SecondaryConsolidate={}\n",
    "\n",
    "for line in SC:\n",
    "    line=line.strip(\"\\n\").split(\";\")\n",
    "    \n",
    "    thisList=[]\n",
    "    for i in line[1::]:\n",
    "        if i!=\"\":\n",
    "            thisList.append(i.lower())\n",
    "#There are two terms which need to be handled uniquely due to they being consolidated terms for the first consolidation\n",
    "#but being then consolidated into other term in the second consolidation.\n",
    "        if \"cabbage looper\" in thisList:\n",
    "            thisList[thisList.index(\"cabbage looper\")]=\"Cabbage looper\"\n",
    "        if \"16s\" in thisList:\n",
    "            thisList[thisList.index(\"16s\")]=\"16S\"\n",
    "    SecondaryConsolidate[line[0]]=thisList\n",
    "\n",
    "SC.close()"
   ]
  },
  {
   "cell_type": "code",
   "execution_count": null,
   "metadata": {},
   "outputs": [],
   "source": [
    "#The function generate consolidation takes the dictionaries loaded from either PermanentConsolidation.csv or \n",
    "#SecondaryConsolidation.csv and updates kwordtoProj, keywords and ProjforKeywords so that the presence of the\n",
    "#consolidated terms in the projects now shown, and the terms consolidated are erased from those objects.\n",
    "\n",
    "#For the sake of generality, kwordtoProj, keywords and ProjforKeywords are not directly used in the function \n",
    "#definition, but they should be pased as the parameters wordDict,ProjWordList, and ProjtoWord.\n",
    "def generateConsolidation(ConsolidateDict,wordDict,ProjWordList,ProjtoWord):\n",
    "#The function first adds to wordDict the new consolidated terms as keys and the list of the bioprojects they're in\n",
    "#as values. The consolidated terms are also added to the ordered list with keywords per bioproject. The terms to \n",
    "#be consolidated are added to the list toRemove.\n",
    "    toRemove=[]\n",
    "    for NewTerm in ConsolidateDict.keys():\n",
    "        thisList=[]\n",
    "        for OldTerm in ConsolidateDict[NewTerm]:\n",
    "            thisList.extend(wordDict[OldTerm])\n",
    "            toRemove.append(OldTerm)\n",
    "        wordDict[NewTerm]=list(set(thisList))\n",
    "#Here the consolidated terms are added to the ordered list of keywords per bioproject, and the terms to be consolidated\n",
    "#are removed from it.\n",
    "    for proj in ProjtoWord:\n",
    "        for NewTerm in ConsolidateDict.keys():\n",
    "            if proj in wordDict[NewTerm]:\n",
    "                ProjWordList[ProjtoWord.index(proj)].append(NewTerm)\n",
    "        for OldTerm in toRemove:\n",
    "            if proj in wordDict[OldTerm]:\n",
    "                while ProjWordList[ProjtoWord.index(proj)].count(OldTerm)!=0:\n",
    "                    ProjWordList[ProjtoWord.index(proj)].remove(OldTerm)\n",
    "#Finally, the terms to be consolidated are removed from the dictionary of keywords.\n",
    "    for key in toRemove:\n",
    "        try:\n",
    "            del wordDict[key]\n",
    "        except KeyError:\n",
    "            pass"
   ]
  },
  {
   "cell_type": "code",
   "execution_count": null,
   "metadata": {},
   "outputs": [],
   "source": [
    "#We run the first consolidation.\n",
    "generateConsolidation(FirstConsolidate,kwordtoProj,keywords,ProjforKeywords)"
   ]
  },
  {
   "cell_type": "code",
   "execution_count": null,
   "metadata": {},
   "outputs": [],
   "source": [
    "#And if necessary we run the second one.\n",
    "generateConsolidation(SecondaryConsolidate,kwordtoProj,keywords,ProjforKeywords)"
   ]
  },
  {
   "cell_type": "markdown",
   "metadata": {},
   "source": [
    "#### Modify Color Scheme based on given Keywords/MeSH Terms"
   ]
  },
  {
   "cell_type": "code",
   "execution_count": 15,
   "metadata": {},
   "outputs": [],
   "source": [
    "#Now we move to the process of generating coloring schemes for graphing. Earlier we defined col, an ordered list\n",
    "#in which each sample is assigned a number which corresponds to the position of its corresponding bioproject in\n",
    "#the bioprojects list. That will be useful for coloring per project in the graphs. However, we might want to\n",
    "#color by the presence of specific terms.\n",
    "\n",
    "#change_col generates coloring schemes based on the presence of keywords or MeSH terms. dictOne refers to a MeSh or\n",
    "#keyword dictionary, words the terms to be used for the coloring shceme, and all_col whether we should consider\n",
    "#simultaneous presence of different terms in single samples (all_col=1) or not (all_col=0).\n",
    "def change_col(dictOne,words,all_col=0):\n",
    "#First a number is assigned to every term. The range of the number can be changed by changing the value of\n",
    "#z and the line where z number is added to z. The idea of first using 20 and adding 10 is to increase the spread\n",
    "#of the values for having a more divergent coloring in matplotlib.\n",
    "\n",
    "#colmap maps terms to numbers, and numMap numbers to terms.\n",
    "    colmap={}\n",
    "    numMap={}\n",
    "    z=20\n",
    "    for j in words:\n",
    "        colmap[j]=z\n",
    "        numMap[z]=j\n",
    "        z+=10\n",
    "#After the colors are assigned and saved in colmap and numMap then each sample is is checked (using cols to locate\n",
    "#its project) to see if it harbors the term in question. \n",
    "    new_cols=[]\n",
    "    for i in range(len(col)):\n",
    "        proj=projects[col[i]]\n",
    "#If all_col=1 then all terms are checked and the number associated to the sample is the average of the terms\n",
    "#which its bioproject contains. The term itself will be a combination of all the terms present. \n",
    "        if all_col==1:\n",
    "            this_col=[]\n",
    "            thisTerm=\"\"\n",
    "            for j in words:\n",
    "                if proj in dictOne[j]:\n",
    "                    if thisTerm==\"\":\n",
    "                        thisTerm=j\n",
    "                    else:\n",
    "                        thisTerm=thisTerm+\" & \"+j\n",
    "                    this_col.append(colmap[j])\n",
    "            if thisTerm==\"\":\n",
    "#The samples with no terms are assigned 2 as an arbitrary value (this can be changed).\n",
    "                new_cols.append(2)\n",
    "                continue\n",
    "            elif thisTerm not in colmap.keys():\n",
    "                colmap[thisTerm]=[mean(this_col)]\n",
    "                numMap[mean(this_col)]=thisTerm\n",
    "            new_cols.append(mean(this_col))\n",
    "#If all_col=0 then the sample is assigned the first term it has from the ones considered.\n",
    "        else:\n",
    "            found=0\n",
    "            for j in words:\n",
    "                if proj in dictOne[j]:\n",
    "                    new_cols.append(colmap[j])\n",
    "                    found=1\n",
    "                    break\n",
    "            if found==0:\n",
    "                new_cols.append(2)\n",
    "#The function returns the dictionaries mapping colors and terms and the ordered list of new numbers (colors)                \n",
    "#for each sample.\n",
    "    return new_cols,colmap,numMap"
   ]
  },
  {
   "cell_type": "markdown",
   "metadata": {},
   "source": [
    "## Clustering Parameter Analyses"
   ]
  },
  {
   "cell_type": "markdown",
   "metadata": {},
   "source": [
    "Here the different parameters of DBSCAN and HDBSCAN are tested and compared."
   ]
  },
  {
   "cell_type": "markdown",
   "metadata": {},
   "source": [
    "#### dbSCAN"
   ]
  },
  {
   "cell_type": "code",
   "execution_count": 19,
   "metadata": {},
   "outputs": [
    {
     "name": "stdout",
     "output_type": "stream",
     "text": [
      "0.05\n",
      "0.075\n",
      "0.1\n",
      "0.12\n",
      "0.15\n",
      "0.2\n",
      "0.25\n"
     ]
    }
   ],
   "source": [
    "#We'll begin with DBSCAN.\n",
    "from sklearn.cluster import DBSCAN\n",
    "\n",
    "#We define the parameters to be tested. Here we'll only vary the (soft lock on) maximum distance between points of the\n",
    "#same cluster, and the number of samples close to a sample to be considered the center of a cluster.\n",
    "eOpt=[0.05,0.075,0.1,0.12,0.15,0.2,0.25]\n",
    "MSamples=[1,2,3,4,5,6,7,8,9,10,11,12,13,14,15]\n",
    "\n",
    "#We'll save the results of the best output. We'll measure the best one as that which minimizes the distances \n",
    "#between members of the same cluster. We don't minimize the median distance between members of the same and \n",
    "#different clusters as this might favor a low intercluster distance.\n",
    "\n",
    "#The parameters to be saved are the intra cluster distance, the number of clusters, and the difference between the \n",
    "#inter and intra cluster distances.\n",
    "bestEOpt=0\n",
    "bestMSamples=0\n",
    "leastSame=1000000000\n",
    "leastInter=0\n",
    "\n",
    "#We'll also save the output from every possible combination of parameters.\n",
    "AllDiff=[]\n",
    "AllSameDist=[]\n",
    "NumClusters=[]\n",
    "\n",
    "#Now we test the parameters. We try every possible combination.\n",
    "for EO in eOpt:\n",
    "    print(EO)\n",
    "    for MS in MSamples:\n",
    "#For each we generate the clusterization using the Mash distance data.\n",
    "        dbg=DBSCAN(eps=EO,metric=\"precomputed\",min_samples=MS).fit(distances)\n",
    "#We go over the distance matrix and save inter cluster distances in group_distances and intra cluster distances in\n",
    "#diff_distances.\n",
    "        group_distances=[]\n",
    "        diff_distances=[]\n",
    "\n",
    "        for i in range(1,distances.shape[0]):\n",
    "            for j in range(0,i):\n",
    "                if dbg.labels_[i]==dbg.labels_[j]:\n",
    "                    group_distances.append(distances[i,j])\n",
    "                else:\n",
    "                    diff_distances.append(distances[i,j])\n",
    "\n",
    "#We save the values in the adequate lists.\n",
    "        thisDiff=mean(diff_distances)-mean(group_distances)\n",
    "        thisDist=mean(group_distances)\n",
    "        NumClusters.append((max(dbg.labels_)+2))\n",
    "        AllDiff.append(thisDiff)\n",
    "        AllSameDist.append(thisDist)\n",
    "\n",
    "#As a failsafe, we make sure that the median intra group distance is smaller than the median inter group distance.\n",
    "        if median(diff_distances)<=median(group_distances):\n",
    "            continue\n",
    "\n",
    "#If the median intra cluster distance is smaller than the smallest one so far, the parameters for the best \n",
    "#clusterization are updated.\n",
    "        if thisDist<leastSame:\n",
    "            bestEOpt=EO\n",
    "            bestMSamples=MS\n",
    "            leastSame=thisDist\n",
    "            leastInter=thisDiff"
   ]
  },
  {
   "cell_type": "code",
   "execution_count": 20,
   "metadata": {},
   "outputs": [
    {
     "name": "stdout",
     "output_type": "stream",
     "text": [
      "0.05\n",
      "1\n",
      "0.043850096110325316\n",
      "0.5728525513902918\n"
     ]
    }
   ],
   "source": [
    "#We print the parameters of the best models.\n",
    "print(bestEOpt)\n",
    "print(bestMSamples)\n",
    "print(leastSame)\n",
    "print(leastInter)"
   ]
  },
  {
   "cell_type": "code",
   "execution_count": 23,
   "metadata": {},
   "outputs": [
    {
     "data": {
      "text/plain": [
       "<matplotlib.legend.Legend at 0x1e25ea0ab20>"
      ]
     },
     "execution_count": 23,
     "metadata": {},
     "output_type": "execute_result"
    },
    {
     "data": {
      "image/png": "[encoded data removed]",
      "text/plain": [
       "<Figure size 432x288 with 1 Axes>"
      ]
     },
     "metadata": {
      "needs_background": "light"
     },
     "output_type": "display_data"
    }
   ],
   "source": [
    "#Now we graph the behaviour of model performance. Here, difference in median intra and inter cluster distance.\n",
    "eOpt=[0.05,0.075,0.1,0.12,0.15,0.2,0.25]\n",
    "plot(arange(0,15),AllDiff[0:15],label=\"0.05\")\n",
    "plot(arange(0,15),AllDiff[15:30],label=\"0.075\")\n",
    "plot(arange(0,15),AllDiff[30:45],label=\"0.1\")\n",
    "plot(arange(0,15),AllDiff[45:60],label=\"0.12\")\n",
    "plot(arange(0,15),AllDiff[60:75],label=\"0.15\")\n",
    "plot(arange(0,15),AllDiff[75:90],label=\"0.2\")\n",
    "plot(arange(0,15),AllDiff[90:105],label=\"0.25\")\n",
    "title(\"Inter-Intra Distance Difference\")\n",
    "xlabel(\"MinSamples for Cluster\")\n",
    "ylabel(\"Mash Distance\")\n",
    "legend()"
   ]
  },
  {
   "cell_type": "code",
   "execution_count": 26,
   "metadata": {},
   "outputs": [
    {
     "data": {
      "text/plain": [
       "<matplotlib.legend.Legend at 0x1e25eafb1c0>"
      ]
     },
     "execution_count": 26,
     "metadata": {},
     "output_type": "execute_result"
    },
    {
     "data": {
      "image/png": "[encoded data removed]",
      "text/plain": [
       "<Figure size 432x288 with 1 Axes>"
      ]
     },
     "metadata": {
      "needs_background": "light"
     },
     "output_type": "display_data"
    }
   ],
   "source": [
    "#Next, intra cluster median distance.\n",
    "eOpt=[0.05,0.075,0.1,0.12,0.15,0.2,0.25]\n",
    "plot(arange(0,15),AllSameDist[0:15],label=\"0.05\")\n",
    "plot(arange(0,15),AllSameDist[15:30],label=\"0.075\")\n",
    "plot(arange(0,15),AllSameDist[30:45],label=\"0.1\")\n",
    "plot(arange(0,15),AllSameDist[45:60],label=\"0.12\")\n",
    "plot(arange(0,15),AllSameDist[60:75],label=\"0.15\")\n",
    "plot(arange(0,15),AllSameDist[75:90],label=\"0.2\")\n",
    "plot(arange(0,15),AllSameDist[90:105],label=\"0.25\")\n",
    "title(\"Intra Distance\")\n",
    "xlabel(\"MinSamples for Cluster\")\n",
    "ylabel(\"Mash Distance\")\n",
    "legend()"
   ]
  },
  {
   "cell_type": "code",
   "execution_count": 32,
   "metadata": {},
   "outputs": [
    {
     "data": {
      "text/plain": [
       "<matplotlib.legend.Legend at 0x1e258164520>"
      ]
     },
     "execution_count": 32,
     "metadata": {},
     "output_type": "execute_result"
    },
    {
     "data": {
      "image/png": "[encoded data removed]",
      "text/plain": [
       "<Figure size 432x288 with 1 Axes>"
      ]
     },
     "metadata": {
      "needs_background": "light"
     },
     "output_type": "display_data"
    }
   ],
   "source": [
    "#Finally, the number of clusters.\n",
    "eOpt=[0.05,0.075,0.1,0.12,0.15,0.2,0.25]\n",
    "#plot(arange(0,15),NumClusters[0:15],label=\"0.05\")\n",
    "#plot(arange(0,15),NumClusters[15:30],label=\"0.075\")\n",
    "plot(arange(0,15),NumClusters[30:45],label=\"0.1\")\n",
    "#plot(arange(0,15),NumClusters[45:60],label=\"0.12\")\n",
    "#plot(arange(0,15),NumClusters[60:75],label=\"0.15\")\n",
    "#plot(arange(0,15),NumClusters[75:90],label=\"0.2\")\n",
    "#plot(arange(0,15),NumClusters[90:105],label=\"0.25\")\n",
    "title(\"Number of Clusters\")\n",
    "xlabel(\"MinSamples for Cluster\")\n",
    "ylabel(\"Number of Clusters\")\n",
    "yscale(\"log\")\n",
    "legend()"
   ]
  },
  {
   "cell_type": "markdown",
   "metadata": {},
   "source": [
    "#### hdbSCAN"
   ]
  },
  {
   "cell_type": "code",
   "execution_count": 43,
   "metadata": {},
   "outputs": [],
   "source": [
    "#Now the same thing with HDBSCAN. Comments are the same when the code is the same or equivalent.\n",
    "import hdbscan\n",
    "\n",
    "#The parameters tested are the same. \n",
    "eOpt=[0.05,0.075,0.1,0.12,0.15,0.2,0.25]\n",
    "MSamples=[1,2,3,4,5,6,7,8,9,10,11,12,13,14,15]\n",
    "\n",
    "#We'll save the results of the best output. We'll measure the best one as that which minimizes the distances \n",
    "#between members of the same cluster. We don't minimize the median distance between members of the same and \n",
    "#different clusters as this might favor a low intercluster distance.\n",
    "\n",
    "#The parameters to be saved are the intra cluster distance, the number of clusters, and the difference between the \n",
    "#inter and intra cluster distances.\n",
    "HbestEOpt=0\n",
    "HbestMSamples=0\n",
    "HleastSame=1000000000\n",
    "HleastInter=0\n",
    "\n",
    "#We'll also save the output from every possible combination of parameters.\n",
    "HAllDiff=[]\n",
    "HAllSameDist=[]\n",
    "HNumClusters=[]\n",
    "\n",
    "#Now we test the parameters. We try every possible combination.\n",
    "for EO in eOpt:\n",
    "    for MS in MSamples:\n",
    "#For each we generate the clusterization using the Mash distance data.\n",
    "        hdbg=hdbscan.HDBSCAN(eps=EO,metric=\"precomputed\",min_samples=MS)\n",
    "#We go over the distance matrix and save inter cluster distances in group_distances and intra cluster distances in\n",
    "#diff_distances.\n",
    "        cluster_labels = hdbg.fit_predict(distances)\n",
    "        group_distances=[]\n",
    "        diff_distances=[]\n",
    "\n",
    "        for i in range(1,distances.shape[0]):\n",
    "            for j in range(0,i):\n",
    "                if cluster_labels[i]==cluster_labels[j]:\n",
    "                    group_distances.append(distances[i,j])\n",
    "                else:\n",
    "                    diff_distances.append(distances[i,j])\n",
    "#We save the values in the adequate lists.\n",
    "        HthisDiff=mean(diff_distances)-mean(group_distances)\n",
    "        HthisDist=mean(group_distances)\n",
    "        HNumClusters.append((max(cluster_labels)+2))\n",
    "        HAllDiff.append(HthisDiff)\n",
    "        HAllSameDist.append(thisDist)\n",
    "\n",
    "#As a failsafe, we make sure that the median intra group distance is smaller than the median inter group distance.\n",
    "        if median(diff_distances)<=median(group_distances):\n",
    "            continue\n",
    "\n",
    "#If the median intra cluster distance is smaller than the smallest one so far, the parameters for the best \n",
    "#clusterization are updated.            \n",
    "        if HthisDist<HleastSame:\n",
    "            HbestEOpt=EO\n",
    "            HbestMSamples=MS\n",
    "            HleastSame=thisDist\n",
    "            HleastInter=thisDiff\n",
    "            "
   ]
  },
  {
   "cell_type": "code",
   "execution_count": null,
   "metadata": {},
   "outputs": [],
   "source": [
    "#We print the parameters of the best models.\n",
    "print(HbestEOpt)\n",
    "print(HbestMSamples)\n",
    "print(HleastSame)\n",
    "print(HleastInter)"
   ]
  },
  {
   "cell_type": "code",
   "execution_count": 44,
   "metadata": {},
   "outputs": [
    {
     "data": {
      "text/plain": [
       "<matplotlib.legend.Legend at 0x1e25ef9ebb0>"
      ]
     },
     "execution_count": 44,
     "metadata": {},
     "output_type": "execute_result"
    },
    {
     "data": {
      "image/png": "[encoded data removed]",
      "text/plain": [
       "<Figure size 432x288 with 1 Axes>"
      ]
     },
     "metadata": {
      "needs_background": "light"
     },
     "output_type": "display_data"
    }
   ],
   "source": [
    "#Now we graph the behaviour of model performance. Here, difference in median intra and inter cluster distance.\n",
    "eOpt=[0.05,0.075,0.1,0.12,0.15,0.2,0.25]\n",
    "plot(arange(0,15),HAllDiff[0:15],label=\"0.05\")\n",
    "plot(arange(0,15),HAllDiff[15:30],label=\"0.075\")\n",
    "plot(arange(0,15),HAllDiff[30:45],label=\"0.1\")\n",
    "plot(arange(0,15),HAllDiff[45:60],label=\"0.12\")\n",
    "plot(arange(0,15),HAllDiff[60:75],label=\"0.15\")\n",
    "plot(arange(0,15),HAllDiff[75:90],label=\"0.2\")\n",
    "plot(arange(0,15),HAllDiff[90:105],label=\"0.25\")\n",
    "title(\"Inter-Intra Distance Difference\")\n",
    "xlabel(\"MinSamples for Cluster\")\n",
    "ylabel(\"Mash Distance\")\n",
    "legend()"
   ]
  },
  {
   "cell_type": "code",
   "execution_count": 45,
   "metadata": {},
   "outputs": [
    {
     "data": {
      "text/plain": [
       "<matplotlib.legend.Legend at 0x1e25af89c40>"
      ]
     },
     "execution_count": 45,
     "metadata": {},
     "output_type": "execute_result"
    },
    {
     "data": {
      "image/png": "[encoded data removed]",
      "text/plain": [
       "<Figure size 432x288 with 1 Axes>"
      ]
     },
     "metadata": {
      "needs_background": "light"
     },
     "output_type": "display_data"
    }
   ],
   "source": [
    "#Next, intra cluster median distance.\n",
    "eOpt=[0.05,0.075,0.1,0.12,0.15,0.2,0.25]\n",
    "plot(arange(0,15),HAllSameDist[0:15],label=\"0.05\")\n",
    "plot(arange(0,15),HAllSameDist[15:30],label=\"0.075\")\n",
    "plot(arange(0,15),HAllSameDist[30:45],label=\"0.1\")\n",
    "plot(arange(0,15),HAllSameDist[45:60],label=\"0.12\")\n",
    "plot(arange(0,15),HAllSameDist[60:75],label=\"0.15\")\n",
    "plot(arange(0,15),HAllSameDist[75:90],label=\"0.2\")\n",
    "plot(arange(0,15),HAllSameDist[90:105],label=\"0.25\")\n",
    "title(\"Intra Distance\")\n",
    "xlabel(\"MinSamples for Cluster\")\n",
    "ylabel(\"Mash Distance\")\n",
    "legend()"
   ]
  },
  {
   "cell_type": "code",
   "execution_count": 46,
   "metadata": {},
   "outputs": [
    {
     "data": {
      "text/plain": [
       "<matplotlib.legend.Legend at 0x1e25b0547c0>"
      ]
     },
     "execution_count": 46,
     "metadata": {},
     "output_type": "execute_result"
    },
    {
     "data": {
      "image/png": "[encoded data removed]",
      "text/plain": [
       "<Figure size 432x288 with 1 Axes>"
      ]
     },
     "metadata": {
      "needs_background": "light"
     },
     "output_type": "display_data"
    }
   ],
   "source": [
    "#Finally, the number of clusters.\n",
    "eOpt=[0.05,0.075,0.1,0.12,0.15,0.2,0.25]\n",
    "#plot(arange(0,15),NumClusters[0:15],label=\"0.05\")\n",
    "#plot(arange(0,15),NumClusters[15:30],label=\"0.075\")\n",
    "plot(arange(0,15),HNumClusters[30:45],label=\"0.1\")\n",
    "#plot(arange(0,15),NumClusters[45:60],label=\"0.12\")\n",
    "#plot(arange(0,15),NumClusters[60:75],label=\"0.15\")\n",
    "#plot(arange(0,15),NumClusters[75:90],label=\"0.2\")\n",
    "#plot(arange(0,15),NumClusters[90:105],label=\"0.25\")\n",
    "title(\"Number of Clusters\")\n",
    "xlabel(\"MinSamples for Cluster\")\n",
    "ylabel(\"Number of Clusters\")\n",
    "legend()"
   ]
  },
  {
   "cell_type": "code",
   "execution_count": null,
   "metadata": {},
   "outputs": [],
   "source": []
  }
 ],
 "metadata": {
  "kernelspec": {
   "display_name": "Python 3",
   "language": "python",
   "name": "python3"
  },
  "language_info": {
   "codemirror_mode": {
    "name": "ipython",
    "version": 3
   },
   "file_extension": ".py",
   "mimetype": "text/x-python",
   "name": "python",
   "nbconvert_exporter": "python",
   "pygments_lexer": "ipython3",
   "version": "3.8.5"
  }
 },
 "nbformat": 4,
 "nbformat_minor": 4
}
