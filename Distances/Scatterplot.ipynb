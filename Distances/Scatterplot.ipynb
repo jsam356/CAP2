{
 "cells": [
  {
   "cell_type": "markdown",
   "metadata": {},
   "source": [
    "**This is the second version of the Scatterplot notebook, adapted to deal with five possible sources of Match Sketches: MegaGenome, TMBD, HMP, PathoMAP, and MetaSUB.**"
   ]
  },
  {
   "cell_type": "markdown",
   "metadata": {},
   "source": [
    "### Distance & ID Load"
   ]
  },
  {
   "cell_type": "code",
   "execution_count": 1,
   "metadata": {
    "scrolled": true
   },
   "outputs": [
    {
     "name": "stdout",
     "output_type": "stream",
     "text": [
      "Populating the interactive namespace from numpy and matplotlib\n"
     ]
    }
   ],
   "source": [
    "%pylab inline\n",
    "import umap"
   ]
  },
  {
   "cell_type": "code",
   "execution_count": 2,
   "metadata": {},
   "outputs": [],
   "source": [
    "#We load the distance matrix, which was generated in a phyllip format. Each row has the name of a sample and then the\n",
    "#distances to all of the samplea above it in the file.\n",
    "phy=open(\"MashTriangle/combinedDistances.phyllip\",\"r\")\n",
    "\n",
    "#There are a total of 8220 samples for now (this can be seen in the first line of the phyllip file).\n",
    "distances=np.zeros((8220,8220))\n",
    "#We'll save the sample ids in a list and the distances in distances.\n",
    "ids=[]\n",
    "\n",
    "#We'll need a counter to fill the distance matrix.\n",
    "i=-2\n",
    "for line in phy:\n",
    "#At the beggining of each line we increase the counter by 1.\n",
    "    i+=1\n",
    "#The first line of the file contains only the total number of samples so we ignore it (when we read the first line,\n",
    "#i=-1).\n",
    "    if i<0:\n",
    "        continue\n",
    "#The second line has just the id of the first samples. We simply save the id and that's it.\n",
    "    if i==1:\n",
    "        line=line.strip(\"\\n\").split(\"\\t\")\n",
    "        ids.append(line[0].split(\".gz\")[0].split(\"/\")[1])\n",
    "        continue\n",
    "    \n",
    "#The rest of the lines have distances. In particular the nth id has n-1 distances (for the n-1 samples above it). \n",
    "#First we get the id.\n",
    "    line=line.strip(\"\\n\").split(\"\\t\")\n",
    "    ids.append(line[0].split(\".gz\")[0].split(\"/\")[1])\n",
    "    #continue\n",
    "#Then we add the n-1 distances to the nth line and the nth column (the distance matrix is symmetrical).\n",
    "    dist=asarray([float(x) for x in line[1::]])\n",
    "    distances[0:i,i]=dist\n",
    "    distances[i,0:i]=dist\n",
    "    \n",
    "phy.close()"
   ]
  },
  {
   "cell_type": "code",
   "execution_count": 3,
   "metadata": {},
   "outputs": [
    {
     "data": {
      "text/plain": [
       "8220"
      ]
     },
     "execution_count": 3,
     "metadata": {},
     "output_type": "execute_result"
    }
   ],
   "source": [
    "len(ids)"
   ]
  },
  {
   "cell_type": "markdown",
   "metadata": {},
   "source": [
    "#### If ID deduplication needs not be done omit the two cells below"
   ]
  },
  {
   "cell_type": "code",
   "execution_count": 4,
   "metadata": {},
   "outputs": [],
   "source": [
    "#We might be interested in deduplicating the data, as some of the samples might be present in more than one\n",
    "#database.\n",
    "\n",
    "#For that we can look at the distance matrix and look for samples with mash distance of 0.\n",
    "\n",
    "#We'll save the samples to be deleted in toDelete and their positions in the id list in PositionstoDelete.\n",
    "SampletoDelete=[]\n",
    "PositionstoDelete=[]\n",
    "\n",
    "#Now we iterate over the distance matrix. \n",
    "for i in range(0,len(ids)):\n",
    "    for j in range(i,len(ids)):\n",
    "#If a given pair of samples have a mash distance of 0, we add the id and position of the second one in the \n",
    "#corresponding lists for deletion.\n",
    "        if i!=j and distances[i,j]==0:\n",
    "            SampletoDelete.append(ids[j])\n",
    "            PositionstoDelete.append(j)"
   ]
  },
  {
   "cell_type": "code",
   "execution_count": 5,
   "metadata": {},
   "outputs": [],
   "source": [
    "#We delete the ids of the duplicated from ids.\n",
    "for sample in SampletoDelete:\n",
    "    ids.remove(str(sample))\n",
    "\n",
    "#We remove the row and columns of the duplicated ids from the distance matrix.\n",
    "distances=np.delete(distances,PositionstoDelete,axis=0)\n",
    "distances=np.delete(distances,PositionstoDelete,axis=1)"
   ]
  },
  {
   "cell_type": "code",
   "execution_count": 6,
   "metadata": {},
   "outputs": [],
   "source": [
    "#Now we associate each sample with its main project of origin. This can be MegaGenome, HMP, TMDB, PathoMAP or MetaSUB.\n",
    "\n",
    "#We'll save the project name per sample in col and the number of the project per sample (see below) in numCol.\n",
    "col=[]\n",
    "numCol=[]\n",
    "#We'll arbitrarily assign an integer id to each main project and save the association in colDict.\n",
    "colDict={\"MegaGenome\":2,\"HMP\":5,\"TMDB\":10,\"PathoMAP\":15,\"MetaSUB\":20}\n",
    "\n",
    "#We also need the ids split between projects to get their keywords for the hierarchy (see below), so we'll also generate \n",
    "#an id list of each project.\n",
    "MegaGenomeids=[]\n",
    "HMPids=[]\n",
    "TMDBids=[]\n",
    "PathoMAPids=[]\n",
    "MetaSUBids=[]\n",
    "\n",
    "#Now we go over the ids list.\n",
    "for i in range(len(ids)):\n",
    "#The ids from each project have a particuar naming system which helps us identify them. We edit the ids elements\n",
    "#so that we only have the sample name (with no extensions) and add the id/main project name to numCol/col.\n",
    "\n",
    "#The ids from MegaGenome are numbers, with or without a fastq extension.\n",
    "    if \"fastq\" in ids[i] or ids[i].isdigit():\n",
    "        numCol.append(colDict[\"MegaGenome\"])\n",
    "        col.append(\"MegaGenome\")\n",
    "        temp=ids[i].replace(\"_1.fastq\",\"\")\n",
    "        ids[i]=temp\n",
    "        MegaGenomeids.append(ids[i])\n",
    "#The ids from MetaSUB either being with haib or sossowski and might have a fq extension.\n",
    "    elif \"haib\" in ids[i] or \"sossowski\" in ids[i]:\n",
    "        numCol.append(colDict[\"MetaSUB\"])\n",
    "        col.append(\"MetaSUB\")\n",
    "        temp=ids[i].replace(\".R1.fq\",\"\")\n",
    "        ids[i]=temp\n",
    "        MetaSUBids.append(ids[i])\n",
    "#The HMP ids begin have HMP¨in their ids.\n",
    "    elif \"HMP\" in ids[i]:\n",
    "        numCol.append(colDict[\"HMP\"])\n",
    "        col.append(\"HMP\")\n",
    "        HMPids.append(ids[i])\n",
    "#The PathoMAP ids have PATHOMAP in their ids.\n",
    "    elif \"PATHOMAP\" in ids[i]:\n",
    "        numCol.append(colDict[\"PathoMAP\"])\n",
    "        col.append(\"PathoMAP\")\n",
    "        PathoMAPids.append(ids[i])\n",
    "#Finally, the TMBD ids have some identifier with RR in its id (e.g.: SRR or ERR).\n",
    "    elif \"RR\" in ids[i]:\n",
    "        numCol.append(colDict[\"TMDB\"])\n",
    "        col.append(\"TMDB\")\n",
    "        temp=ids[i].replace(\".R1.fq\",\"\")\n",
    "        ids[i]=temp\n",
    "        TMDBids.append(ids[i])\n",
    "    else:\n",
    "        print(ids[i])"
   ]
  },
  {
   "cell_type": "markdown",
   "metadata": {},
   "source": [
    "## Hiearchy Metadata Load"
   ]
  },
  {
   "cell_type": "markdown",
   "metadata": {},
   "source": [
    "Now we proceed to load the metadata associated to the sample hierarchy. The hierarchy is a basic classification scheme of the samples which helps us discriminate them better, based on their specific object of study. The current hiearchy is shown below. Sequencer and Technique are additional classifications, which can be applied at any point of the hierarchy.\n",
    "\n",
    "![Sequencer and Technique are additional classification, which can be applied at any point of the hierarchy](Hierarchy.png \"Project Hierarchy\")\n",
    "\n",
    "There are 3 levels in the hierarchy. Each level has one or more classifications, and within each classification (with the exception of those in level 1 and the environmental classifications of level two) a sample has a specific category:\n",
    "\n",
    "* Level 1 data can be environmental (i.e.: come from an abiotic source) or organismal (i.e.: come from an organism).\n",
    "* Level 2:\n",
    "    * **Environmental** data can come from an ecological (\"natural\") source or come from an anthropogenic (\"man made\") source.\n",
    "    * **Organismal** comes from a given organism and/or a body part.\n",
    "* Level 3:\n",
    "    * **Environmental** data can have a location and/or a specific source or biome of origin. Note that these two are not mutually exclusive, but rather possible properties of both anthropogenic or ecological samples.\n",
    "    * **Organismal** data from a given organism can be associated to a given body part. Note that it might also be possible to map a given body part to a sample without knowing the organism it came from (due to insufficient metadata), so that's why body part is part of levels 2 and 3 of the hierarchy."
   ]
  },
  {
   "cell_type": "markdown",
   "metadata": {},
   "source": [
    "### Hierarchy Load"
   ]
  },
  {
   "cell_type": "markdown",
   "metadata": {},
   "source": [
    "First thing we need to do is load the hierarchy itself, located in the a set of csv files. There is one per possible classification in the hierarchy, with the exception of Biome/Source, for which there is one csv for anthropogenic sources and one for ecological sources/biomes (this is done for easier modification of the categories if needed). Then we load the info from each databatase and classify the samples as best as we can based on their metadata. \n",
    "\n",
    "\n",
    "Each csv contains multiple columns. The first one contains the specific category (i.e.: specific organism) for each classification, and the rest all of the metadata values which are grouped under that category."
   ]
  },
  {
   "cell_type": "code",
   "execution_count": 7,
   "metadata": {},
   "outputs": [],
   "source": [
    "#Most of the classifications in the hierarchy have their own csv files with its internal categories. All csv files \n",
    "#are located in the same folder (HierarchyFiles). So we'll cycle through the files and load all classifications.\n",
    "\n",
    "#The exceptions to this are the first level classifications, as they are their own categories, so we have a single file\n",
    "#for both of them, and the level two classifications for environmental samples, as they are mutually exclusive, so\n",
    "#they are inferred from the third level categories.\n",
    "import os\n",
    "folder=\"HierarchyFiles_Extended\"\n",
    "#folder=\"HierarchyFiles\"\n",
    "\n",
    "#We'll save the info of the hierarchy in a dictionary. The keys will be the classifications (e.g.: \n",
    "#Organism) and the values will be dictionaries of categories as keys and lists of values associated to the categories \n",
    "#as values. \n",
    "\n",
    "#We need not organize the hierarchy right now. This can be done when associating classifications to each sample.\n",
    "allHierarchy={}\n",
    "for file in os.listdir(folder):\n",
    "    classificationName=file.replace(\".csv\",\"\")\n",
    "    classificationFile=open(folder+\"/\"+file,\"r\",encoding=\"utf-8\")\n",
    "\n",
    "#For each classification we open the file, and look at the categories.\n",
    "    categoryDict={}\n",
    "    for line in classificationFile:\n",
    "        \n",
    "#For each category we get its name and then save its values in a column. We save then the name and list of values as \n",
    "#key and value pairs in the classification's dictionary.\n",
    "        line=line.strip(\"\\n\").split(\";\")\n",
    "        thisValues=[]\n",
    "        for value in line[1::]:\n",
    "            if value!=\"\" and value!=\" \":\n",
    "                thisValues.append(value)\n",
    "        categoryDict[line[0]]=thisValues\n",
    "    classificationFile.close()\n",
    "#We save the classification dictionary of categories in the classification dictionary.\n",
    "    allHierarchy[classificationName]=categoryDict\n",
    "    classificationFile.close()"
   ]
  },
  {
   "cell_type": "markdown",
   "metadata": {},
   "source": [
    "### Project Metadata Load & Hierarchy Assignment"
   ]
  },
  {
   "cell_type": "markdown",
   "metadata": {},
   "source": [
    "Now we proceed to load the metadata from each dataset and associate to each sample its place and values in the hierarchy. We'll do it sepparately for each project."
   ]
  },
  {
   "cell_type": "markdown",
   "metadata": {},
   "source": [
    "#### MegaGenome"
   ]
  },
  {
   "cell_type": "markdown",
   "metadata": {},
   "source": [
    "For MegaGenome we have a set of Old Keywords from the previous batches of data, so we need to look at the new ones to classify them. To do that we load all keywords and then check those which are not in the original file.\n",
    "\n",
    "This first entails getting the bioprojects of all projects and associating keywords with them. We do that first."
   ]
  },
  {
   "cell_type": "code",
   "execution_count": 8,
   "metadata": {},
   "outputs": [],
   "source": [
    "#MGids will save the ids of the sample (SRAs), projects will save the bioproject identifiers (PJRNA). We'll first load\n",
    "#and then order based on the distance matrix.\n",
    "MGids=[]\n",
    "projects=[]\n",
    "\n",
    "#The ids and corresponding project are saved in three files (based on the three batches of samples from MegaGenome).\n",
    "#We load all three and add to ids and projects.\n",
    "\n",
    "MGOne=open(\"Proj_UIDFiles/Proj_UID.csv\",\"r\")\n",
    "\n",
    "for line in MGOne:\n",
    "    line=line.strip(\"\\n\").split(\";\")\n",
    "    MGids.append(line[0])\n",
    "    projects.append(line[1])\n",
    "\n",
    "MGOne.close()\n",
    "\n",
    "MGTwo=open(\"Proj_UIDFiles/Proj_UIDBatch2.csv\",\"r\")\n",
    "\n",
    "for line in MGTwo:\n",
    "    line=line.strip(\"\\n\").split(\";\")\n",
    "    MGids.append(line[0])\n",
    "    projects.append(line[1])\n",
    "\n",
    "MGTwo.close()\n",
    "\n",
    "MGThree=open(\"Proj_UIDFiles/Proj_UIDBatch3.csv\",\"r\")\n",
    "\n",
    "for line in MGThree:\n",
    "    line=line.strip(\"\\n\").split(\";\")\n",
    "    MGids.append(line[0])\n",
    "    projects.append(line[1])\n",
    "\n",
    "MGThree.close()"
   ]
  },
  {
   "cell_type": "code",
   "execution_count": 9,
   "metadata": {},
   "outputs": [],
   "source": [
    "#Now we move on to load the keywords for the bioprojects which have them. In general almost\n",
    "#all bioprojects have keywords.\n",
    "\n",
    "#For keywords the file Papers-Grid_Min.csv (custom made based on the Airtable data) contains the title of the\n",
    "#project (or paper if there's a paper), the bioproject identifier and the keywords from airtable.\n",
    "fpapers=open(\"AirtableFiles/Papers-Grid_Min.csv\",\"r\",encoding=\"utf-8\")\n",
    "\n",
    "#We'll save the keywords per project in keywords and the projects corresponding to each set of keywords in\n",
    "#ProjforKeywords. Note that we're mapping projects to keywords, not samples to keywords. Also, since \n",
    "#Papers-Grid_Min.csv was downloaded from Airtable, the order of the projects is not necessarily the same as \n",
    "#in the list projects generated above (that's why we need another list).\n",
    "ProjforKeywords=[]\n",
    "keywords=[]\n",
    "\n",
    "for line in fpapers:\n",
    "#We use the PRJNA in the project id as a separator and get the list of keywords from every project.\n",
    "    if \"PRJNA\" in line:\n",
    "        line=line.strip(\"\\n\").split('PRJNA')\n",
    "        projectID=\"PRJNA\"+line[1].split(\",\")[0].split(\";\")[0].split(\".pdf\")[0].split(\")\")[0].replace(\" \",\"\")\n",
    "#Since we're only interested in the keywords of the projects whose samples have Mash distances, we filter\n",
    "#the projects and get the keywords of those which are present in Proj_UID.csv or Proj_UIDBatch2.csv.\n",
    "        if projectID in projects:\n",
    "            ProjforKeywords.append(projectID)\n",
    "            Prelkeywords=line[1].split(\",\")[1::]\n",
    "            Realkeywords=[]\n",
    "            for i in Prelkeywords:\n",
    "                if i==\"\":\n",
    "                    continue\n",
    "                else:\n",
    "#keywords are added in lowercase.\n",
    "                    Realkeywords.append(i.lower())\n",
    "            keywords.append(Realkeywords)\n",
    "fpapers.close()"
   ]
  },
  {
   "cell_type": "markdown",
   "metadata": {},
   "source": [
    "**If all keywords have already been included in the hierarchy skips the cell below.**"
   ]
  },
  {
   "cell_type": "code",
   "execution_count": 12,
   "metadata": {
    "scrolled": false
   },
   "outputs": [
    {
     "ename": "FileNotFoundError",
     "evalue": "[Errno 2] No such file or directory: 'KeywordConsolidation_Docs/Oldkeywords.txt'",
     "output_type": "error",
     "traceback": [
      "\u001b[1;31m---------------------------------------------------------------------------\u001b[0m",
      "\u001b[1;31mFileNotFoundError\u001b[0m                         Traceback (most recent call last)",
      "\u001b[1;32m<ipython-input-12-4e41d8d5671e>\u001b[0m in \u001b[0;36m<module>\u001b[1;34m\u001b[0m\n\u001b[0;32m      3\u001b[0m \u001b[1;33m\u001b[0m\u001b[0m\n\u001b[0;32m      4\u001b[0m \u001b[0mOldKeywords\u001b[0m\u001b[1;33m=\u001b[0m\u001b[1;33m[\u001b[0m\u001b[1;33m]\u001b[0m\u001b[1;33m\u001b[0m\u001b[1;33m\u001b[0m\u001b[0m\n\u001b[1;32m----> 5\u001b[1;33m \u001b[0mOldK\u001b[0m\u001b[1;33m=\u001b[0m\u001b[0mopen\u001b[0m\u001b[1;33m(\u001b[0m\u001b[1;34m\"KeywordConsolidation_Docs/Oldkeywords.txt\"\u001b[0m\u001b[1;33m,\u001b[0m\u001b[1;34m\"r\"\u001b[0m\u001b[1;33m)\u001b[0m\u001b[1;33m\u001b[0m\u001b[1;33m\u001b[0m\u001b[0m\n\u001b[0m\u001b[0;32m      6\u001b[0m \u001b[1;33m\u001b[0m\u001b[0m\n\u001b[0;32m      7\u001b[0m \u001b[1;32mfor\u001b[0m \u001b[0mline\u001b[0m \u001b[1;32min\u001b[0m \u001b[0mOldK\u001b[0m\u001b[1;33m:\u001b[0m\u001b[1;33m\u001b[0m\u001b[1;33m\u001b[0m\u001b[0m\n",
      "\u001b[1;31mFileNotFoundError\u001b[0m: [Errno 2] No such file or directory: 'KeywordConsolidation_Docs/Oldkeywords.txt'"
     ]
    }
   ],
   "source": [
    "#With the loaded keywords from all batches of data, we can determine the new keywords. First we load the old keyword\n",
    "#file.\n",
    "\n",
    "OldKeywords=[]\n",
    "OldK=open(\"KeywordConsolidation_Docs/Oldkeywords.txt\",\"r\")\n",
    "\n",
    "for line in OldK:\n",
    "    OldKeywords.append(line.strip(\"\\n\"))\n",
    "\n",
    "OldK.close()\n",
    "\n",
    "#Now we compare with the keywords we have now and save the new ones in another file.\n",
    "\n",
    "NewK=open(\"KeywordConsolidation_Docs/Newkeywords.txt\",\"w\")\n",
    "for kList in keywords:\n",
    "    for k in kList:\n",
    "        if k not in OldKeywords:\n",
    "            NewK.write(k+\"\\n\")\n",
    "NewK.close()"
   ]
  },
  {
   "cell_type": "code",
   "execution_count": 10,
   "metadata": {},
   "outputs": [],
   "source": [
    "#We'll also load the title of the papers for those bioprojects which have them.\n",
    "\n",
    "#We use the same file as for keywords, but load in a different part of the code just to make sure we do it correctly\n",
    "#(given the noisy format of that file).\n",
    "fpapers=open(\"AirtableFiles/Papers-Grid_Min.csv\",\"r\",encoding=\"utf-8\")\n",
    "\n",
    "#We'll save the paper names in Papers and the biorpojects with papers in ProperPaper.\n",
    "Papers=[]\n",
    "ProperPaper=[]\n",
    "\n",
    "for line in fpapers:\n",
    "#We split in a similar way as when looking for keywords.\n",
    "    if \"PRJNA\" in line:\n",
    "        line=line.strip(\"\\n\").split('PRJNA')\n",
    "#We get the get the project id and the paper title and save them.\n",
    "        projectID=\"PRJNA\"+line[1].split(\",\")[0].split(\";\")[0].split(\".pdf\")[0].split(\")\")[0].replace(\" \",\"\")\n",
    "        if projectID in projects:\n",
    "            Papers.append(line[0])\n",
    "            ProperPaper.append(projectID)\n",
    "fpapers.close()"
   ]
  },
  {
   "cell_type": "code",
   "execution_count": 11,
   "metadata": {},
   "outputs": [
    {
     "name": "stdout",
     "output_type": "stream",
     "text": [
      "PRJNA666900\n"
     ]
    }
   ],
   "source": [
    "#Now we assign bioprojects to the hierarchy (as its easier to do it first that way).\n",
    "\n",
    "#First we generated a deduplicated set of bioprojects.\n",
    "DeDupProjects=list(set(projects))\n",
    "\n",
    "#We'll save the resuls in a dictionary, with the values being the projects ids and the values being dictionaries\n",
    "#with the categories per classification (see below).\n",
    "BioProjtoHierarchy={}\n",
    "\n",
    "\n",
    "for bioproject in DeDupProjects:\n",
    "\n",
    "#We define a dictionary for saving the assignment of each project.\n",
    "    classificationDict={}\n",
    "\n",
    "#It might be the case that we have a mash distance for a project but no metadata in Airtable. This try-except here\n",
    "#checks if that's the case and omits those bioprojects in which we have the issue.\n",
    "    try:\n",
    "        test=keywords[ProjforKeywords.index(bioproject)]\n",
    "    except:\n",
    "        print(bioproject)\n",
    "        continue\n",
    "\n",
    "#We cycle through all possible classifications and categories within them.\n",
    "    for classification,categories in allHierarchy.items():\n",
    "        categoriesinProj=[]\n",
    "        for category,values in categories.items():\n",
    "#IF a given keyword is a value for a category in a classification, we add the category to the list categoriesinProj.\n",
    "            for keyword in keywords[ProjforKeywords.index(bioproject)]:\n",
    "                if keyword in values:\n",
    "                    categoriesinProj.append(category)\n",
    "#If the project is associated to a paper, we also check the paper's title and add categories if we find their values\n",
    "#therein.\n",
    "            if bioproject in ProperPaper:\n",
    "                for value in values:\n",
    "                    if value in Papers[ProperPaper.index(bioproject)].lower():\n",
    "                         categoriesinProj.append(category)\n",
    "#It might be the case that many keywords from a project are values of the same cateogry, so we deduplicate the\n",
    "#category list here.\n",
    "        if len(categoriesinProj)!=0:\n",
    "            classificationDict[classification]=list(set(categoriesinProj))\n",
    "    \n",
    "#If we did not find directly any values associated to the first level classifications (Overall is the name of that\n",
    "#csv file), then we assign one based on the second and third level classifications.\n",
    "    if \"Overall\" not in classificationDict.keys():\n",
    "        if \"Organism\" in classificationDict.keys() or \"BodyPart\" in classificationDict.keys():\n",
    "            classificationDict[\"Overall\"]=[\"Organismal\"]\n",
    "        elif \"Source_Surface\" in classificationDict.keys() or \"Source_Biome\" in classificationDict.keys() or \"Location\" in classificationDict.keys():\n",
    "            classificationDict[\"Overall\"]=[\"Environmental\"]\n",
    "            \n",
    "    BioProjtoHierarchy[bioproject]=classificationDict"
   ]
  },
  {
   "cell_type": "code",
   "execution_count": 12,
   "metadata": {},
   "outputs": [],
   "source": [
    "#Finally, we can associated the samples with their hierarchy assignment using the bioproject information.\n",
    "#We'll save the assignments of all projects (not only MegaGenome) in sampletoHierarchy. It will work just as \n",
    "#BioProjtoHierarchy.\n",
    "\n",
    "sampletoHierarchy={}\n",
    "\n",
    "#We cycle through the MegaGenome ids (saved in MGids), get their corresponding bioproject, and save their hierarchy\n",
    "#assignment.\n",
    "for ID in MGids:\n",
    "    try:\n",
    "        sampletoHierarchy[ID]=BioProjtoHierarchy[projects[MGids.index(ID)]]\n",
    "    except:\n",
    "         sampletoHierarchy[ID]={\"Overall\":[\"No Metadata\"]}"
   ]
  },
  {
   "cell_type": "code",
   "execution_count": 13,
   "metadata": {},
   "outputs": [
    {
     "data": {
      "text/plain": [
       "2141"
      ]
     },
     "execution_count": 13,
     "metadata": {},
     "output_type": "execute_result"
    }
   ],
   "source": [
    "len(sampletoHierarchy)"
   ]
  },
  {
   "cell_type": "markdown",
   "metadata": {},
   "source": [
    "#### TMDB"
   ]
  },
  {
   "cell_type": "markdown",
   "metadata": {},
   "source": [
    "For TMDB we have a csv file which maps each sample to its metadata, so it's much easier to work with as compared to megaGenome. We also have project titles which might come in handy."
   ]
  },
  {
   "cell_type": "code",
   "execution_count": 14,
   "metadata": {},
   "outputs": [],
   "source": [
    "#First we load the metadata. The file has a lot of information, but we only need certain columns for the hierarchy\n",
    "#assignment. \n",
    "\n",
    "#Given that we can readily associated metadata to each sample using this file, we'll assign as we read.\n",
    "\n",
    "tmdbFile=open(\"ProjectMetadata/TMDB_metadata.csv\",\"r\")\n",
    "\n",
    "for line in tmdbFile:\n",
    "#We extract the lines we need. They contain multiple information, inclusing the project Id, material, \n",
    "#project name, sequencing platform, location, and other sample source info.\n",
    "    line=line.strip(\"\\n\").split(\",\")\n",
    "    TMDBID=line[0].replace(\" \",\"\")\n",
    "    \n",
    "#If the sample doesn't have a mash distance we skip it.\n",
    "    if TMDBID not in ids:\n",
    "        continue\n",
    "\n",
    "#We save the sample info in sampleInfo.\n",
    "\n",
    "#Position 5 of the metadata contains the project material, while 13 contains the biome.\n",
    "    sampleInfo=[line[4].lower(),line[13].lower()]\n",
    "#Positions 15 on contain more specific info related to the material and biome.\n",
    "    sampleInfo.extend(line[15::])\n",
    "    while \"\" in sampleInfo:\n",
    "        sampleInfo.remove(\"\")\n",
    "#The title of the project is in position 14. We save that apart to look for values in it.\n",
    "    sampleTitle=line[14].lower()\n",
    "\n",
    "#The process after this is basically the same as for MegaGenome. The sampleInfo can be seen as the keywords of\n",
    "#that sample.\n",
    "\n",
    "    classificationDict={}\n",
    "    for classification,categories in allHierarchy.items():\n",
    "        categoriesinSample=[]\n",
    "        for category,values in categories.items():\n",
    "#If a given keyword is a value for a category in a classification, we add the category to the list categoriesinSample.\n",
    "#We also check the project title for more keywords.\n",
    "            for keyword in sampleInfo:\n",
    "                if keyword in values:\n",
    "                    categoriesinSample.append(category)\n",
    "                for value in values:\n",
    "                    if value in categoriesinSample or value in sampleTitle.lower():\n",
    "                         categoriesinProj.append(category)\n",
    "#It might be the case that many keywords from a project are values of the same cateogry, so we deduplicate the\n",
    "#category list here.\n",
    "        if len(categoriesinSample)!=0:\n",
    "            classificationDict[classification]=list(set(categoriesinSample))\n",
    "#If we did not find directly any values associated to the first level classifications (Overall is the name of that\n",
    "#csv file), then we assign one based on the second and third level classifications.\n",
    "    if \"Overall\" not in classificationDict.keys():\n",
    "        if \"Organism\" in classificationDict.keys() or \"BodyPart\" in classificationDict.keys():\n",
    "            classificationDict[\"Overall\"]=[\"Organismal\"]\n",
    "        elif \"Source_Surface\" in classificationDict.keys() or \"Source_Biome\" in classificationDict.keys() or \"Location\" in classificationDict.keys():\n",
    "            classificationDict[\"Overall\"]=[\"Environmental\"]\n",
    "    sampletoHierarchy[TMDBID]=classificationDict\n",
    "\n",
    "tmdbFile.close()"
   ]
  },
  {
   "cell_type": "code",
   "execution_count": 15,
   "metadata": {},
   "outputs": [
    {
     "data": {
      "text/plain": [
       "3713"
      ]
     },
     "execution_count": 15,
     "metadata": {},
     "output_type": "execute_result"
    }
   ],
   "source": [
    "len(sampletoHierarchy)"
   ]
  },
  {
   "cell_type": "markdown",
   "metadata": {},
   "source": [
    "#### MetaSub"
   ]
  },
  {
   "cell_type": "code",
   "execution_count": 16,
   "metadata": {},
   "outputs": [],
   "source": [
    "#The following one is MetaSub. The procedure will be very similar to the one for TMDB, but slighly more simple as \n",
    "#the data we need is much more localized in the metadata file.\n",
    "\n",
    "#We load the file.\n",
    "MSfile=open(\"ProjectMetadata/MetaSub_metadata.csv\",\"r\")\n",
    "\n",
    "\n",
    "for line in MSfile:\n",
    "#We extract the lines we need as we did before. \n",
    "    line=line.strip(\"\\n\").split(\",\")\n",
    "    MSID=line[0].replace(\" \",\"\")\n",
    "    \n",
    "#If the sample doesn't have a mash distance we skip it.\n",
    "    if MSID not in ids:\n",
    "        continue\n",
    "\n",
    "#We save the sample info in sampleInfo.\n",
    "\n",
    "#Position 2 of the metadata contains the city, and positions 14, 24, and 42 the surface. \n",
    "    sampleInfo=[line[1].lower(),line[14].lower(),line[38].lower(),line[68].lower()]\n",
    "    \n",
    "#To avoid potential ambiguities we remove water as a potential sampleInfo.\n",
    "    try:\n",
    "        sampleInfo.remove(\"water\")\n",
    "    except:\n",
    "        pass\n",
    "#For this case the project names do not have titles from which we can get any interesting information.\n",
    "\n",
    "#The process after this is basically the same as for MegaGenome. The sampleInfo can be seen as the keywords of\n",
    "#that sample.\n",
    "    classificationDict={}\n",
    "    for classification,categories in allHierarchy.items():\n",
    "        categoriesinSample=[]\n",
    "        for category,values in categories.items():\n",
    "#IF a given keyword is a value for a category in a classification, we add the category to the list categoriesinSample.\n",
    "            for keyword in sampleInfo:\n",
    "                if keyword in values:\n",
    "                    categoriesinSample.append(category)\n",
    "                for value in values:\n",
    "                    if value in categoriesinSample:\n",
    "                         categoriesinProj.append(category)\n",
    "#It might be the case that many keywords from a project are values of the same cateogry, so we deduplicate the\n",
    "#category list here.\n",
    "        if len(categoriesinSample)!=0:\n",
    "            classificationDict[classification]=list(set(categoriesinSample))\n",
    "#If we did not find directly any values associated to the first level classifications (Overall is the name of that\n",
    "#csv file), then we assign one based on the second and third level classifications.\n",
    "    if \"Overall\" not in classificationDict.keys():\n",
    "        if \"Organism\" in classificationDict.keys() or \"BodyPart\" in classificationDict.keys():\n",
    "            classificationDict[\"Overall\"]=[\"Organismal\"]\n",
    "        elif \"Source_Surface\" in classificationDict.keys() or \"Source_Biome\" in classificationDict.keys() or \"Location\" in classificationDict.keys():\n",
    "            classificationDict[\"Overall\"]=[\"Environmental\"]\n",
    "    sampletoHierarchy[MSID]=classificationDict\n",
    "    \n",
    "MSfile.close()"
   ]
  },
  {
   "cell_type": "code",
   "execution_count": 17,
   "metadata": {},
   "outputs": [
    {
     "data": {
      "text/plain": [
       "5898"
      ]
     },
     "execution_count": 17,
     "metadata": {},
     "output_type": "execute_result"
    }
   ],
   "source": [
    "len(sampletoHierarchy)"
   ]
  },
  {
   "cell_type": "markdown",
   "metadata": {},
   "source": [
    "#### HMP"
   ]
  },
  {
   "cell_type": "code",
   "execution_count": 18,
   "metadata": {},
   "outputs": [
    {
     "name": "stdout",
     "output_type": "stream",
     "text": [
      "{'BodyPart': ['Nasopharynx'], 'Organism': ['Human'], 'Technique': ['Shotgun'], 'Overall': ['Organismal']}\n",
      "{'BodyPart': ['Nasopharynx'], 'Organism': ['Human'], 'Technique': ['Shotgun'], 'Overall': ['Organismal']}\n",
      "{'BodyPart': ['Nasopharynx'], 'Organism': ['Human'], 'Technique': ['Shotgun'], 'Overall': ['Organismal']}\n",
      "{'BodyPart': ['Nasopharynx'], 'Organism': ['Human'], 'Technique': ['Shotgun'], 'Overall': ['Organismal']}\n",
      "{'BodyPart': ['Nasopharynx'], 'Organism': ['Human'], 'Technique': ['Shotgun'], 'Overall': ['Organismal']}\n",
      "{'BodyPart': ['Nasopharynx'], 'Organism': ['Human'], 'Technique': ['Shotgun'], 'Overall': ['Organismal']}\n",
      "{'BodyPart': ['Nasopharynx'], 'Organism': ['Human'], 'Technique': ['Shotgun'], 'Overall': ['Organismal']}\n",
      "{'BodyPart': ['Nasopharynx'], 'Organism': ['Human'], 'Technique': ['Shotgun'], 'Overall': ['Organismal']}\n",
      "{'BodyPart': ['Nasopharynx'], 'Organism': ['Human'], 'Technique': ['Shotgun'], 'Overall': ['Organismal']}\n",
      "{'BodyPart': ['Nasopharynx'], 'Organism': ['Human'], 'Technique': ['Shotgun'], 'Overall': ['Organismal']}\n",
      "{'BodyPart': ['Nasopharynx'], 'Organism': ['Human'], 'Technique': ['Shotgun'], 'Overall': ['Organismal']}\n",
      "{'BodyPart': ['Nasopharynx'], 'Organism': ['Human'], 'Technique': ['Shotgun'], 'Overall': ['Organismal']}\n",
      "{'BodyPart': ['Nasopharynx'], 'Organism': ['Human'], 'Technique': ['Shotgun'], 'Overall': ['Organismal']}\n",
      "{'BodyPart': ['Nasopharynx'], 'Organism': ['Human'], 'Technique': ['Shotgun'], 'Overall': ['Organismal']}\n",
      "{'BodyPart': ['Blood Cell'], 'Organism': ['Human'], 'Technique': ['Shotgun'], 'Overall': ['Organismal']}\n",
      "{'BodyPart': ['Nasopharynx'], 'Organism': ['Human'], 'Technique': ['Shotgun'], 'Overall': ['Organismal']}\n",
      "{'BodyPart': ['Nasopharynx'], 'Organism': ['Human'], 'Technique': ['Shotgun'], 'Overall': ['Organismal']}\n",
      "{'Organism': ['Human'], 'Technique': ['Shotgun'], 'Overall': ['Organismal']}\n",
      "{'BodyPart': ['Blood Cell'], 'Organism': ['Human'], 'Technique': ['Shotgun'], 'Overall': ['Organismal']}\n",
      "{'BodyPart': ['Nasopharynx'], 'Organism': ['Human'], 'Technique': ['Shotgun'], 'Overall': ['Organismal']}\n",
      "{'BodyPart': ['Nasopharynx'], 'Organism': ['Human'], 'Technique': ['Shotgun'], 'Overall': ['Organismal']}\n",
      "{'BodyPart': ['Nasopharynx'], 'Organism': ['Human'], 'Technique': ['Shotgun'], 'Overall': ['Organismal']}\n",
      "{'BodyPart': ['Nasopharynx'], 'Organism': ['Human'], 'Technique': ['Shotgun'], 'Overall': ['Organismal']}\n",
      "{'BodyPart': ['Nasopharynx'], 'Organism': ['Human'], 'Technique': ['Shotgun'], 'Overall': ['Organismal']}\n",
      "{'BodyPart': ['Nasopharynx'], 'Organism': ['Human'], 'Technique': ['Shotgun'], 'Overall': ['Organismal']}\n",
      "{'BodyPart': ['Nasopharynx'], 'Organism': ['Human'], 'Technique': ['Shotgun'], 'Overall': ['Organismal']}\n",
      "{'BodyPart': ['Nasopharynx'], 'Organism': ['Human'], 'Technique': ['Shotgun'], 'Overall': ['Organismal']}\n",
      "{'BodyPart': ['Blood Cell'], 'Organism': ['Human'], 'Technique': ['Shotgun'], 'Overall': ['Organismal']}\n",
      "{'BodyPart': ['Nasopharynx'], 'Organism': ['Human'], 'Technique': ['Shotgun'], 'Overall': ['Organismal']}\n",
      "{'BodyPart': ['Nasopharynx'], 'Organism': ['Human'], 'Technique': ['Shotgun'], 'Overall': ['Organismal']}\n",
      "{'BodyPart': ['Nasopharynx'], 'Organism': ['Human'], 'Technique': ['Shotgun'], 'Overall': ['Organismal']}\n",
      "{'BodyPart': ['Fecal'], 'Organism': ['Human'], 'Technique': ['Shotgun'], 'Overall': ['Organismal']}\n",
      "{'BodyPart': ['Fecal'], 'Organism': ['Human'], 'Technique': ['Shotgun'], 'Overall': ['Organismal']}\n",
      "{'BodyPart': ['Oral'], 'Organism': ['Human'], 'Technique': ['Shotgun'], 'Overall': ['Organismal']}\n",
      "{'BodyPart': ['Oral-Gingival'], 'Organism': ['Human'], 'Technique': ['Shotgun'], 'Overall': ['Organismal']}\n",
      "{'BodyPart': ['Oral-Tongue'], 'Organism': ['Human'], 'Technique': ['Shotgun'], 'Overall': ['Organismal']}\n",
      "{'BodyPart': ['Oral-Gingival'], 'Organism': ['Human'], 'Technique': ['Shotgun'], 'Overall': ['Organismal']}\n",
      "{'BodyPart': ['Oral-Tongue'], 'Organism': ['Human'], 'Technique': ['Shotgun'], 'Overall': ['Organismal']}\n",
      "{'BodyPart': ['Oral-Tongue'], 'Organism': ['Human'], 'Technique': ['Shotgun'], 'Overall': ['Organismal']}\n",
      "{'BodyPart': ['Oral'], 'Organism': ['Human'], 'Technique': ['Shotgun'], 'Overall': ['Organismal']}\n",
      "{'BodyPart': ['Oral'], 'Organism': ['Human'], 'Technique': ['Shotgun'], 'Overall': ['Organismal']}\n",
      "{'BodyPart': ['Fecal'], 'Organism': ['Human'], 'Technique': ['Shotgun'], 'Overall': ['Organismal']}\n",
      "{'BodyPart': ['Oral-Tongue'], 'Organism': ['Human'], 'Technique': ['Shotgun'], 'Overall': ['Organismal']}\n",
      "{'BodyPart': ['External Naris'], 'Organism': ['Human'], 'Technique': ['Shotgun'], 'Overall': ['Organismal']}\n",
      "{'BodyPart': ['Fecal'], 'Organism': ['Human'], 'Technique': ['Shotgun'], 'Overall': ['Organismal']}\n",
      "{'BodyPart': ['Oral'], 'Organism': ['Human'], 'Technique': ['Shotgun'], 'Overall': ['Organismal']}\n",
      "{'BodyPart': ['Oral-Tongue'], 'Organism': ['Human'], 'Technique': ['Shotgun'], 'Overall': ['Organismal']}\n",
      "{'BodyPart': ['Fecal'], 'Organism': ['Human'], 'Technique': ['Shotgun'], 'Overall': ['Organismal']}\n",
      "{'BodyPart': ['Fecal'], 'Organism': ['Human'], 'Technique': ['Shotgun'], 'Overall': ['Organismal']}\n",
      "{'BodyPart': ['Vaginal'], 'Organism': ['Human'], 'Technique': ['Shotgun'], 'Overall': ['Organismal']}\n",
      "{'BodyPart': ['External Naris'], 'Organism': ['Human'], 'Technique': ['Shotgun'], 'Overall': ['Organismal']}\n",
      "{'BodyPart': ['Vaginal'], 'Organism': ['Human'], 'Technique': ['Shotgun'], 'Overall': ['Organismal']}\n",
      "{'BodyPart': ['Vaginal'], 'Organism': ['Human'], 'Technique': ['Shotgun'], 'Overall': ['Organismal']}\n",
      "{'BodyPart': ['Oral'], 'Organism': ['Human'], 'Technique': ['Shotgun'], 'Overall': ['Organismal']}\n",
      "{'BodyPart': ['External Naris'], 'Organism': ['Human'], 'Technique': ['Shotgun'], 'Overall': ['Organismal']}\n",
      "{'BodyPart': ['Oral'], 'Organism': ['Human'], 'Technique': ['Shotgun'], 'Overall': ['Organismal']}\n",
      "{'BodyPart': ['Fecal'], 'Organism': ['Human'], 'Technique': ['Shotgun'], 'Overall': ['Organismal']}\n",
      "{'BodyPart': ['Vaginal'], 'Organism': ['Human'], 'Technique': ['Shotgun'], 'Overall': ['Organismal']}\n",
      "{'BodyPart': ['Fecal'], 'Organism': ['Human'], 'Technique': ['Shotgun'], 'Overall': ['Organismal']}\n",
      "{'BodyPart': ['Oral-Tongue'], 'Organism': ['Human'], 'Technique': ['Shotgun'], 'Overall': ['Organismal']}\n",
      "{'BodyPart': ['Fecal'], 'Organism': ['Human'], 'Technique': ['Shotgun'], 'Overall': ['Organismal']}\n",
      "{'BodyPart': ['Oral-Gingival'], 'Organism': ['Human'], 'Technique': ['Shotgun'], 'Overall': ['Organismal']}\n",
      "{'BodyPart': ['Nasopharynx'], 'Organism': ['Human'], 'Technique': ['Shotgun'], 'Overall': ['Organismal']}\n",
      "{'BodyPart': ['Nasopharynx'], 'Organism': ['Human'], 'Technique': ['Shotgun'], 'Overall': ['Organismal']}\n",
      "{'BodyPart': ['Nasopharynx'], 'Organism': ['Human'], 'Technique': ['Shotgun'], 'Overall': ['Organismal']}\n",
      "{'BodyPart': ['Nasopharynx'], 'Organism': ['Human'], 'Technique': ['Shotgun'], 'Overall': ['Organismal']}\n",
      "{'BodyPart': ['Nasopharynx'], 'Organism': ['Human'], 'Technique': ['Shotgun'], 'Overall': ['Organismal']}\n",
      "{'BodyPart': ['Nasopharynx'], 'Organism': ['Human'], 'Technique': ['Shotgun'], 'Overall': ['Organismal']}\n",
      "{'BodyPart': ['Blood Cell'], 'Organism': ['Human'], 'Technique': ['Shotgun'], 'Overall': ['Organismal']}\n",
      "{'BodyPart': ['Nasopharynx'], 'Organism': ['Human'], 'Technique': ['Shotgun'], 'Overall': ['Organismal']}\n",
      "{'BodyPart': ['Blood Cell'], 'Organism': ['Human'], 'Technique': ['Shotgun'], 'Overall': ['Organismal']}\n",
      "{'BodyPart': ['Nasopharynx'], 'Organism': ['Human'], 'Technique': ['Shotgun'], 'Overall': ['Organismal']}\n",
      "{'BodyPart': ['Blood Cell'], 'Organism': ['Human'], 'Technique': ['Shotgun'], 'Overall': ['Organismal']}\n",
      "{'BodyPart': ['Nasopharynx'], 'Organism': ['Human'], 'Technique': ['Shotgun'], 'Overall': ['Organismal']}\n",
      "{'BodyPart': ['Nasopharynx'], 'Organism': ['Human'], 'Technique': ['Shotgun'], 'Overall': ['Organismal']}\n",
      "{'BodyPart': ['Nasopharynx'], 'Organism': ['Human'], 'Technique': ['Shotgun'], 'Overall': ['Organismal']}\n",
      "{'BodyPart': ['Blood Cell'], 'Organism': ['Human'], 'Technique': ['Shotgun'], 'Overall': ['Organismal']}\n",
      "{'BodyPart': ['Gut'], 'Organism': ['Human'], 'Technique': ['Shotgun'], 'Overall': ['Organismal']}\n",
      "{'BodyPart': ['Nasopharynx'], 'Organism': ['Human'], 'Technique': ['Shotgun'], 'Overall': ['Organismal']}\n",
      "{'BodyPart': ['Nasopharynx'], 'Organism': ['Human'], 'Technique': ['Shotgun'], 'Overall': ['Organismal']}\n",
      "{'BodyPart': ['Blood Cell'], 'Organism': ['Human'], 'Technique': ['Shotgun'], 'Overall': ['Organismal']}\n",
      "{'BodyPart': ['Nasopharynx'], 'Organism': ['Human'], 'Technique': ['Shotgun'], 'Overall': ['Organismal']}\n",
      "{'BodyPart': ['Nasopharynx'], 'Organism': ['Human'], 'Technique': ['Shotgun'], 'Overall': ['Organismal']}\n",
      "{'BodyPart': ['Gut'], 'Organism': ['Human'], 'Technique': ['Shotgun'], 'Overall': ['Organismal']}\n",
      "{'BodyPart': ['Blood Cell'], 'Organism': ['Human'], 'Technique': ['Shotgun'], 'Overall': ['Organismal']}\n",
      "{'BodyPart': ['Nasopharynx'], 'Organism': ['Human'], 'Technique': ['Shotgun'], 'Overall': ['Organismal']}\n"
     ]
    },
    {
     "name": "stdout",
     "output_type": "stream",
     "text": [
      "{'BodyPart': ['Nasopharynx'], 'Organism': ['Human'], 'Technique': ['Shotgun'], 'Overall': ['Organismal']}\n",
      "{'BodyPart': ['Nasopharynx'], 'Organism': ['Human'], 'Technique': ['Shotgun'], 'Overall': ['Organismal']}\n",
      "{'BodyPart': ['Nasopharynx'], 'Organism': ['Human'], 'Technique': ['Shotgun'], 'Overall': ['Organismal']}\n",
      "{'BodyPart': ['Nasopharynx'], 'Organism': ['Human'], 'Technique': ['Shotgun'], 'Overall': ['Organismal']}\n",
      "{'BodyPart': ['Nasopharynx'], 'Organism': ['Human'], 'Technique': ['Shotgun'], 'Overall': ['Organismal']}\n",
      "{'BodyPart': ['Blood Cell'], 'Organism': ['Human'], 'Technique': ['Shotgun'], 'Overall': ['Organismal']}\n",
      "{'BodyPart': ['Blood Cell'], 'Organism': ['Human'], 'Technique': ['Shotgun'], 'Overall': ['Organismal']}\n",
      "{'BodyPart': ['Nasopharynx'], 'Organism': ['Human'], 'Technique': ['Shotgun'], 'Overall': ['Organismal']}\n",
      "{'BodyPart': ['Blood Cell'], 'Organism': ['Human'], 'Technique': ['Shotgun'], 'Overall': ['Organismal']}\n",
      "{'BodyPart': ['Nasopharynx'], 'Organism': ['Human'], 'Technique': ['Shotgun'], 'Overall': ['Organismal']}\n",
      "{'BodyPart': ['Blood Cell'], 'Organism': ['Human'], 'Technique': ['Shotgun'], 'Overall': ['Organismal']}\n",
      "{'BodyPart': ['Nasopharynx'], 'Organism': ['Human'], 'Technique': ['Shotgun'], 'Overall': ['Organismal']}\n",
      "{'BodyPart': ['Nasopharynx'], 'Organism': ['Human'], 'Technique': ['Shotgun'], 'Overall': ['Organismal']}\n",
      "{'BodyPart': ['Nasopharynx'], 'Organism': ['Human'], 'Technique': ['Shotgun'], 'Overall': ['Organismal']}\n",
      "{'BodyPart': ['Nasopharynx'], 'Organism': ['Human'], 'Technique': ['Shotgun'], 'Overall': ['Organismal']}\n",
      "{'BodyPart': ['Nasopharynx'], 'Organism': ['Human'], 'Technique': ['Shotgun'], 'Overall': ['Organismal']}\n",
      "{'BodyPart': ['Nasopharynx'], 'Organism': ['Human'], 'Technique': ['Shotgun'], 'Overall': ['Organismal']}\n",
      "{'BodyPart': ['Blood Cell'], 'Organism': ['Human'], 'Technique': ['Shotgun'], 'Overall': ['Organismal']}\n",
      "{'BodyPart': ['External Naris'], 'Organism': ['Human'], 'Technique': ['Shotgun'], 'Overall': ['Organismal']}\n",
      "{'BodyPart': ['Fecal'], 'Organism': ['Human'], 'Technique': ['Shotgun'], 'Overall': ['Organismal']}\n",
      "{'BodyPart': ['Oral'], 'Organism': ['Human'], 'Technique': ['Shotgun'], 'Overall': ['Organismal']}\n",
      "{'BodyPart': ['Oral-Gingival'], 'Organism': ['Human'], 'Technique': ['Shotgun'], 'Overall': ['Organismal']}\n",
      "{'BodyPart': ['Fecal'], 'Organism': ['Human'], 'Technique': ['Shotgun'], 'Overall': ['Organismal']}\n",
      "{'BodyPart': ['Fecal'], 'Organism': ['Human'], 'Technique': ['Shotgun'], 'Overall': ['Organismal']}\n",
      "{'BodyPart': ['Vaginal'], 'Organism': ['Human'], 'Technique': ['Shotgun'], 'Overall': ['Organismal']}\n",
      "{'BodyPart': ['Fecal'], 'Organism': ['Human'], 'Technique': ['Shotgun'], 'Overall': ['Organismal']}\n",
      "{'BodyPart': ['Fecal'], 'Organism': ['Human'], 'Technique': ['Shotgun'], 'Overall': ['Organismal']}\n",
      "{'BodyPart': ['Fecal'], 'Organism': ['Human'], 'Technique': ['Shotgun'], 'Overall': ['Organismal']}\n",
      "{'BodyPart': ['Oral-Gingival'], 'Organism': ['Human'], 'Technique': ['Shotgun'], 'Overall': ['Organismal']}\n",
      "{'BodyPart': ['Oral-Tongue'], 'Organism': ['Human'], 'Technique': ['Shotgun'], 'Overall': ['Organismal']}\n",
      "{'BodyPart': ['External Naris'], 'Organism': ['Human'], 'Technique': ['Shotgun'], 'Overall': ['Organismal']}\n",
      "{'BodyPart': ['External Naris'], 'Organism': ['Human'], 'Technique': ['Shotgun'], 'Overall': ['Organismal']}\n",
      "{'BodyPart': ['Oral'], 'Organism': ['Human'], 'Technique': ['Shotgun'], 'Overall': ['Organismal']}\n",
      "{'BodyPart': ['Fecal'], 'Organism': ['Human'], 'Technique': ['Shotgun'], 'Overall': ['Organismal']}\n",
      "{'BodyPart': ['Fecal'], 'Organism': ['Human'], 'Technique': ['Shotgun'], 'Overall': ['Organismal']}\n",
      "{'BodyPart': ['Oral'], 'Organism': ['Human'], 'Technique': ['Shotgun'], 'Overall': ['Organismal']}\n",
      "{'BodyPart': ['External Naris'], 'Organism': ['Human'], 'Technique': ['Shotgun'], 'Overall': ['Organismal']}\n",
      "{'BodyPart': ['Oral-Gingival'], 'Organism': ['Human'], 'Technique': ['Shotgun'], 'Overall': ['Organismal']}\n",
      "{'BodyPart': ['Vaginal'], 'Organism': ['Human'], 'Technique': ['Shotgun'], 'Overall': ['Organismal']}\n",
      "{'BodyPart': ['Oral-Gingival'], 'Organism': ['Human'], 'Technique': ['Shotgun'], 'Overall': ['Organismal']}\n",
      "{'BodyPart': ['External Naris'], 'Organism': ['Human'], 'Technique': ['Shotgun'], 'Overall': ['Organismal']}\n",
      "{'BodyPart': ['Blood Cell'], 'Organism': ['Human'], 'Technique': ['Shotgun'], 'Overall': ['Organismal']}\n",
      "{'BodyPart': ['Nasopharynx'], 'Organism': ['Human'], 'Technique': ['Shotgun'], 'Overall': ['Organismal']}\n",
      "{'BodyPart': ['Blood Cell'], 'Organism': ['Human'], 'Technique': ['Shotgun'], 'Overall': ['Organismal']}\n",
      "{'BodyPart': ['Oral'], 'Organism': ['Human'], 'Technique': ['Shotgun'], 'Overall': ['Organismal']}\n",
      "{'BodyPart': ['Oral-Gingival'], 'Organism': ['Human'], 'Technique': ['Shotgun'], 'Overall': ['Organismal']}\n",
      "{'BodyPart': ['Oral-Tongue'], 'Organism': ['Human'], 'Technique': ['Shotgun'], 'Overall': ['Organismal']}\n",
      "{'BodyPart': ['Fecal'], 'Organism': ['Human'], 'Technique': ['Shotgun'], 'Overall': ['Organismal']}\n",
      "{'BodyPart': ['Oral-Gingival'], 'Organism': ['Human'], 'Technique': ['Shotgun'], 'Overall': ['Organismal']}\n",
      "{'BodyPart': ['External Naris'], 'Organism': ['Human'], 'Technique': ['Shotgun'], 'Overall': ['Organismal']}\n",
      "{'BodyPart': ['Fecal'], 'Organism': ['Human'], 'Technique': ['Shotgun'], 'Overall': ['Organismal']}\n",
      "{'BodyPart': ['Oral-Tongue'], 'Organism': ['Human'], 'Technique': ['Shotgun'], 'Overall': ['Organismal']}\n",
      "{'BodyPart': ['External Naris'], 'Organism': ['Human'], 'Technique': ['Shotgun'], 'Overall': ['Organismal']}\n",
      "{'BodyPart': ['Oral-Gingival'], 'Organism': ['Human'], 'Technique': ['Shotgun'], 'Overall': ['Organismal']}\n",
      "{'BodyPart': ['Oral'], 'Organism': ['Human'], 'Technique': ['Shotgun'], 'Overall': ['Organismal']}\n",
      "{'BodyPart': ['Oral'], 'Organism': ['Human'], 'Technique': ['Shotgun'], 'Overall': ['Organismal']}\n",
      "{'BodyPart': ['Vaginal'], 'Organism': ['Human'], 'Technique': ['Shotgun'], 'Overall': ['Organismal']}\n",
      "{'BodyPart': ['Oral-Tonsil'], 'Organism': ['Human'], 'Technique': ['Shotgun'], 'Overall': ['Organismal']}\n",
      "{'BodyPart': ['Oral-Tongue'], 'Organism': ['Human'], 'Technique': ['Shotgun'], 'Overall': ['Organismal']}\n",
      "{'BodyPart': ['Fecal'], 'Organism': ['Human'], 'Technique': ['Shotgun'], 'Overall': ['Organismal']}\n",
      "{'BodyPart': ['Oral-Gingival'], 'Organism': ['Human'], 'Technique': ['Shotgun'], 'Overall': ['Organismal']}\n",
      "{'BodyPart': ['Fecal'], 'Organism': ['Human'], 'Technique': ['Shotgun'], 'Overall': ['Organismal']}\n",
      "{'BodyPart': ['External Naris'], 'Organism': ['Human'], 'Technique': ['Shotgun'], 'Overall': ['Organismal']}\n",
      "{'BodyPart': ['Oral-Gingival'], 'Organism': ['Human'], 'Technique': ['Shotgun'], 'Overall': ['Organismal']}\n",
      "{'BodyPart': ['External Naris'], 'Organism': ['Human'], 'Technique': ['Shotgun'], 'Overall': ['Organismal']}\n",
      "{'BodyPart': ['Oral-Tonsil'], 'Organism': ['Human'], 'Technique': ['Shotgun'], 'Overall': ['Organismal']}\n",
      "{'BodyPart': ['Oral'], 'Organism': ['Human'], 'Technique': ['Shotgun'], 'Overall': ['Organismal']}\n",
      "{'BodyPart': ['External Naris'], 'Organism': ['Human'], 'Technique': ['Shotgun'], 'Overall': ['Organismal']}\n",
      "{'BodyPart': ['Oral-Tongue'], 'Organism': ['Human'], 'Technique': ['Shotgun'], 'Overall': ['Organismal']}\n",
      "{'BodyPart': ['Oral-Tongue'], 'Organism': ['Human'], 'Technique': ['Shotgun'], 'Overall': ['Organismal']}\n",
      "{'BodyPart': ['Oral'], 'Organism': ['Human'], 'Technique': ['Shotgun'], 'Overall': ['Organismal']}\n",
      "{'BodyPart': ['Oral'], 'Organism': ['Human'], 'Technique': ['Shotgun'], 'Overall': ['Organismal']}\n",
      "{'BodyPart': ['Oral-Gingival'], 'Organism': ['Human'], 'Technique': ['Shotgun'], 'Overall': ['Organismal']}\n",
      "{'BodyPart': ['Fecal'], 'Organism': ['Human'], 'Technique': ['Shotgun'], 'Overall': ['Organismal']}\n",
      "{'BodyPart': ['Vaginal'], 'Organism': ['Human'], 'Technique': ['Shotgun'], 'Overall': ['Organismal']}\n",
      "{'BodyPart': ['Oral'], 'Organism': ['Human'], 'Technique': ['Shotgun'], 'Overall': ['Organismal']}\n",
      "{'BodyPart': ['Oral-Gingival'], 'Organism': ['Human'], 'Technique': ['Shotgun'], 'Overall': ['Organismal']}\n",
      "{'BodyPart': ['Oral-Tongue'], 'Organism': ['Human'], 'Technique': ['Shotgun'], 'Overall': ['Organismal']}\n",
      "{'BodyPart': ['Oral-Tongue'], 'Organism': ['Human'], 'Technique': ['Shotgun'], 'Overall': ['Organismal']}\n",
      "{'BodyPart': ['Oral-Tongue'], 'Organism': ['Human'], 'Technique': ['Shotgun'], 'Overall': ['Organismal']}\n",
      "{'BodyPart': ['Oral-Tongue'], 'Organism': ['Human'], 'Technique': ['Shotgun'], 'Overall': ['Organismal']}\n",
      "{'BodyPart': ['Vaginal'], 'Organism': ['Human'], 'Technique': ['Shotgun'], 'Overall': ['Organismal']}\n",
      "{'BodyPart': ['Oral-Tonsil'], 'Organism': ['Human'], 'Technique': ['Shotgun'], 'Overall': ['Organismal']}\n",
      "{'BodyPart': ['Fecal'], 'Organism': ['Human'], 'Technique': ['Shotgun'], 'Overall': ['Organismal']}\n",
      "{'BodyPart': ['Oral-Tongue'], 'Organism': ['Human'], 'Technique': ['Shotgun'], 'Overall': ['Organismal']}\n",
      "{'BodyPart': ['Oral'], 'Organism': ['Human'], 'Technique': ['Shotgun'], 'Overall': ['Organismal']}\n",
      "{'BodyPart': ['Fecal'], 'Organism': ['Human'], 'Technique': ['Shotgun'], 'Overall': ['Organismal']}\n",
      "{'BodyPart': ['Oral-Gingival'], 'Organism': ['Human'], 'Technique': ['Shotgun'], 'Overall': ['Organismal']}\n",
      "{'BodyPart': ['Oral'], 'Organism': ['Human'], 'Technique': ['Shotgun'], 'Overall': ['Organismal']}\n",
      "{'BodyPart': ['Vaginal'], 'Organism': ['Human'], 'Technique': ['Shotgun'], 'Overall': ['Organismal']}\n",
      "{'BodyPart': ['Oral-Gingival'], 'Organism': ['Human'], 'Technique': ['Shotgun'], 'Overall': ['Organismal']}\n",
      "{'BodyPart': ['Fecal'], 'Organism': ['Human'], 'Technique': ['Shotgun'], 'Overall': ['Organismal']}\n",
      "{'BodyPart': ['Oral-Gingival'], 'Organism': ['Human'], 'Technique': ['Shotgun'], 'Overall': ['Organismal']}\n",
      "{'BodyPart': ['External Naris'], 'Organism': ['Human'], 'Technique': ['Shotgun'], 'Overall': ['Organismal']}\n",
      "{'BodyPart': ['Oral-Tongue'], 'Organism': ['Human'], 'Technique': ['Shotgun'], 'Overall': ['Organismal']}\n",
      "{'BodyPart': ['Fecal'], 'Organism': ['Human'], 'Technique': ['Shotgun'], 'Overall': ['Organismal']}\n",
      "{'BodyPart': ['Ear'], 'Organism': ['Human'], 'Technique': ['Shotgun'], 'Overall': ['Organismal']}\n",
      "{'BodyPart': ['Oral'], 'Organism': ['Human'], 'Technique': ['Shotgun'], 'Overall': ['Organismal']}\n",
      "{'BodyPart': ['Oral-Gingival'], 'Organism': ['Human'], 'Technique': ['Shotgun'], 'Overall': ['Organismal']}\n",
      "{'BodyPart': ['Vaginal'], 'Organism': ['Human'], 'Technique': ['Shotgun'], 'Overall': ['Organismal']}\n",
      "{'BodyPart': ['External Naris'], 'Organism': ['Human'], 'Technique': ['Shotgun'], 'Overall': ['Organismal']}\n",
      "{'BodyPart': ['Fecal'], 'Organism': ['Human'], 'Technique': ['Shotgun'], 'Overall': ['Organismal']}\n",
      "{'BodyPart': ['Fecal'], 'Organism': ['Human'], 'Technique': ['Shotgun'], 'Overall': ['Organismal']}\n",
      "{'BodyPart': ['Oral-Tongue'], 'Organism': ['Human'], 'Technique': ['Shotgun'], 'Overall': ['Organismal']}\n",
      "{'BodyPart': ['Fecal'], 'Organism': ['Human'], 'Technique': ['Shotgun'], 'Overall': ['Organismal']}\n",
      "{'BodyPart': ['Oral-Tongue'], 'Organism': ['Human'], 'Technique': ['Shotgun'], 'Overall': ['Organismal']}\n",
      "{'BodyPart': ['Oral-Gingival'], 'Organism': ['Human'], 'Technique': ['Shotgun'], 'Overall': ['Organismal']}\n",
      "{'BodyPart': ['Oral-Gingival'], 'Organism': ['Human'], 'Technique': ['Shotgun'], 'Overall': ['Organismal']}\n",
      "{'BodyPart': ['Oral'], 'Organism': ['Human'], 'Technique': ['Shotgun'], 'Overall': ['Organismal']}\n",
      "{'BodyPart': ['Vaginal'], 'Organism': ['Human'], 'Technique': ['Shotgun'], 'Overall': ['Organismal']}\n",
      "{'BodyPart': ['Fecal'], 'Organism': ['Human'], 'Technique': ['Shotgun'], 'Overall': ['Organismal']}\n",
      "{'BodyPart': ['Fecal'], 'Organism': ['Human'], 'Technique': ['Shotgun'], 'Overall': ['Organismal']}\n",
      "{'BodyPart': ['External Naris'], 'Organism': ['Human'], 'Technique': ['Shotgun'], 'Overall': ['Organismal']}\n",
      "{'BodyPart': ['Oral-Tongue'], 'Organism': ['Human'], 'Technique': ['Shotgun'], 'Overall': ['Organismal']}\n",
      "{'BodyPart': ['Oral'], 'Organism': ['Human'], 'Technique': ['Shotgun'], 'Overall': ['Organismal']}\n",
      "{'BodyPart': ['Fecal'], 'Organism': ['Human'], 'Technique': ['Shotgun'], 'Overall': ['Organismal']}\n",
      "{'BodyPart': ['Oral-Tongue'], 'Organism': ['Human'], 'Technique': ['Shotgun'], 'Overall': ['Organismal']}\n",
      "{'BodyPart': ['Vaginal'], 'Organism': ['Human'], 'Technique': ['Shotgun'], 'Overall': ['Organismal']}\n",
      "{'BodyPart': ['External Naris'], 'Organism': ['Human'], 'Technique': ['Shotgun'], 'Overall': ['Organismal']}\n",
      "{'BodyPart': ['Oral-Tongue'], 'Organism': ['Human'], 'Technique': ['Shotgun'], 'Overall': ['Organismal']}\n",
      "{'BodyPart': ['Oral-Gingival'], 'Organism': ['Human'], 'Technique': ['Shotgun'], 'Overall': ['Organismal']}\n",
      "{'BodyPart': ['Oral-Tongue'], 'Organism': ['Human'], 'Technique': ['Shotgun'], 'Overall': ['Organismal']}\n",
      "{'BodyPart': ['Oral-Gingival'], 'Organism': ['Human'], 'Technique': ['Shotgun'], 'Overall': ['Organismal']}\n",
      "{'BodyPart': ['Fecal'], 'Organism': ['Human'], 'Technique': ['Shotgun'], 'Overall': ['Organismal']}\n",
      "{'BodyPart': ['Oral-Tonsil'], 'Organism': ['Human'], 'Technique': ['Shotgun'], 'Overall': ['Organismal']}\n",
      "{'BodyPart': ['Vaginal'], 'Organism': ['Human'], 'Technique': ['Shotgun'], 'Overall': ['Organismal']}\n",
      "{'BodyPart': ['Oral-Gingival'], 'Organism': ['Human'], 'Technique': ['Shotgun'], 'Overall': ['Organismal']}\n",
      "{'BodyPart': ['Oral'], 'Organism': ['Human'], 'Technique': ['Shotgun'], 'Overall': ['Organismal']}\n",
      "{'BodyPart': ['Oral-Gingival'], 'Organism': ['Human'], 'Technique': ['Shotgun'], 'Overall': ['Organismal']}\n",
      "{'BodyPart': ['Oral-Gingival'], 'Organism': ['Human'], 'Technique': ['Shotgun'], 'Overall': ['Organismal']}\n",
      "{'BodyPart': ['Fecal'], 'Organism': ['Human'], 'Technique': ['Shotgun'], 'Overall': ['Organismal']}\n",
      "{'BodyPart': ['Fecal'], 'Organism': ['Human'], 'Technique': ['Shotgun'], 'Overall': ['Organismal']}\n",
      "{'BodyPart': ['Fecal'], 'Organism': ['Human'], 'Technique': ['Shotgun'], 'Overall': ['Organismal']}\n",
      "{'BodyPart': ['External Naris'], 'Organism': ['Human'], 'Technique': ['Shotgun'], 'Overall': ['Organismal']}\n",
      "{'BodyPart': ['Oral-Tongue'], 'Organism': ['Human'], 'Technique': ['Shotgun'], 'Overall': ['Organismal']}\n",
      "{'BodyPart': ['Vaginal'], 'Organism': ['Human'], 'Technique': ['Shotgun'], 'Overall': ['Organismal']}\n",
      "{'BodyPart': ['Fecal'], 'Organism': ['Human'], 'Technique': ['Shotgun'], 'Overall': ['Organismal']}\n",
      "{'Organism': ['Human'], 'Technique': ['Shotgun'], 'Overall': ['Organismal']}\n",
      "{'BodyPart': ['Oral-Gingival'], 'Organism': ['Human'], 'Technique': ['Shotgun'], 'Overall': ['Organismal']}\n",
      "{'BodyPart': ['Throat'], 'Organism': ['Human'], 'Technique': ['Shotgun'], 'Overall': ['Organismal']}\n",
      "{'BodyPart': ['Oral-Tonsil'], 'Organism': ['Human'], 'Technique': ['Shotgun'], 'Overall': ['Organismal']}\n",
      "{'BodyPart': ['Oral-Gingival'], 'Organism': ['Human'], 'Technique': ['Shotgun'], 'Overall': ['Organismal']}\n",
      "{'BodyPart': ['Oral'], 'Organism': ['Human'], 'Technique': ['Shotgun'], 'Overall': ['Organismal']}\n",
      "{'BodyPart': ['Fecal'], 'Organism': ['Human'], 'Technique': ['Shotgun'], 'Overall': ['Organismal']}\n",
      "{'BodyPart': ['Fecal'], 'Organism': ['Human'], 'Technique': ['Shotgun'], 'Overall': ['Organismal']}\n",
      "{'BodyPart': ['Oral-Tongue'], 'Organism': ['Human'], 'Technique': ['Shotgun'], 'Overall': ['Organismal']}\n",
      "{'BodyPart': ['External Naris'], 'Organism': ['Human'], 'Technique': ['Shotgun'], 'Overall': ['Organismal']}\n"
     ]
    },
    {
     "name": "stdout",
     "output_type": "stream",
     "text": [
      "{'BodyPart': ['Oral-Tonsil'], 'Organism': ['Human'], 'Technique': ['Shotgun'], 'Overall': ['Organismal']}\n",
      "{'BodyPart': ['Oral-Gingival'], 'Organism': ['Human'], 'Technique': ['Shotgun'], 'Overall': ['Organismal']}\n",
      "{'BodyPart': ['Fecal'], 'Organism': ['Human'], 'Technique': ['Shotgun'], 'Overall': ['Organismal']}\n",
      "{'BodyPart': ['Fecal'], 'Organism': ['Human'], 'Technique': ['Shotgun'], 'Overall': ['Organismal']}\n",
      "{'BodyPart': ['Oral'], 'Organism': ['Human'], 'Technique': ['Shotgun'], 'Overall': ['Organismal']}\n",
      "{'BodyPart': ['Fecal'], 'Organism': ['Human'], 'Technique': ['Shotgun'], 'Overall': ['Organismal']}\n",
      "{'BodyPart': ['Oral-Gingival'], 'Organism': ['Human'], 'Technique': ['Shotgun'], 'Overall': ['Organismal']}\n",
      "{'BodyPart': ['Oral-Tongue'], 'Organism': ['Human'], 'Technique': ['Shotgun'], 'Overall': ['Organismal']}\n",
      "{'BodyPart': ['Oral'], 'Organism': ['Human'], 'Technique': ['Shotgun'], 'Overall': ['Organismal']}\n",
      "{'BodyPart': ['Fecal'], 'Organism': ['Human'], 'Technique': ['Shotgun'], 'Overall': ['Organismal']}\n",
      "{'BodyPart': ['Oral'], 'Organism': ['Human'], 'Technique': ['Shotgun'], 'Overall': ['Organismal']}\n",
      "{'BodyPart': ['Oral-Gingival'], 'Organism': ['Human'], 'Technique': ['Shotgun'], 'Overall': ['Organismal']}\n",
      "{'BodyPart': ['Oral-Gingival'], 'Organism': ['Human'], 'Technique': ['Shotgun'], 'Overall': ['Organismal']}\n",
      "{'BodyPart': ['Oral'], 'Organism': ['Human'], 'Technique': ['Shotgun'], 'Overall': ['Organismal']}\n",
      "{'BodyPart': ['Vaginal'], 'Organism': ['Human'], 'Technique': ['Shotgun'], 'Overall': ['Organismal']}\n",
      "{'BodyPart': ['Oral-Gingival'], 'Organism': ['Human'], 'Technique': ['Shotgun'], 'Overall': ['Organismal']}\n",
      "{'BodyPart': ['Oral'], 'Organism': ['Human'], 'Technique': ['Shotgun'], 'Overall': ['Organismal']}\n",
      "{'BodyPart': ['Oral-Tongue'], 'Organism': ['Human'], 'Technique': ['Shotgun'], 'Overall': ['Organismal']}\n",
      "{'BodyPart': ['Oral-Tongue'], 'Organism': ['Human'], 'Technique': ['Shotgun'], 'Overall': ['Organismal']}\n",
      "{'BodyPart': ['Oral-Gingival'], 'Organism': ['Human'], 'Technique': ['Shotgun'], 'Overall': ['Organismal']}\n",
      "{'BodyPart': ['Fecal'], 'Organism': ['Human'], 'Technique': ['Shotgun'], 'Overall': ['Organismal']}\n",
      "{'BodyPart': ['Fecal'], 'Organism': ['Human'], 'Technique': ['Shotgun'], 'Overall': ['Organismal']}\n",
      "{'BodyPart': ['Oral'], 'Organism': ['Human'], 'Technique': ['Shotgun'], 'Overall': ['Organismal']}\n",
      "{'BodyPart': ['Vaginal'], 'Organism': ['Human'], 'Technique': ['Shotgun'], 'Overall': ['Organismal']}\n",
      "{'Organism': ['Human'], 'Technique': ['Shotgun'], 'Overall': ['Organismal']}\n",
      "{'BodyPart': ['Oral-Gingival'], 'Organism': ['Human'], 'Technique': ['Shotgun'], 'Overall': ['Organismal']}\n",
      "{'BodyPart': ['Oral-Tongue'], 'Organism': ['Human'], 'Technique': ['Shotgun'], 'Overall': ['Organismal']}\n",
      "{'BodyPart': ['Oral'], 'Organism': ['Human'], 'Technique': ['Shotgun'], 'Overall': ['Organismal']}\n",
      "{'BodyPart': ['Vaginal'], 'Organism': ['Human'], 'Technique': ['Shotgun'], 'Overall': ['Organismal']}\n",
      "{'BodyPart': ['Oral'], 'Organism': ['Human'], 'Technique': ['Shotgun'], 'Overall': ['Organismal']}\n",
      "{'BodyPart': ['External Naris'], 'Organism': ['Human'], 'Technique': ['Shotgun'], 'Overall': ['Organismal']}\n",
      "{'BodyPart': ['Oral'], 'Organism': ['Human'], 'Technique': ['Shotgun'], 'Overall': ['Organismal']}\n",
      "{'BodyPart': ['Fecal'], 'Organism': ['Human'], 'Technique': ['Shotgun'], 'Overall': ['Organismal']}\n",
      "{'BodyPart': ['Oral'], 'Organism': ['Human'], 'Technique': ['Shotgun'], 'Overall': ['Organismal']}\n",
      "{'BodyPart': ['Fecal'], 'Organism': ['Human'], 'Technique': ['Shotgun'], 'Overall': ['Organismal']}\n",
      "{'BodyPart': ['Oral-Tongue'], 'Organism': ['Human'], 'Technique': ['Shotgun'], 'Overall': ['Organismal']}\n",
      "{'BodyPart': ['Oral-Gingival'], 'Organism': ['Human'], 'Technique': ['Shotgun'], 'Overall': ['Organismal']}\n",
      "{'BodyPart': ['External Naris'], 'Organism': ['Human'], 'Technique': ['Shotgun'], 'Overall': ['Organismal']}\n",
      "{'BodyPart': ['Oral'], 'Organism': ['Human'], 'Technique': ['Shotgun'], 'Overall': ['Organismal']}\n",
      "{'BodyPart': ['Fecal'], 'Organism': ['Human'], 'Technique': ['Shotgun'], 'Overall': ['Organismal']}\n",
      "{'BodyPart': ['Oral'], 'Organism': ['Human'], 'Technique': ['Shotgun'], 'Overall': ['Organismal']}\n",
      "{'BodyPart': ['Oral-Gingival'], 'Organism': ['Human'], 'Technique': ['Shotgun'], 'Overall': ['Organismal']}\n",
      "{'BodyPart': ['Fecal'], 'Organism': ['Human'], 'Technique': ['Shotgun'], 'Overall': ['Organismal']}\n",
      "{'BodyPart': ['Oral-Gingival'], 'Organism': ['Human'], 'Technique': ['Shotgun'], 'Overall': ['Organismal']}\n",
      "{'BodyPart': ['Vaginal'], 'Organism': ['Human'], 'Technique': ['Shotgun'], 'Overall': ['Organismal']}\n",
      "{'BodyPart': ['External Naris'], 'Organism': ['Human'], 'Technique': ['Shotgun'], 'Overall': ['Organismal']}\n",
      "{'BodyPart': ['Oral-Tongue'], 'Organism': ['Human'], 'Technique': ['Shotgun'], 'Overall': ['Organismal']}\n",
      "{'BodyPart': ['Vaginal'], 'Organism': ['Human'], 'Technique': ['Shotgun'], 'Overall': ['Organismal']}\n",
      "{'BodyPart': ['Oral'], 'Organism': ['Human'], 'Technique': ['Shotgun'], 'Overall': ['Organismal']}\n",
      "{'BodyPart': ['Oral'], 'Organism': ['Human'], 'Technique': ['Shotgun'], 'Overall': ['Organismal']}\n",
      "{'BodyPart': ['Vaginal'], 'Organism': ['Human'], 'Technique': ['Shotgun'], 'Overall': ['Organismal']}\n",
      "{'BodyPart': ['Vaginal'], 'Organism': ['Human'], 'Technique': ['Shotgun'], 'Overall': ['Organismal']}\n",
      "{'BodyPart': ['External Naris'], 'Organism': ['Human'], 'Technique': ['Shotgun'], 'Overall': ['Organismal']}\n",
      "{'BodyPart': ['Oral-Tongue'], 'Organism': ['Human'], 'Technique': ['Shotgun'], 'Overall': ['Organismal']}\n",
      "{'BodyPart': ['Oral'], 'Organism': ['Human'], 'Technique': ['Shotgun'], 'Overall': ['Organismal']}\n",
      "{'BodyPart': ['Oral-Gingival'], 'Organism': ['Human'], 'Technique': ['Shotgun'], 'Overall': ['Organismal']}\n",
      "{'BodyPart': ['Fecal'], 'Organism': ['Human'], 'Technique': ['Shotgun'], 'Overall': ['Organismal']}\n",
      "{'BodyPart': ['Fecal'], 'Organism': ['Human'], 'Technique': ['Shotgun'], 'Overall': ['Organismal']}\n",
      "{'BodyPart': ['Vaginal'], 'Organism': ['Human'], 'Technique': ['Shotgun'], 'Overall': ['Organismal']}\n",
      "{'BodyPart': ['Vaginal'], 'Organism': ['Human'], 'Technique': ['Shotgun'], 'Overall': ['Organismal']}\n",
      "{'BodyPart': ['Oral-Gingival'], 'Organism': ['Human'], 'Technique': ['Shotgun'], 'Overall': ['Organismal']}\n",
      "{'BodyPart': ['Oral-Gingival'], 'Organism': ['Human'], 'Technique': ['Shotgun'], 'Overall': ['Organismal']}\n",
      "{'BodyPart': ['Oral'], 'Organism': ['Human'], 'Technique': ['Shotgun'], 'Overall': ['Organismal']}\n",
      "{'BodyPart': ['Oral-Tongue'], 'Organism': ['Human'], 'Technique': ['Shotgun'], 'Overall': ['Organismal']}\n",
      "{'BodyPart': ['Ear'], 'Organism': ['Human'], 'Technique': ['Shotgun'], 'Overall': ['Organismal']}\n",
      "{'BodyPart': ['Oral'], 'Organism': ['Human'], 'Technique': ['Shotgun'], 'Overall': ['Organismal']}\n",
      "{'BodyPart': ['External Naris'], 'Organism': ['Human'], 'Technique': ['Shotgun'], 'Overall': ['Organismal']}\n",
      "{'BodyPart': ['Oral'], 'Organism': ['Human'], 'Technique': ['Shotgun'], 'Overall': ['Organismal']}\n",
      "{'BodyPart': ['Oral'], 'Organism': ['Human'], 'Technique': ['Shotgun'], 'Overall': ['Organismal']}\n",
      "{'BodyPart': ['Oral-Gingival'], 'Organism': ['Human'], 'Technique': ['Shotgun'], 'Overall': ['Organismal']}\n",
      "{'BodyPart': ['Oral'], 'Organism': ['Human'], 'Technique': ['Shotgun'], 'Overall': ['Organismal']}\n",
      "{'BodyPart': ['External Naris'], 'Organism': ['Human'], 'Technique': ['Shotgun'], 'Overall': ['Organismal']}\n",
      "{'BodyPart': ['Fecal'], 'Organism': ['Human'], 'Technique': ['Shotgun'], 'Overall': ['Organismal']}\n",
      "{'BodyPart': ['Fecal'], 'Organism': ['Human'], 'Technique': ['Shotgun'], 'Overall': ['Organismal']}\n",
      "{'Organism': ['Human'], 'Technique': ['Shotgun'], 'Overall': ['Organismal']}\n",
      "{'BodyPart': ['Vaginal'], 'Organism': ['Human'], 'Technique': ['Shotgun'], 'Overall': ['Organismal']}\n",
      "{'BodyPart': ['Oral-Gingival'], 'Organism': ['Human'], 'Technique': ['Shotgun'], 'Overall': ['Organismal']}\n",
      "{'BodyPart': ['Ear'], 'Organism': ['Human'], 'Technique': ['Shotgun'], 'Overall': ['Organismal']}\n",
      "{'BodyPart': ['External Naris'], 'Organism': ['Human'], 'Technique': ['Shotgun'], 'Overall': ['Organismal']}\n",
      "{'BodyPart': ['Oral'], 'Organism': ['Human'], 'Technique': ['Shotgun'], 'Overall': ['Organismal']}\n",
      "{'BodyPart': ['Fecal'], 'Organism': ['Human'], 'Technique': ['Shotgun'], 'Overall': ['Organismal']}\n",
      "{'BodyPart': ['Fecal'], 'Organism': ['Human'], 'Technique': ['Shotgun'], 'Overall': ['Organismal']}\n",
      "{'BodyPart': ['External Naris'], 'Organism': ['Human'], 'Technique': ['Shotgun'], 'Overall': ['Organismal']}\n",
      "{'BodyPart': ['External Naris'], 'Organism': ['Human'], 'Technique': ['Shotgun'], 'Overall': ['Organismal']}\n",
      "{'BodyPart': ['Oral-Tongue'], 'Organism': ['Human'], 'Technique': ['Shotgun'], 'Overall': ['Organismal']}\n",
      "{'BodyPart': ['Oral-Gingival'], 'Organism': ['Human'], 'Technique': ['Shotgun'], 'Overall': ['Organismal']}\n",
      "{'BodyPart': ['Vaginal'], 'Organism': ['Human'], 'Technique': ['Shotgun'], 'Overall': ['Organismal']}\n",
      "{'BodyPart': ['Oral'], 'Organism': ['Human'], 'Technique': ['Shotgun'], 'Overall': ['Organismal']}\n",
      "{'BodyPart': ['Fecal'], 'Organism': ['Human'], 'Technique': ['Shotgun'], 'Overall': ['Organismal']}\n",
      "{'BodyPart': ['Oral-Gingival'], 'Organism': ['Human'], 'Technique': ['Shotgun'], 'Overall': ['Organismal']}\n",
      "{'BodyPart': ['External Naris'], 'Organism': ['Human'], 'Technique': ['Shotgun'], 'Overall': ['Organismal']}\n",
      "{'BodyPart': ['Oral-Tongue'], 'Organism': ['Human'], 'Technique': ['Shotgun'], 'Overall': ['Organismal']}\n",
      "{'BodyPart': ['Ear'], 'Organism': ['Human'], 'Technique': ['Shotgun'], 'Overall': ['Organismal']}\n",
      "{'BodyPart': ['External Naris'], 'Organism': ['Human'], 'Technique': ['Shotgun'], 'Overall': ['Organismal']}\n",
      "{'BodyPart': ['Vaginal'], 'Organism': ['Human'], 'Technique': ['Shotgun'], 'Overall': ['Organismal']}\n",
      "{'BodyPart': ['External Naris'], 'Organism': ['Human'], 'Technique': ['Shotgun'], 'Overall': ['Organismal']}\n",
      "{'BodyPart': ['External Naris'], 'Organism': ['Human'], 'Technique': ['Shotgun'], 'Overall': ['Organismal']}\n",
      "{'BodyPart': ['Oral-Tongue'], 'Organism': ['Human'], 'Technique': ['Shotgun'], 'Overall': ['Organismal']}\n",
      "{'BodyPart': ['Oral-Gingival'], 'Organism': ['Human'], 'Technique': ['Shotgun'], 'Overall': ['Organismal']}\n",
      "{'BodyPart': ['External Naris'], 'Organism': ['Human'], 'Technique': ['Shotgun'], 'Overall': ['Organismal']}\n",
      "{'BodyPart': ['Oral-Tongue'], 'Organism': ['Human'], 'Technique': ['Shotgun'], 'Overall': ['Organismal']}\n",
      "{'BodyPart': ['Oral'], 'Organism': ['Human'], 'Technique': ['Shotgun'], 'Overall': ['Organismal']}\n",
      "{'BodyPart': ['Oral'], 'Organism': ['Human'], 'Technique': ['Shotgun'], 'Overall': ['Organismal']}\n",
      "{'BodyPart': ['Fecal'], 'Organism': ['Human'], 'Technique': ['Shotgun'], 'Overall': ['Organismal']}\n",
      "{'BodyPart': ['Fecal'], 'Organism': ['Human'], 'Technique': ['Shotgun'], 'Overall': ['Organismal']}\n",
      "{'BodyPart': ['Vaginal'], 'Organism': ['Human'], 'Technique': ['Shotgun'], 'Overall': ['Organismal']}\n",
      "{'BodyPart': ['Oral-Gingival'], 'Organism': ['Human'], 'Technique': ['Shotgun'], 'Overall': ['Organismal']}\n",
      "{'BodyPart': ['Oral-Gingival'], 'Organism': ['Human'], 'Technique': ['Shotgun'], 'Overall': ['Organismal']}\n",
      "{'BodyPart': ['Fecal'], 'Organism': ['Human'], 'Technique': ['Shotgun'], 'Overall': ['Organismal']}\n",
      "{'BodyPart': ['External Naris'], 'Organism': ['Human'], 'Technique': ['Shotgun'], 'Overall': ['Organismal']}\n",
      "{'BodyPart': ['Oral'], 'Organism': ['Human'], 'Technique': ['Shotgun'], 'Overall': ['Organismal']}\n",
      "{'BodyPart': ['Fecal'], 'Organism': ['Human'], 'Technique': ['Shotgun'], 'Overall': ['Organismal']}\n",
      "{'BodyPart': ['Fecal'], 'Organism': ['Human'], 'Technique': ['Shotgun'], 'Overall': ['Organismal']}\n",
      "{'BodyPart': ['Oral-Tongue'], 'Organism': ['Human'], 'Technique': ['Shotgun'], 'Overall': ['Organismal']}\n",
      "{'BodyPart': ['Fecal'], 'Organism': ['Human'], 'Technique': ['Shotgun'], 'Overall': ['Organismal']}\n",
      "{'BodyPart': ['Oral'], 'Organism': ['Human'], 'Technique': ['Shotgun'], 'Overall': ['Organismal']}\n",
      "{'BodyPart': ['External Naris'], 'Organism': ['Human'], 'Technique': ['Shotgun'], 'Overall': ['Organismal']}\n",
      "{'BodyPart': ['Vaginal'], 'Organism': ['Human'], 'Technique': ['Shotgun'], 'Overall': ['Organismal']}\n",
      "{'BodyPart': ['Fecal'], 'Organism': ['Human'], 'Technique': ['Shotgun'], 'Overall': ['Organismal']}\n",
      "{'BodyPart': ['Oral'], 'Organism': ['Human'], 'Technique': ['Shotgun'], 'Overall': ['Organismal']}\n",
      "{'BodyPart': ['Vaginal'], 'Organism': ['Human'], 'Technique': ['Shotgun'], 'Overall': ['Organismal']}\n",
      "{'BodyPart': ['Fecal'], 'Organism': ['Human'], 'Technique': ['Shotgun'], 'Overall': ['Organismal']}\n",
      "{'BodyPart': ['Oral'], 'Organism': ['Human'], 'Technique': ['Shotgun'], 'Overall': ['Organismal']}\n",
      "{'BodyPart': ['Vaginal'], 'Organism': ['Human'], 'Technique': ['Shotgun'], 'Overall': ['Organismal']}\n",
      "{'BodyPart': ['Oral'], 'Organism': ['Human'], 'Technique': ['Shotgun'], 'Overall': ['Organismal']}\n",
      "{'BodyPart': ['Oral-Gingival'], 'Organism': ['Human'], 'Technique': ['Shotgun'], 'Overall': ['Organismal']}\n",
      "{'BodyPart': ['Vaginal'], 'Organism': ['Human'], 'Technique': ['Shotgun'], 'Overall': ['Organismal']}\n",
      "{'BodyPart': ['Fecal'], 'Organism': ['Human'], 'Technique': ['Shotgun'], 'Overall': ['Organismal']}\n",
      "{'BodyPart': ['Vaginal'], 'Organism': ['Human'], 'Technique': ['Shotgun'], 'Overall': ['Organismal']}\n",
      "{'BodyPart': ['Vaginal'], 'Organism': ['Human'], 'Technique': ['Shotgun'], 'Overall': ['Organismal']}\n",
      "{'BodyPart': ['Oral-Gingival'], 'Organism': ['Human'], 'Technique': ['Shotgun'], 'Overall': ['Organismal']}\n",
      "{'BodyPart': ['External Naris'], 'Organism': ['Human'], 'Technique': ['Shotgun'], 'Overall': ['Organismal']}\n",
      "{'BodyPart': ['Oral'], 'Organism': ['Human'], 'Technique': ['Shotgun'], 'Overall': ['Organismal']}\n",
      "{'BodyPart': ['Ear'], 'Organism': ['Human'], 'Technique': ['Shotgun'], 'Overall': ['Organismal']}\n",
      "{'BodyPart': ['External Naris'], 'Organism': ['Human'], 'Technique': ['Shotgun'], 'Overall': ['Organismal']}\n",
      "{'BodyPart': ['Fecal'], 'Organism': ['Human'], 'Technique': ['Shotgun'], 'Overall': ['Organismal']}\n",
      "{'BodyPart': ['Oral'], 'Organism': ['Human'], 'Technique': ['Shotgun'], 'Overall': ['Organismal']}\n",
      "{'BodyPart': ['Oral-Gingival'], 'Organism': ['Human'], 'Technique': ['Shotgun'], 'Overall': ['Organismal']}\n",
      "{'BodyPart': ['Vaginal'], 'Organism': ['Human'], 'Technique': ['Shotgun'], 'Overall': ['Organismal']}\n",
      "{'BodyPart': ['Fecal'], 'Organism': ['Human'], 'Technique': ['Shotgun'], 'Overall': ['Organismal']}\n",
      "{'BodyPart': ['Oral-Gingival'], 'Organism': ['Human'], 'Technique': ['Shotgun'], 'Overall': ['Organismal']}\n"
     ]
    },
    {
     "name": "stdout",
     "output_type": "stream",
     "text": [
      "{'BodyPart': ['Oral'], 'Organism': ['Human'], 'Technique': ['Shotgun'], 'Overall': ['Organismal']}\n",
      "{'BodyPart': ['Oral'], 'Organism': ['Human'], 'Technique': ['Shotgun'], 'Overall': ['Organismal']}\n",
      "{'BodyPart': ['External Naris'], 'Organism': ['Human'], 'Technique': ['Shotgun'], 'Overall': ['Organismal']}\n",
      "{'BodyPart': ['Oral-Gingival'], 'Organism': ['Human'], 'Technique': ['Shotgun'], 'Overall': ['Organismal']}\n",
      "{'BodyPart': ['External Naris'], 'Organism': ['Human'], 'Technique': ['Shotgun'], 'Overall': ['Organismal']}\n",
      "{'BodyPart': ['Vaginal'], 'Organism': ['Human'], 'Technique': ['Shotgun'], 'Overall': ['Organismal']}\n",
      "{'BodyPart': ['Fecal'], 'Organism': ['Human'], 'Technique': ['Shotgun'], 'Overall': ['Organismal']}\n",
      "{'BodyPart': ['Oral-Tongue'], 'Organism': ['Human'], 'Technique': ['Shotgun'], 'Overall': ['Organismal']}\n",
      "{'BodyPart': ['Oral-Gingival'], 'Organism': ['Human'], 'Technique': ['Shotgun'], 'Overall': ['Organismal']}\n",
      "{'BodyPart': ['External Naris'], 'Organism': ['Human'], 'Technique': ['Shotgun'], 'Overall': ['Organismal']}\n",
      "{'BodyPart': ['Oral-Gingival'], 'Organism': ['Human'], 'Technique': ['Shotgun'], 'Overall': ['Organismal']}\n",
      "{'BodyPart': ['Oral'], 'Organism': ['Human'], 'Technique': ['Shotgun'], 'Overall': ['Organismal']}\n",
      "{'BodyPart': ['Oral-Tongue'], 'Organism': ['Human'], 'Technique': ['Shotgun'], 'Overall': ['Organismal']}\n",
      "{'BodyPart': ['Fecal'], 'Organism': ['Human'], 'Technique': ['Shotgun'], 'Overall': ['Organismal']}\n",
      "{'BodyPart': ['External Naris'], 'Organism': ['Human'], 'Technique': ['Shotgun'], 'Overall': ['Organismal']}\n",
      "{'BodyPart': ['Vaginal'], 'Organism': ['Human'], 'Technique': ['Shotgun'], 'Overall': ['Organismal']}\n",
      "{'BodyPart': ['Vaginal'], 'Organism': ['Human'], 'Technique': ['Shotgun'], 'Overall': ['Organismal']}\n",
      "{'BodyPart': ['External Naris'], 'Organism': ['Human'], 'Technique': ['Shotgun'], 'Overall': ['Organismal']}\n",
      "{'BodyPart': ['Oral-Tonsil'], 'Organism': ['Human'], 'Technique': ['Shotgun'], 'Overall': ['Organismal']}\n",
      "{'BodyPart': ['Oral-Saliva'], 'Organism': ['Human'], 'Technique': ['Shotgun'], 'Overall': ['Organismal']}\n",
      "{'BodyPart': ['Ear'], 'Organism': ['Human'], 'Technique': ['Shotgun'], 'Overall': ['Organismal']}\n",
      "{'BodyPart': ['Oral'], 'Organism': ['Human'], 'Technique': ['Shotgun'], 'Overall': ['Organismal']}\n",
      "{'BodyPart': ['Throat'], 'Organism': ['Human'], 'Technique': ['Shotgun'], 'Overall': ['Organismal']}\n",
      "{'BodyPart': ['Oral-Tongue'], 'Organism': ['Human'], 'Technique': ['Shotgun'], 'Overall': ['Organismal']}\n",
      "{'BodyPart': ['External Naris'], 'Organism': ['Human'], 'Technique': ['Shotgun'], 'Overall': ['Organismal']}\n",
      "{'BodyPart': ['Fecal'], 'Organism': ['Human'], 'Technique': ['Shotgun'], 'Overall': ['Organismal']}\n",
      "{'BodyPart': ['Fecal'], 'Organism': ['Human'], 'Technique': ['Shotgun'], 'Overall': ['Organismal']}\n",
      "{'BodyPart': ['Oral'], 'Organism': ['Human'], 'Technique': ['Shotgun'], 'Overall': ['Organismal']}\n",
      "{'BodyPart': ['External Naris'], 'Organism': ['Human'], 'Technique': ['Shotgun'], 'Overall': ['Organismal']}\n",
      "{'BodyPart': ['Ear'], 'Organism': ['Human'], 'Technique': ['Shotgun'], 'Overall': ['Organismal']}\n",
      "{'BodyPart': ['Vaginal'], 'Organism': ['Human'], 'Technique': ['Shotgun'], 'Overall': ['Organismal']}\n",
      "{'BodyPart': ['Oral-Gingival'], 'Organism': ['Human'], 'Technique': ['Shotgun'], 'Overall': ['Organismal']}\n",
      "{'BodyPart': ['Oral'], 'Organism': ['Human'], 'Technique': ['Shotgun'], 'Overall': ['Organismal']}\n",
      "{'BodyPart': ['Oral-Tongue'], 'Organism': ['Human'], 'Technique': ['Shotgun'], 'Overall': ['Organismal']}\n",
      "{'BodyPart': ['External Naris'], 'Organism': ['Human'], 'Technique': ['Shotgun'], 'Overall': ['Organismal']}\n",
      "{'BodyPart': ['Oral'], 'Organism': ['Human'], 'Technique': ['Shotgun'], 'Overall': ['Organismal']}\n",
      "{'BodyPart': ['Vaginal'], 'Organism': ['Human'], 'Technique': ['Shotgun'], 'Overall': ['Organismal']}\n",
      "{'BodyPart': ['Oral-Gingival'], 'Organism': ['Human'], 'Technique': ['Shotgun'], 'Overall': ['Organismal']}\n",
      "{'BodyPart': ['Oral-Gingival'], 'Organism': ['Human'], 'Technique': ['Shotgun'], 'Overall': ['Organismal']}\n",
      "{'BodyPart': ['Oral-Gingival'], 'Organism': ['Human'], 'Technique': ['Shotgun'], 'Overall': ['Organismal']}\n",
      "{'BodyPart': ['Oral-Tongue'], 'Organism': ['Human'], 'Technique': ['Shotgun'], 'Overall': ['Organismal']}\n",
      "{'BodyPart': ['External Naris'], 'Organism': ['Human'], 'Technique': ['Shotgun'], 'Overall': ['Organismal']}\n",
      "{'BodyPart': ['External Naris'], 'Organism': ['Human'], 'Technique': ['Shotgun'], 'Overall': ['Organismal']}\n",
      "{'BodyPart': ['Oral'], 'Organism': ['Human'], 'Technique': ['Shotgun'], 'Overall': ['Organismal']}\n",
      "{'BodyPart': ['Vaginal'], 'Organism': ['Human'], 'Technique': ['Shotgun'], 'Overall': ['Organismal']}\n",
      "{'BodyPart': ['Oral'], 'Organism': ['Human'], 'Technique': ['Shotgun'], 'Overall': ['Organismal']}\n",
      "{'BodyPart': ['Fecal'], 'Organism': ['Human'], 'Technique': ['Shotgun'], 'Overall': ['Organismal']}\n",
      "{'BodyPart': ['Vaginal'], 'Organism': ['Human'], 'Technique': ['Shotgun'], 'Overall': ['Organismal']}\n",
      "{'BodyPart': ['Oral'], 'Organism': ['Human'], 'Technique': ['Shotgun'], 'Overall': ['Organismal']}\n",
      "{'BodyPart': ['Oral-Gingival'], 'Organism': ['Human'], 'Technique': ['Shotgun'], 'Overall': ['Organismal']}\n",
      "{'BodyPart': ['Fecal'], 'Organism': ['Human'], 'Technique': ['Shotgun'], 'Overall': ['Organismal']}\n",
      "{'BodyPart': ['Oral-Tongue'], 'Organism': ['Human'], 'Technique': ['Shotgun'], 'Overall': ['Organismal']}\n",
      "{'BodyPart': ['Fecal'], 'Organism': ['Human'], 'Technique': ['Shotgun'], 'Overall': ['Organismal']}\n",
      "{'BodyPart': ['Oral'], 'Organism': ['Human'], 'Technique': ['Shotgun'], 'Overall': ['Organismal']}\n",
      "{'BodyPart': ['Oral-Gingival'], 'Organism': ['Human'], 'Technique': ['Shotgun'], 'Overall': ['Organismal']}\n",
      "{'BodyPart': ['Fecal'], 'Organism': ['Human'], 'Technique': ['Shotgun'], 'Overall': ['Organismal']}\n",
      "{'BodyPart': ['Fecal'], 'Organism': ['Human'], 'Technique': ['Shotgun'], 'Overall': ['Organismal']}\n",
      "{'BodyPart': ['Oral'], 'Organism': ['Human'], 'Technique': ['Shotgun'], 'Overall': ['Organismal']}\n",
      "{'BodyPart': ['Fecal'], 'Organism': ['Human'], 'Technique': ['Shotgun'], 'Overall': ['Organismal']}\n",
      "{'BodyPart': ['Oral'], 'Organism': ['Human'], 'Technique': ['Shotgun'], 'Overall': ['Organismal']}\n",
      "{'BodyPart': ['Vaginal'], 'Organism': ['Human'], 'Technique': ['Shotgun'], 'Overall': ['Organismal']}\n",
      "{'BodyPart': ['Oral-Gingival'], 'Organism': ['Human'], 'Technique': ['Shotgun'], 'Overall': ['Organismal']}\n",
      "{'BodyPart': ['Oral'], 'Organism': ['Human'], 'Technique': ['Shotgun'], 'Overall': ['Organismal']}\n",
      "{'BodyPart': ['Ear'], 'Organism': ['Human'], 'Technique': ['Shotgun'], 'Overall': ['Organismal']}\n",
      "{'BodyPart': ['Vaginal'], 'Organism': ['Human'], 'Technique': ['Shotgun'], 'Overall': ['Organismal']}\n",
      "{'BodyPart': ['External Naris'], 'Organism': ['Human'], 'Technique': ['Shotgun'], 'Overall': ['Organismal']}\n",
      "{'BodyPart': ['Oral-Gingival'], 'Organism': ['Human'], 'Technique': ['Shotgun'], 'Overall': ['Organismal']}\n",
      "{'BodyPart': ['Vaginal'], 'Organism': ['Human'], 'Technique': ['Shotgun'], 'Overall': ['Organismal']}\n",
      "{'Organism': ['Human'], 'Technique': ['Shotgun'], 'Overall': ['Organismal']}\n",
      "{'Organism': ['Human'], 'Technique': ['Shotgun'], 'Overall': ['Organismal']}\n",
      "{'BodyPart': ['Oral'], 'Organism': ['Human'], 'Technique': ['Shotgun'], 'Overall': ['Organismal']}\n",
      "{'BodyPart': ['Vaginal'], 'Organism': ['Human'], 'Technique': ['Shotgun'], 'Overall': ['Organismal']}\n",
      "{'BodyPart': ['Oral'], 'Organism': ['Human'], 'Technique': ['Shotgun'], 'Overall': ['Organismal']}\n",
      "{'BodyPart': ['Oral-Gingival'], 'Organism': ['Human'], 'Technique': ['Shotgun'], 'Overall': ['Organismal']}\n",
      "{'BodyPart': ['Oral'], 'Organism': ['Human'], 'Technique': ['Shotgun'], 'Overall': ['Organismal']}\n",
      "{'BodyPart': ['Oral-Tongue'], 'Organism': ['Human'], 'Technique': ['Shotgun'], 'Overall': ['Organismal']}\n"
     ]
    }
   ],
   "source": [
    "#Fourth one is HMP. Here there is even less metadata so it's even easier than for MetaSUB.\n",
    "\n",
    "#First we load the metadata. The file has a lot of information, but we only need certain columns for the hierarchy\n",
    "#assignment. \n",
    "\n",
    "#Given that we can readily associated metadata to each sample using this file, we'll assign as we read.\n",
    "\n",
    "hmpFile=open(\"ProjectMetadata/HMP_metadata.csv\",\"r\")\n",
    "\n",
    "for line in hmpFile:\n",
    "#We extract the lines we need. T\n",
    "    line=line.strip(\"\\n\").split(\",\")\n",
    "    HMPID=line[0].replace(\" \",\"\")\n",
    "    \n",
    "#If the sample doesn't have a mash distance we skip it.\n",
    "    if HMPID not in ids:\n",
    "        continue\n",
    "\n",
    "#We save the sample info in sampleInfo.\n",
    "\n",
    "#Position 1 of the metadata contains the type of sequencing, and 9 the body part.\n",
    "    sampleInfo=[line[1].lower(),line[9].lower()]\n",
    "    while \"\" in sampleInfo:\n",
    "        sampleInfo.remove(\"\")\n",
    "#The title of the project is in position . We save that apart to look for values in it.\n",
    "    sampleTitle=line[8].lower()\n",
    "    \n",
    "#The process after this is basically the same as for MegaGenome. The sampleInfo can be seen as the keywords of\n",
    "#that sample.\n",
    "\n",
    "    classificationDict={}\n",
    "    for classification,categories in allHierarchy.items():\n",
    "        categoriesinSample=[]\n",
    "        for category,values in categories.items():\n",
    "#If a given keyword is a value for a category in a classification, we add the category to the list categoriesinSample.\n",
    "#We also check the project title for more keywords.\n",
    "            for keyword in sampleInfo:\n",
    "                if keyword in values:\n",
    "                    categoriesinSample.append(category)\n",
    "                for value in values:\n",
    "                    if value in categoriesinSample or value in sampleTitle.lower():\n",
    "                         categoriesinProj.append(category)\n",
    "#It might be the case that many keywords from a project are values of the same cateogry, so we deduplicate the\n",
    "#category list here.\n",
    "        if len(categoriesinSample)!=0:\n",
    "            classificationDict[classification]=list(set(categoriesinSample))\n",
    "            \n",
    "#For the HMP dataset we know all samples are human, so we add that to the hierarchy assignment.    \n",
    "        classificationDict[\"Organism\"]=[\"Human\"]\n",
    "    \n",
    "#If we did not find directly any values associated to the first level classifications (Overall is the name of that\n",
    "#csv file), then we assign one based on the second and third level classifications.\n",
    "    if \"Overall\" not in classificationDict.keys():\n",
    "        if \"Organism\" in classificationDict.keys() or \"BodyPart\" in classificationDict.keys():\n",
    "            classificationDict[\"Overall\"]=[\"Organismal\"]\n",
    "        elif \"Source_Surface\" in classificationDict.keys() or \"Source_Biome\" in classificationDict.keys() or \"Location\" in classificationDict.keys():\n",
    "            classificationDict[\"Overall\"]=[\"Environmental\"]\n",
    "    print(classificationDict)\n",
    "    sampletoHierarchy[HMPID]=classificationDict\n",
    "    \n",
    "hmpFile.close()"
   ]
  },
  {
   "cell_type": "code",
   "execution_count": 19,
   "metadata": {},
   "outputs": [
    {
     "data": {
      "text/plain": [
       "6348"
      ]
     },
     "execution_count": 19,
     "metadata": {},
     "output_type": "execute_result"
    }
   ],
   "source": [
    "len(sampletoHierarchy)"
   ]
  },
  {
   "cell_type": "markdown",
   "metadata": {},
   "source": [
    "#### PathoMAP"
   ]
  },
  {
   "cell_type": "code",
   "execution_count": 20,
   "metadata": {},
   "outputs": [],
   "source": [
    "#The last case is PathoMap. For PathoMAP there is really no metadata inside the file, but there might be in the future\n",
    "#so we leave the code ready just in case.\n",
    "\n",
    "#We only know for now thatr all samples are environmental and come from NYC so we can add that.\n",
    "\n",
    "#We load the file.\n",
    "PMfile=open(\"ProjectMetadata/PathoMAP_metadata.csv\",\"r\")\n",
    "\n",
    "\n",
    "for line in PMfile:\n",
    "#We extract the lines we need as we did before. \n",
    "    line=line.strip(\"\\n\").split(\",\")\n",
    "    PMID=line[0].replace(\" \",\"\")\n",
    "#If the sample doesn't have a mash distance we skip it.\n",
    "    if PMID not in ids:\n",
    "        continue\n",
    "    sampletoHierarchy[PMID]={\"Overall\":[\"Environmental\"],\"Location\":[\"NYC\"]}\n",
    "\n",
    "PMfile.close()"
   ]
  },
  {
   "cell_type": "code",
   "execution_count": 21,
   "metadata": {},
   "outputs": [
    {
     "data": {
      "text/plain": [
       "7868"
      ]
     },
     "execution_count": 21,
     "metadata": {},
     "output_type": "execute_result"
    }
   ],
   "source": [
    "len(sampletoHierarchy)"
   ]
  },
  {
   "cell_type": "markdown",
   "metadata": {},
   "source": [
    "#### Ids with no Assignment"
   ]
  },
  {
   "cell_type": "code",
   "execution_count": 22,
   "metadata": {},
   "outputs": [],
   "source": [
    "#Some of the ids from the projects might have no assignment yet. For order purposes they should be nonetheless\n",
    "#added to sampletoHierarchy, at least with an empty dictionary.\n",
    "\n",
    "for ID in ids:\n",
    "    if ID not in sampletoHierarchy.keys() or len(sampletoHierarchy[ID])==0:\n",
    "        #print(ID)\n",
    "        sampletoHierarchy[ID]={\"Overall\":[\"No Metadata\"]}"
   ]
  },
  {
   "cell_type": "markdown",
   "metadata": {},
   "source": [
    "## Clustering Analyses"
   ]
  },
  {
   "cell_type": "markdown",
   "metadata": {},
   "source": [
    "Now that the hierarchies are loaded and the samples assigned, we can move on to graph parts of the hierarchy as we\n",
    "deem fit. For this, we'll first need to define what we want to graph. After that, a two-dimensional representation  based on mash distances can be generated with UMAP, and then clustering can be done with the mash distances with dbSCAN."
   ]
  },
  {
   "cell_type": "markdown",
   "metadata": {},
   "source": [
    "### Hierarchy Selection"
   ]
  },
  {
   "cell_type": "markdown",
   "metadata": {},
   "source": [
    "First we generate code for selecting what to graph. The code allows for graphing specific classifications, for specific categories if necessary, and for specific datasets if necessary."
   ]
  },
  {
   "cell_type": "code",
   "execution_count": 23,
   "metadata": {},
   "outputs": [],
   "source": [
    "#The function generateCol will help us construct labels for plotting. It takes a list of classifications, categories,\n",
    "#and/or datasets which want to be labelled. If one does not wish to label by one of those, then the list [\"all\"]\n",
    "#must be passed as argument in the corresponding position.\n",
    "def generateCol(selClassifications,selCategories,selDatasets):\n",
    "\n",
    "#newClas, newCat and newDat save the labelling for classification, category and dataset, respectively.\n",
    "    newClas=[]\n",
    "    newCat=[]\n",
    "    newDat=[]\n",
    "\n",
    "#byClassification, byCategory and byDataSet are equal to 0 if we're not labelling based on classification, category\n",
    "#or dataset, and 1 if we are.\n",
    "    byClassification=0\n",
    "    byCategory=0\n",
    "    byDataSet=0\n",
    "\n",
    "#First we check how we want to discriminate and set the associated by variables to 1.\n",
    "    if selClassifications[0]!=\"all\":\n",
    "        byClassification=1\n",
    "        \n",
    "        if selCategories[0]!=\"all\":\n",
    "            byCategory=1\n",
    "      \n",
    "\n",
    "    if selDatasets[0]!=\"all\":\n",
    "        byDataSet=1\n",
    "        \n",
    "#The labelling itself is done id by ID, in the same order as ids appear in the ids list (and by extension in the\n",
    "#distance matrix).\n",
    "    for ID in ids:\n",
    "\n",
    "#First we do the dataset labelling.\n",
    "        if byDataSet==1:\n",
    "\n",
    "#If the dataset of the sample is not one of the ones we want to label, then we simply label it as \"Other\". Since we\n",
    "#are not interested in the classification or categories of that sample, as it does not belong to a dataset\n",
    "#of interest, we simply label them as \"Other\" as well.\n",
    "            if col[ids.index(ID)] not in selDatasets:\n",
    "                newDat.append(\"Other\")\n",
    "                newCat.append(\"Other\")\n",
    "                newClas.append(\"Other\")\n",
    "                continue\n",
    "#If it is part of the dataset of interest, we label the sample with the name of the dataset.\n",
    "            else:\n",
    "                newDat.append(col[ids.index(ID)])\n",
    "#If datasets are not being used as a filtering criteria, we simply add the name of the dataset to newDat for all\n",
    "#samples.\n",
    "        else:\n",
    "            newDat.append(col[ids.index(ID)])\n",
    "\n",
    "#Nest we label by classification and category.\n",
    "        if byClassification==1:\n",
    "\n",
    "#Here we do an additional check of dataset labelling. If the sample is from \"Other\" (i.e.: not one of interest)\n",
    "#dataset and we're labelling, using datasets, we simply label the classifications and categories as \"Other\" and \n",
    "#skip this part.\n",
    "            if byDataSet==1 and newDat[-1]==\"Other\":\n",
    "                newClas.append(\"Other\")\n",
    "                newCat.append(\"Other\")\n",
    "                continue\n",
    "\n",
    "#The classifications of the sample are obtained from the key list of sampletoHierarchy.\n",
    "            thisClassifications=[]\n",
    "            for classification in sampletoHierarchy[ID].keys():\n",
    "#If the classification is one of the ones we're interested in, it is added to thisClassifications.\n",
    "                if classification in selClassifications:\n",
    "                    thisClassifications.append(classification)\n",
    "#If thisClassifications has a length of zero, then the classifications in the sample are not of interest, so we\n",
    "#label it and its categories as \"Other\" and skip the rest.\n",
    "            if len(thisClassifications)==0:\n",
    "                newClas.append(\"Other\")\n",
    "                newCat.append(\"Other\")\n",
    "                continue\n",
    "#If at least one classification of interest is associated to the sample, we join them withan underscore and add\n",
    "#them to newClas.\n",
    "            else:\n",
    "                newClas.append(\"_\".join(thisClassifications))\n",
    "#Now we move on to the categories. We'll use categoriesperClass to store the relevant categories per class.\n",
    "            categoriesperClass=[]\n",
    "#For each relevant classification we get all the categories.\n",
    "            for classification in thisClassifications:\n",
    "#It's useful to check whether the classification is being filtered by some of its categories. We do that by checking if \n",
    "#at least one category in the classification is present in selCategories. If it is withSelCat is equal to 1, otherwise\n",
    "#it's 0.\n",
    "                withSelCat=0\n",
    "                for cat in selCategories:\n",
    "                    if cat in allHierarchy[classification]:\n",
    "                        withSelCat=1\n",
    "                        break\n",
    "                thisCategories=[]\n",
    "                categories=sampletoHierarchy[ID][classification]\n",
    "#We look at each category. If we're labelling by category, and its contained in the interesting categories, we \n",
    "#add it to thisCategories. If we're not labelling by category we directly add it.\n",
    "                for category in categories:\n",
    "#If withSelCat is equal to 1, then we filter by categories here. Otherwise we add all categories from that classification.\n",
    "                    if byCategory==1 and withSelCat==1:\n",
    "                        if category in selCategories:\n",
    "                            thisCategories.append(category)\n",
    "                    else:\n",
    "                        thisCategories.append(category)\n",
    "#If thisCategories is empty either the sample has no categories at all or no categories of interest, depending on the\n",
    "#case, so we simply label as \"Other\".\n",
    "                if len(thisCategories)==0 or thisCategories[0]=='':\n",
    "                    categoriesperClass.append(\"Other\")\n",
    "#If thisCategories is not empty we concatenate the categories by underscores and add the result to categoriesperClass.\n",
    "                else:\n",
    "                    categoriesperClass.append(\"_\".join(thisCategories))\n",
    "#If we're filtering based on more than one classification, it might be the case that we have more than 1 \"Other\" in the\n",
    "#sample categories. We remove those in the next three lines. \n",
    "            while categoriesperClass.count(\"Other\")>1:\n",
    "                categoriesperClass.remove(\"Other\")\n",
    "\n",
    "#At the end we add all the concatenated categories per classification, here concatenated by semicolon, to newCat. Before\n",
    "#that, however, we check that at least one of the categories is in the list of selectec categories. The reason for checking\n",
    "#is that, in the case in which a classification is selected for filtering, but we're interested in all categories of that\n",
    "#one, and at the same time only in specific categories of other classification, due to the way the code is made a sample\n",
    "#without the selected categories in the latter classification will have all its categories from the former in \n",
    "#categoriesperClass. The code below makes sure those samples are labelled as other. \n",
    "            thisNewCat=\";\".join(categoriesperClass).replace(\";Other\",\"\").replace(\"Other;\",\"\")\n",
    "\n",
    "            withSelCat=0\n",
    "            for cat in selCategories:\n",
    "                    if cat in thisNewCat:\n",
    "                        withSelCat=1\n",
    "                        newCat.append(thisNewCat)\n",
    "                        break\n",
    "            if withSelCat==0:\n",
    "                newCat.append(\"Other\")\n",
    "\n",
    "#If we're not classifying by classification, we're not classifying by category either (as categories are not present\n",
    "#in more than one classification). In that case we simply add all classifications and categories from each\n",
    "#sample into newCat and newClas, in a similar way as we did before.\n",
    "        else:\n",
    "            thisClassification=[]\n",
    "            allCategories=[]\n",
    "            for classification in sampletoHierarchy[ID].keys():\n",
    "                thisClassification.append(classification)\n",
    "                thisCategories=[]\n",
    "                for category in sampletoHierarchy[ID][classification]:\n",
    "                     thisCategories.append(category)\n",
    "                allCategories.append(\"_\".join(thisCategories))\n",
    "            newCat.append(\";\".join(allCategories))\n",
    "            newClas.append(\"_\".join(thisClassification))\n",
    "\n",
    "#At the end the new labelling lists are returned.\n",
    "    return newClas,newCat,newDat"
   ]
  },
  {
   "cell_type": "code",
   "execution_count": 24,
   "metadata": {},
   "outputs": [],
   "source": [
    "#Just in case we also define a function to make a number labelling based on a string list lista.\n",
    "def generateNumberCode(lista):\n",
    "#We define a list for the labelling and a dictionary to map the numbers and the strings.\n",
    "    numberCol=[]\n",
    "    numberDict={}\n",
    "#z will be a counter to select a number for each value.\n",
    "    z=0\n",
    "    \n",
    "#We iterate through lista. If the value we encounter is not part of numberDict, it hasn't been assigned a number\n",
    "#yet, so we assign it z, change the value of z and add the assigned value to lista.\n",
    "    for i in lista:\n",
    "        if i not in numberDict.keys:\n",
    "            numberDict[i]=z\n",
    "            numberCol.append(z)\n",
    "            z+=1\n",
    "#If it has been assigned, we add the assigned value to lista.\n",
    "        else:\n",
    "            numberCol.append(numberDict[i])\n",
    "#We return the dictionary and the number labelling.         \n",
    "    return numberCol,numberDict"
   ]
  },
  {
   "cell_type": "markdown",
   "metadata": {},
   "source": [
    "### UMAP"
   ]
  },
  {
   "cell_type": "markdown",
   "metadata": {},
   "source": [
    "Now we move on to generate graphical representations of the dataset."
   ]
  },
  {
   "cell_type": "markdown",
   "metadata": {},
   "source": [
    "**Note:** DensMAP can also be tried but its buggy to install on Windows, so use Linux and install manually."
   ]
  },
  {
   "cell_type": "code",
   "execution_count": 25,
   "metadata": {},
   "outputs": [
    {
     "name": "stderr",
     "output_type": "stream",
     "text": [
      "C:\\Users\\jlego\\anaconda3\\lib\\site-packages\\umap\\umap_.py:1503: UserWarning: using precomputed metric; transform will be unavailable for new data and inverse_transform will be unavailable for all data\n",
      "  warn(\n"
     ]
    }
   ],
   "source": [
    "#First thing we'll need is a way to plot the points in two dimensions. For that we use umap, passing a precomputed\n",
    "#distance metric (since we already have the MaSh distances).\n",
    "fit = umap.UMAP(n_components=2,metric=\"precomputed\")\n",
    "u = fit.fit_transform(distances)"
   ]
  },
  {
   "cell_type": "code",
   "execution_count": 26,
   "metadata": {},
   "outputs": [
    {
     "data": {
      "image/png": "[encoded data removed]",
      "text/plain": [
       "<Figure size 432x288 with 2 Axes>"
      ]
     },
     "metadata": {
      "needs_background": "light"
     },
     "output_type": "display_data"
    }
   ],
   "source": [
    "#We then graph, using col as the coloring key and hsv as the colormap (more colormaps here:\n",
    "#https://matplotlib.org/3.1.0/tutorials/colors/colormaps.html).\n",
    "#scatter(u[:,0],u[:,1],s=5,c=col,cmap=\"hsv\")\n",
    "scatter(u[:,0],u[:,1],s=numCol,c=numCol,cmap=\"tab20c\")\n",
    "#scatter(u[:,0],u[:,1],s=2)\n",
    "colorbar()\n",
    "title(\"UMAP Representation\",fontsize=15)\n",
    "xlabel(\"Component 1\",fontsize=15)\n",
    "ylabel(\"Component 2\",fontsize=15)\n",
    "figsize(10,10)"
   ]
  },
  {
   "cell_type": "code",
   "execution_count": 27,
   "metadata": {
    "scrolled": true
   },
   "outputs": [],
   "source": [
    "#We can try also the plotnine package. For plotting there we need a pandas matrix. So we load pandas.\n",
    "import pandas as pd\n",
    "#We convert the u data frame, with the umap coordinates, to a dataframe.\n",
    "df=pd.DataFrame(u,columns=[\"Coord1\",\"Coord2\"])\n",
    "#We can add col as an additional column.\n",
    "df['Database']=col\n",
    "\n",
    "#It is also possible to generate new labellings with generateCol and add them.\n",
    "newLab=generateCol([\"Organism\",\"BodyPart\"],[\"Cow\",\"Gut\"],[\"all\"])\n",
    "\n",
    "df['Filtered_Classification']=newLab[0]\n",
    "df['Filtered_Category']=newLab[1]\n",
    "df['Filtered_Database']=newLab[2]\n",
    "\n",
    "#We'll also generate a dataframe with only the samples which pass the filter selected.\n",
    "SelectedDF=df[df[\"Filtered_Category\"]!=\"Other\"]"
   ]
  },
  {
   "cell_type": "code",
   "execution_count": 28,
   "metadata": {},
   "outputs": [],
   "source": [
    "#Here we generate a list for changing the size of the dots.\n",
    "sizeCol=[]\n",
    "\n",
    "#We do a cycle through all samples. Those whose categories are not Other (in which case they have one of the categories,\n",
    "#classifications, or database from the filter), have a size of 1. The rest have a size of 0.1.\n",
    "for i in range(0,len(ids)):    \n",
    "    if newLab[1][i]==\"Other\":\n",
    "        sizeCol.append(0.5)\n",
    "    else:\n",
    "        sizeCol.append(1)\n",
    "#We add the size info to the dataframe.\n",
    "df['Size']=sizeCol"
   ]
  },
  {
   "cell_type": "code",
   "execution_count": 29,
   "metadata": {
    "scrolled": false
   },
   "outputs": [
    {
     "data": {
      "image/png": "[encoded data removed]",
      "text/plain": [
       "<Figure size 640x480 with 1 Axes>"
      ]
     },
     "metadata": {},
     "output_type": "display_data"
    },
    {
     "data": {
      "text/plain": [
       "<ggplot: (108781073833)>"
      ]
     },
     "execution_count": 29,
     "metadata": {},
     "output_type": "execute_result"
    }
   ],
   "source": [
    "#We graph using plotnine.\n",
    "from plotnine import *\n",
    "\n",
    "(ggplot(df, aes(x='Coord1', y='Coord2', color='Filtered_Category', shape='Filtered_Category', size=sizeCol)) +\n",
    "        geom_point(alpha = 0.5) + labs(title=\"UMAP Representation\", x=\"Coordinate1\", y=\"Coordinate2\") + \n",
    " scale_shape_manual(values=asarray([\"o\",\"v\",\"^\",\"<\",\">\",\"1\",\"2\",\"3\",\"4\",\"8\",\"s\",\"o\",\"v\",\"^\",\"<\",\">\",\"1\",\"2\",\"3\",\"4\",\"8\",\"s\",\"p\",\"P\",\"*\",\"h\",\"H\",\"+\",\"x\",\"X\",\"D\",\"d\",\"|\",\"_\",1,2,3,4,\"o\",\"v\",\"^\"]))\n",
    ")"
   ]
  },
  {
   "cell_type": "code",
   "execution_count": 30,
   "metadata": {},
   "outputs": [
    {
     "data": {
      "image/png": "[encoded data removed]",
      "text/plain": [
       "<Figure size 640x480 with 1 Axes>"
      ]
     },
     "metadata": {},
     "output_type": "display_data"
    },
    {
     "data": {
      "text/plain": [
       "<ggplot: (108797935734)>"
      ]
     },
     "execution_count": 30,
     "metadata": {},
     "output_type": "execute_result"
    }
   ],
   "source": [
    "#Here, below, we graph only the samples that passed the filter. We do not alter sizes as it is not necessary.\n",
    "\n",
    "(ggplot(SelectedDF, aes(x='Coord1', y='Coord2', color='Filtered_Category', shape='Filtered_Category')) +\n",
    "        geom_point(alpha = 0.5) + labs(title=\"UMAP Representation\", x=\"Coordinate1\", y=\"Coordinate2\") + \n",
    " scale_shape_manual(values=asarray([\"o\",\"v\",\"^\",\"<\",\">\",\"1\",\"2\",\"3\",\"4\",\"8\",\"s\",\"o\",\"v\",\"^\",\"<\",\">\",\"1\",\"2\",\"3\",\"4\",\"8\",\"s\",\"p\",\"P\",\"*\",\"h\",\"H\",\"+\",\"x\",\"X\",\"D\",\"d\",\"|\",\"_\",1,2,3,4,\"o\",\"v\",\"^\"]))\n",
    ")"
   ]
  },
  {
   "cell_type": "markdown",
   "metadata": {},
   "source": [
    "#### Inter vs Intra Category Distance Histogram"
   ]
  },
  {
   "cell_type": "markdown",
   "metadata": {},
   "source": [
    "We can quickly graph a histogram of the distribution of distances of samples with the same category (intra category) or different category (inter category) to check how they behave."
   ]
  },
  {
   "cell_type": "code",
   "execution_count": 27,
   "metadata": {},
   "outputs": [],
   "source": [
    "#For that we go through newLab[1] (this can be changed to look at distances for classifications or databases. \n",
    "group_distances=[]\n",
    "diff_distances=[]\n",
    "\n",
    "#We cycle through the distances matrix. For each sample we do an internal cycle with the pairs of samples \n",
    "#(not considered yet) which include that sample. If they have the same category we save the distance\n",
    "#in group_distances. Otherwise we save it in diff_distances.\n",
    "for i in range(1,distances.shape[0]):\n",
    "    for j in range(0,i):\n",
    "        if newLab[1][i]==newLab[1][j]:\n",
    "            group_distances.append(distances[i,j])\n",
    "        else:\n",
    "            diff_distances.append(distances[i,j])"
   ]
  },
  {
   "cell_type": "code",
   "execution_count": 41,
   "metadata": {},
   "outputs": [
    {
     "name": "stdout",
     "output_type": "stream",
     "text": [
      "RanksumsResult(statistic=-1789.1781879679966, pvalue=0.0)\n",
      "KstestResult(statistic=0.3045883709819444, pvalue=0.0)\n"
     ]
    }
   ],
   "source": [
    "from scipy.stats import ranksums,kstest\n",
    "\n",
    "print(ranksums(group_distances,diff_distances))\n",
    "\n",
    "print(kstest(group_distances,diff_distances))"
   ]
  },
  {
   "cell_type": "code",
   "execution_count": 31,
   "metadata": {},
   "outputs": [
    {
     "data": {
      "text/plain": [
       "<matplotlib.legend.Legend at 0x1c1424017f0>"
      ]
     },
     "execution_count": 31,
     "metadata": {},
     "output_type": "execute_result"
    },
    {
     "data": {
      "image/png": "[encoded data removed]",
      "text/plain": [
       "<Figure size 432x288 with 1 Axes>"
      ]
     },
     "metadata": {
      "needs_background": "light"
     },
     "output_type": "display_data"
    }
   ],
   "source": [
    "#Now we plot a histogram with the distribution of inter and intra distances.\n",
    "hist(group_distances,histtype='bar',label=\"Same\", density=True)\n",
    "hist(diff_distances,histtype='step',label=\"Diff\", density=True)\n",
    "title(\"Mash Distance Distribution (Same vs Different Category)\", fontsize=20)\n",
    "legend(prop={'size': 20})\n",
    "figsize(20,20)"
   ]
  },
  {
   "cell_type": "markdown",
   "metadata": {},
   "source": [
    "### dbSCAN"
   ]
  },
  {
   "cell_type": "code",
   "execution_count": 26,
   "metadata": {},
   "outputs": [],
   "source": [
    "#We can also try clustering algorithms and then visualize the clusters. If we want to visualize only some clusters,\n",
    "#filterGroups can generate a coloring scheme in which only the indicated clusters (identified by their number)\n",
    "#are shown and the rest have the same color number assigned. colList is the list of said clusters to be shown\n",
    "#and OrigCol the original ordered list of cluster per sample.\n",
    "\n",
    "#NOTE THAT THE SPATIAL DISPOSITION OF THE DOTS IN THE PLOTS IS STILL GIVEN BY UMAP. Here we're with DBSCAN we're \n",
    "#doing a clusterization, not a bidimensional representation of the distances, as umap does.\n",
    "#no\n",
    "def filterGroups(colList,OrigCol):\n",
    "    NewCol=[]\n",
    "    for i in OrigCol:\n",
    "        if i in colList:\n",
    "            NewCol.append(str(i))\n",
    "        else:\n",
    "            NewCol.append(str(-1))\n",
    "    return NewCol\n"
   ]
  },
  {
   "cell_type": "code",
   "execution_count": 27,
   "metadata": {},
   "outputs": [],
   "source": [
    "#First we try DBSCAN as a clustering mechanism. The parameters were tuned based on what's shown in the notebook\n",
    "#Scatterplot-ClusteringTuning. Again we set the distance metric as precomputed.\n",
    "from sklearn.cluster import DBSCAN\n",
    "#dbg is the object resulting from the clusterization. dbg.labels_ is an ordered list with the cluster that each\n",
    "#sample belongs to.\n",
    "dbg=DBSCAN(eps=0.1,metric=\"precomputed\",min_samples=10).fit(distances)"
   ]
  },
  {
   "cell_type": "code",
   "execution_count": 28,
   "metadata": {},
   "outputs": [],
   "source": [
    "#For matplotlib it can be useful to set the cluster numbers as apart as possible so that the colormap gives them\n",
    "#distinct colors. This is done here and the result is saved in dbscanCols.\n",
    "dbscanCols=[]\n",
    "for i in dbg.labels_:\n",
    "    if i==-1:\n",
    "        dbscanCols.append(0)\n",
    "    elif i==0:\n",
    "        dbscanCols.append(25*10)\n",
    "    else:\n",
    "        if (i+1)%2==0:\n",
    "            dbscanCols.append((i+1)*10)\n",
    "        else:\n",
    "            dbscanCols.append((i+1)*-10)"
   ]
  },
  {
   "cell_type": "code",
   "execution_count": 56,
   "metadata": {
    "scrolled": true
   },
   "outputs": [
    {
     "data": {
      "image/png": "[encoded data removed]",
      "text/plain": [
       "<Figure size 1440x720 with 2 Axes>"
      ]
     },
     "metadata": {
      "needs_background": "light"
     },
     "output_type": "display_data"
    }
   ],
   "source": [
    "#We first plot using matplotlib, with dbscanCols as color scheme and tab20c as colormap.\n",
    "scatter(u[:,0],u[:,1],s=5,c=dbscanCols,cmap=\"tab20c\")\n",
    "colorbar()\n",
    "title(\"DBSCAN Representation\",fontsize=15)\n",
    "xlabel(\"Component 1\",fontsize=15)\n",
    "ylabel(\"Component 2\",fontsize=15)\n",
    "figsize(20,10)"
   ]
  },
  {
   "cell_type": "code",
   "execution_count": 29,
   "metadata": {},
   "outputs": [],
   "source": [
    "#If we want to run DBSCAN with different parameters for plotnine it can be done here.\n",
    "from sklearn.cluster import DBSCAN\n",
    "dbg=DBSCAN(eps=0.1,metric=\"precomputed\",min_samples=10).fit(distances)"
   ]
  },
  {
   "cell_type": "code",
   "execution_count": 30,
   "metadata": {},
   "outputs": [],
   "source": [
    "#For plotnine we generate the pandas dataframe.\n",
    "import pandas as pd\n",
    "\n",
    "dfDBSC=pd.DataFrame(u,columns=[\"Coord1\",\"Coord2\"])\n",
    "#We save the cluster number as a string so that coloring is done in a discrete fashion.\n",
    "strLabels=[str(x) for x in list(dbg.labels_)]\n",
    "#dfDBSC['Clusters']=dbg.labels_\n",
    "dfDBSC['Clusters']=strLabels\n",
    "#filterGroups can be used here if necessary to only see specific clusters.\n",
    "#dfDBSC['Clusters']=filterGroups([2,3],dbg.labels_)"
   ]
  },
  {
   "cell_type": "code",
   "execution_count": 31,
   "metadata": {},
   "outputs": [
    {
     "data": {
      "image/png": "[encoded data removed]",
      "text/plain": [
       "<Figure size 640x480 with 1 Axes>"
      ]
     },
     "metadata": {},
     "output_type": "display_data"
    },
    {
     "data": {
      "text/plain": [
       "<ggplot: (163869814366)>"
      ]
     },
     "execution_count": 31,
     "metadata": {},
     "output_type": "execute_result"
    }
   ],
   "source": [
    "#Now we graph, same way as we did before.\n",
    "from plotnine import *\n",
    "\n",
    "(ggplot(dfDBSC, aes(x='Coord1', y='Coord2', color='Clusters', shape='Clusters')) +\n",
    "        geom_point(alpha = 0.5) + labs(title=\"DBSCAN Clustering\", x=\"Coordinate1\", y=\"Coordinate2\") + \n",
    " scale_shape_manual(values=asarray([\"o\",\"v\",\"^\",\"<\",\">\",\"1\",\"2\",\"3\",\"4\",\"8\",\"s\",\"o\",\"v\",\"^\",\"<\",\">\",\"1\",\"2\",\"3\",\"4\",\"8\",\"s\",\"p\",\"P\",\"*\",\"h\",\"H\",\"+\",\"x\",\"X\",\"D\",\"d\",\"|\",\"_\",1,2,3,4,\"o\",\"v\",\"^\"]))\n",
    ")"
   ]
  },
  {
   "cell_type": "markdown",
   "metadata": {},
   "source": [
    "# Category Enrichment in Clusters"
   ]
  },
  {
   "cell_type": "markdown",
   "metadata": {},
   "source": [
    "Having clusters generated with either DBSCAN or HDBSCAN we can move on to check if there is enrichment or depletion of any specific category in the clusters (for now, regardless of the specific classification or level)."
   ]
  },
  {
   "cell_type": "code",
   "execution_count": 32,
   "metadata": {
    "scrolled": true
   },
   "outputs": [],
   "source": [
    "#First thing we need to do is generate a dictionary with all categories, regardless of level of classification, per\n",
    "#sample.\n",
    "\n",
    "#We can go over the sampletoHierarchy dictionaries and do this with every sample.\n",
    "\n",
    "catPerSample={}\n",
    "\n",
    "for sample in ids:\n",
    "#For each sample we get the categories it is part of and add them to thisCatList.\n",
    "    thisCatList=[]\n",
    "    for classification in sampletoHierarchy[sample]:\n",
    "#If there's no metadata in the sample we simply add No Metadata and that's it.}\n",
    "        #if \"Overall\" in sampletoHierarchy[sample] and sampletoHierarchy[sample][\"Overall\"]==\"No Metadata\":\n",
    "        #    thisCatList.append(\"No Metadata\")\n",
    "        #else:\n",
    "        for category in sampletoHierarchy[sample][classification]:\n",
    "            thisCatList.append(category)\n",
    "#At the end we add thisCatList and the sample id as the value-key pair for catPerSample.\n",
    "    catPerSample[sample]=thisCatList"
   ]
  },
  {
   "cell_type": "code",
   "execution_count": 33,
   "metadata": {},
   "outputs": [],
   "source": [
    "#We will first count how many times each category is present amongst all samples. For that we go over all categories and\n",
    "#count their abundance as we go.\n",
    "\n",
    "CatAbundance={}\n",
    "\n",
    "for classification in allHierarchy.keys():\n",
    "#We get the categories from allHierarchy and count their abundance by looking in how many samples each category is\n",
    "#present.\n",
    "    for category in allHierarchy[classification].keys():\n",
    "        abundance=0\n",
    "        for sample,sampleCategories in catPerSample.items():\n",
    "            if category in sampleCategories:\n",
    "                abundance+=1\n",
    "        CatAbundance[category]=abundance"
   ]
  },
  {
   "cell_type": "code",
   "execution_count": 34,
   "metadata": {},
   "outputs": [],
   "source": [
    "#The next function, getSigTerms, will determine which terms are significantly enriched in each cluster. This will be\n",
    "#done using binomial tests with a bonferroni correction. \n",
    "from scipy.stats import binom_test\n",
    "\n",
    "#We need as parameter a list with the clusters, the categories per sample dictionary, the ids list, and the category\n",
    "#abundance dictionary.\n",
    "def getSigTerms(clusters,catSampleDict,IDList,catAbundanceDict):\n",
    "#First thing we do is determine which samples are associated to each of the clusters. \n",
    "#First we get the number of clusters in total. We have to consider the 0-index in python and the fact that DBSCAN and\n",
    "#HDBSCAN group all samples which were not confidently associated to a cluster in the -1 group (so this can be seen\n",
    "#as a misc cluster).\n",
    "    clustersPos=[]\n",
    "#We sum a one whenever we make reference to a cluster as working with -1 as an index does not work (Python takes\n",
    "#it as a reference to the last position). So for the purposes of the function cluster -1 will be treated as cluster\n",
    "#0, cluster 0 as cluster 1, and so on.\n",
    "    numClusters=max(clusters)-min(clusters)+1\n",
    "    for i in range(numClusters):\n",
    "        clustersPos.append([])\n",
    "#We go through the list of cluster per sample. If the ith sample is associaed to the nth cluster, we save i in\n",
    "#the nth list of clustersPos.\n",
    "    for i in range(len(clusters)):\n",
    "        clustersPos[(clusters[i]+1)].append(i)\n",
    "#Now we move on to check which terms are present in each cluster .\n",
    "    clust=0\n",
    "    AllClusterTerms=[]\n",
    "#We cycle through the clusters, look at the samples and add the categories associated to them to the pool of words in\n",
    "#the sample (clusterTerms). We end up then with a list of lists with all the term for each cluster.\n",
    "    while clust<=(max(clusters)+1):\n",
    "        ClusterTerms=[]\n",
    "        for member in clustersPos[clust]:\n",
    "            sample=IDList[member]\n",
    "            try:\n",
    "#We make sure not to add No Metadata as a category and omit samples whose abundance in the cluster is 0.\n",
    "                for category in catSampleDict[sample]:\n",
    "                    if category not in ClusterTerms and category!=\"No Metadata\" and catAbundanceDict[category]>0:\n",
    "                        #print(category)\n",
    "                        ClusterTerms.append(category)\n",
    "            except: \n",
    "                pass\n",
    "        AllClusterTerms.append(ClusterTerms)\n",
    "        clust+=1\n",
    "\n",
    "#We'll make as many binomial tests as there are terms present in each cluster. So we compute the number of \n",
    "#categories in total to be evaluated here.\n",
    "    bonfCorrect=0\n",
    "    for j in AllClusterTerms:\n",
    "        bonfCorrect+=len(j)\n",
    "    print(bonfCorrect)\n",
    "#Now we do a final cycle through the list of lists with the categories per cluster to perform the binomial test.\n",
    "    clust=0\n",
    "    EnrichedAll={}\n",
    "    SizeAll={}\n",
    "    while clust<=(max(clusters)+1):\n",
    "        #print(AllClusterTerms[clust])\n",
    "#For each category per cluster, we determine how many samples are associated to that term, which yields the\n",
    "#amount of time that the category occurs in the cluster.\n",
    "        EnrichedThis=[]\n",
    "        SizeThis={}\n",
    "        for category in AllClusterTerms[clust]:\n",
    "            #print(category)\n",
    "            amount=0\n",
    "            for sample in clustersPos[clust]:\n",
    "                \n",
    "                if category in catSampleDict[IDList[sample]]:\n",
    "                    amount+=1\n",
    "                    \n",
    "#We then carry out a binomial test. The null hypothesis is that the fraction of samples that have the term inside the\n",
    "#cluster is equal to the fraction of samples which have it in the overall dataset. To get the fraction in the \n",
    "#dataset we use the dictionary of CatAbundance.\n",
    "            binomial=binom_test(x=amount, n=len(clustersPos[clust]),p=catAbundanceDict[category]/len(IDList))\n",
    "#When we have the p-value we set 0.01 as the initial threshold of significance and perform the bonferroni correction.\n",
    "            if binomial<0.01/(2*bonfCorrect):\n",
    "#Categories which are significantly enriched (and also depleted) in a cluster are saved in the EnrichedThis list, and their\n",
    "#abundance in the cluster in the SizeThis list.\n",
    "                EnrichedThis.append(category)\n",
    "                SizeThis[category]=amount\n",
    "#After checking all categories in a cluster the lists generated just above are saved in dictionaries, which map cluster\n",
    "#number (the original cluster numbers) to enriched/depleted categories and to their abundance. \n",
    "        realClust=clust-1\n",
    "        EnrichedAll[realClust]=EnrichedThis\n",
    "        SizeAll[realClust]=SizeThis\n",
    "        clust+=1\n",
    "    \n",
    "    return EnrichedAll,SizeAll"
   ]
  },
  {
   "cell_type": "code",
   "execution_count": 35,
   "metadata": {
    "scrolled": true
   },
   "outputs": [
    {
     "name": "stdout",
     "output_type": "stream",
     "text": [
      "459\n",
      "DBSCAN\n",
      "Cluster\tCategory\tAbundance\tCluster_Size\tTotal Abundance\n",
      "-1\tEnvironmental\t2422\t3224\t5707\n",
      "\n",
      "-1\tSoil\t405\t3224\t604\n",
      "\n",
      "-1\tOrganismal\t344\t3224\t1533\n",
      "\n",
      "-1\tSediment\t187\t3224\t245\n",
      "\n",
      "-1\tSeawater\t128\t3224\t215\n",
      "\n",
      "-1\tBeach\t33\t3224\t33\n",
      "\n",
      "-1\tFecal\t17\t3224\t151\n",
      "\n",
      "-1\tRhizosphere\t17\t3224\t111\n",
      "\n",
      "-1\tPeat\t32\t3224\t33\n",
      "\n",
      "-1\tShotgun\t44\t3224\t452\n",
      "\n",
      "-1\tHuman\t62\t3224\t565\n",
      "\n",
      "-1\tActivated Sludge\t52\t3224\t62\n",
      "\n",
      "-1\tSludge\t79\t3224\t94\n",
      "\n",
      "-1\tOral-Caries\t2\t3224\t46\n",
      "\n",
      "-1\tFish\t36\t3224\t40\n",
      "\n",
      "-1\tKiosk\t141\t3224\t221\n",
      "\n",
      "-1\tMetal\t482\t3224\t800\n",
      "\n",
      "-1\tNYC\t168\t3224\t1795\n",
      "\n",
      "-1\tPorto\t50\t3224\t52\n",
      "\n",
      "-1\tSeat\t196\t3224\t287\n",
      "\n",
      "-1\tFloor\t46\t3224\t55\n",
      "\n",
      "-1\tLondon\t258\t3224\t323\n",
      "\n",
      "-1\tElectronics\t53\t3224\t58\n",
      "\n",
      "-1\tDoha\t37\t3224\t41\n",
      "\n",
      "-1\tOslo\t41\t3224\t42\n",
      "\n",
      "-1\tPlatform\t33\t3224\t33\n",
      "\n",
      "-1\tStockholm\t56\t3224\t56\n",
      "\n",
      "-1\tTaipei\t46\t3224\t47\n",
      "\n",
      "-1\tNasopharynx\t3\t3224\t57\n",
      "\n",
      "-1\tOral-Gingival\t1\t3224\t63\n",
      "\n",
      "-1\tOral\t1\t3224\t83\n",
      "\n",
      "-1\tWood\t9\t3224\t83\n",
      "\n",
      "0\tLake\t20\t24\t41\n",
      "\n",
      "0\tLake Water\t20\t24\t40\n",
      "\n",
      "0\tMetagenome\t20\t24\t653\n",
      "\n",
      "1\tFecal\t12\t12\t151\n",
      "\n",
      "1\tMice\t12\t12\t78\n",
      "\n",
      "1\tMetagenome\t12\t12\t653\n",
      "\n",
      "1\tOrganismal\t12\t12\t1533\n",
      "\n",
      "2\tRhizosphere\t77\t721\t111\n",
      "\n",
      "2\tTriticum\t12\t721\t12\n",
      "\n",
      "2\tOrganismal\t434\t721\t1533\n",
      "\n",
      "2\tMetagenome\t196\t721\t653\n",
      "\n",
      "2\tEnvironmental\t204\t721\t5707\n",
      "\n",
      "2\tOil\t59\t721\t122\n",
      "\n",
      "2\t16s\t102\t721\t221\n",
      "\n",
      "2\tGut\t212\t721\t329\n",
      "\n",
      "2\tSwine\t16\t721\t16\n",
      "\n",
      "2\tMice\t35\t721\t78\n",
      "\n",
      "2\tOther Plants\t40\t721\t105\n",
      "\n",
      "2\tIllumina\t19\t721\t37\n",
      "\n",
      "2\tPacific\t7\t721\t7\n",
      "\n",
      "2\tFood Fermentation\t13\t721\t28\n",
      "\n",
      "2\tSkin\t10\t721\t10\n",
      "\n",
      "2\tChicken\t63\t721\t86\n",
      "\n",
      "2\tUterus\t7\t721\t8\n",
      "\n",
      "2\tWaste\t12\t721\t21\n",
      "\n",
      "2\tFresh Water\t23\t721\t28\n",
      "\n",
      "2\tInvertebrates\t15\t721\t36\n",
      "\n",
      "2\tArid Soil\t15\t721\t15\n",
      "\n",
      "2\tChile\t18\t721\t18\n",
      "\n",
      "2\tCorn\t20\t721\t36\n",
      "\n",
      "2\tAlgeria\t16\t721\t17\n",
      "\n",
      "2\tLake Water\t20\t721\t40\n",
      "\n",
      "2\tCow\t20\t721\t25\n",
      "\n",
      "2\tLizard\t20\t721\t20\n",
      "\n",
      "2\tFermentation\t20\t721\t30\n",
      "\n",
      "2\tFruit Fly\t16\t721\t16\n",
      "\n",
      "3\tRoot\t12\t12\t86\n",
      "\n",
      "3\tOther Plants\t11\t12\t105\n",
      "\n",
      "3\tOrganismal\t12\t12\t1533\n",
      "\n",
      "4\tRoot\t24\t46\t86\n",
      "\n",
      "4\tOther Plants\t9\t46\t105\n",
      "\n",
      "4\tOrganismal\t43\t46\t1533\n",
      "\n",
      "4\tFungi\t20\t46\t31\n",
      "\n",
      "4\tPinus\t10\t46\t11\n",
      "\n",
      "4\tRhizosphere\t15\t46\t111\n",
      "\n",
      "4\tMetagenome\t18\t46\t653\n",
      "\n",
      "5\tLake\t6\t13\t41\n",
      "\n",
      "5\tSediment\t6\t13\t245\n",
      "\n",
      "5\tSeawater\t7\t13\t215\n",
      "\n",
      "6\tOrganismal\t9\t188\t1533\n",
      "\n",
      "6\tTropical Soil\t26\t188\t26\n",
      "\n",
      "6\tSoil\t110\t188\t604\n",
      "\n",
      "6\tBulk Soil\t14\t188\t37\n",
      "\n",
      "6\tGrassland\t36\t188\t43\n",
      "\n",
      "8\tOther Plants\t10\t10\t105\n",
      "\n",
      "8\tOrganismal\t10\t10\t1533\n",
      "\n",
      "9\tEukaryota\t7\t52\t7\n",
      "\n",
      "9\tOrganismal\t52\t52\t1533\n",
      "\n",
      "9\t16s\t24\t52\t221\n",
      "\n",
      "9\tOral-Caries\t39\t52\t46\n",
      "\n",
      "10\tHuman\t319\t3275\t565\n",
      "\n",
      "10\tOrganismal\t434\t3275\t1533\n",
      "\n",
      "10\tSeawater\t40\t3275\t215\n",
      "\n",
      "10\tGut\t20\t3275\t329\n",
      "\n",
      "10\tMetagenome\t25\t3275\t653\n",
      "\n",
      "10\tSewage\t4\t3275\t78\n",
      "\n",
      "10\tAnthropogenic\t4\t3275\t115\n",
      "\n",
      "10\tEnvironmental\t2523\t3275\t5707\n",
      "\n",
      "10\tNYC\t1627\t3275\t1795\n",
      "\n",
      "10\tPorto\t2\t3275\t52\n",
      "\n",
      "10\tLondon\t65\t3275\t323\n",
      "\n",
      "10\tTaipei\t1\t3275\t47\n",
      "\n",
      "10\tPalm\t74\t3275\t74\n",
      "\n",
      "10\tHeadboard\t33\t3275\t34\n",
      "\n",
      "10\tDoor\t40\t3275\t40\n",
      "\n",
      "10\tOslo\t1\t3275\t42\n",
      "\n",
      "10\tShotgun\t299\t3275\t452\n",
      "\n",
      "10\tOral\t70\t3275\t83\n",
      "\n",
      "10\tOral-Gingival\t62\t3275\t63\n",
      "\n",
      "10\tOral-Tongue\t46\t3275\t46\n",
      "\n",
      "10\tVaginal\t2\t3275\t89\n",
      "\n",
      "10\tWood\t74\t3275\t83\n",
      "\n",
      "10\tClean Water\t1\t3275\t55\n",
      "\n",
      "10\tSediment\t7\t3275\t245\n",
      "\n",
      "12\tCalifornia\t7\t24\t11\n",
      "\n",
      "12\tLitter\t24\t24\t24\n",
      "\n",
      "13\tBlood Cell\t12\t12\t28\n",
      "\n",
      "13\tGut\t12\t12\t329\n",
      "\n",
      "13\tOrganismal\t12\t12\t1533\n",
      "\n",
      "14\tSeawater\t18\t19\t215\n",
      "\n",
      "14\tFjord\t19\t19\t19\n",
      "\n",
      "16\t16s\t12\t12\t221\n",
      "\n",
      "17\tFood Fermentation\t14\t14\t28\n",
      "\n",
      "17\tMetagenome\t14\t14\t653\n",
      "\n",
      "18\tOrganismal\t14\t14\t1533\n",
      "\n",
      "19\tBosnia and Herzegovina\t10\t11\t14\n",
      "\n",
      "19\tIllumina\t10\t11\t37\n",
      "\n",
      "19\tKefir Grain\t10\t11\t14\n",
      "\n",
      "20\tOrganismal\t10\t11\t1533\n",
      "\n",
      "20\t16s\t10\t11\t221\n",
      "\n",
      "21\tFecal\t13\t13\t151\n",
      "\n",
      "21\tOrganismal\t13\t13\t1533\n",
      "\n",
      "21\tMetagenome\t13\t13\t653\n",
      "\n",
      "22\tPowder River Basin\t45\t82\t84\n",
      "\n",
      "22\tCoal\t82\t82\t170\n",
      "\n",
      "22\tEnvironmental\t82\t82\t5707\n",
      "\n",
      "22\tMetagenome\t37\t82\t653\n",
      "\n",
      "23\tCoal\t27\t27\t170\n",
      "\n",
      "23\tPowder River Basin\t15\t27\t84\n",
      "\n",
      "24\tPowder River Basin\t10\t10\t84\n",
      "\n",
      "24\tCoal\t10\t10\t170\n",
      "\n",
      "25\t16s\t11\t11\t221\n",
      "\n",
      "26\tOrganismal\t20\t20\t1533\n",
      "\n",
      "26\tMetagenome\t20\t20\t653\n",
      "\n",
      "26\tPhyllospehere\t9\t20\t16\n",
      "\n",
      "26\tRoot\t9\t20\t86\n",
      "\n",
      "27\tMetagenome\t10\t10\t653\n",
      "\n",
      "27\tMassachusetts\t9\t10\t23\n",
      "\n",
      "27\tMarine Sediment\t9\t10\t23\n",
      "\n",
      "27\tSeawater\t9\t10\t215\n",
      "\n",
      "27\tSediment\t9\t10\t245\n",
      "\n",
      "28\tDrinking Water\t11\t12\t47\n",
      "\n",
      "28\tClean Water\t11\t12\t55\n",
      "\n",
      "29\tSewage\t53\t53\t78\n",
      "\n",
      "29\tAnthropogenic\t53\t53\t115\n",
      "\n",
      "29\tEnvironmental\t53\t53\t5707\n",
      "\n",
      "30\tNasopharynx\t54\t68\t57\n",
      "\n",
      "30\tHuman\t68\t68\t565\n",
      "\n",
      "30\tShotgun\t68\t68\t452\n",
      "\n",
      "30\tOrganismal\t68\t68\t1533\n",
      "\n",
      "30\tBlood Cell\t13\t68\t28\n",
      "\n",
      "31\tVaginal\t36\t41\t89\n",
      "\n",
      "31\tHuman\t41\t41\t565\n",
      "\n",
      "31\tShotgun\t41\t41\t452\n",
      "\n",
      "31\tOrganismal\t41\t41\t1533\n",
      "\n",
      "32\tCrystal\t10\t10\t39\n",
      "\n",
      "33\tTundra\t20\t20\t26\n",
      "\n",
      "33\tSoil\t20\t20\t604\n",
      "\n",
      "33\tIce\t20\t20\t50\n",
      "\n",
      "34\tEnvironmental\t1\t14\t5707\n",
      "\n",
      "35\tSoil\t11\t11\t604\n",
      "\n",
      "36\tSoil\t11\t11\t604\n",
      "\n",
      "37\tActivated Sludge\t10\t14\t62\n",
      "\n",
      "37\tSludge\t13\t14\t94\n",
      "\n",
      "38\tCrystal\t20\t20\t39\n",
      "\n",
      "39\tSediment\t27\t27\t245\n",
      "\n"
     ]
    }
   ],
   "source": [
    "#We run the function above for DBSCAN with categories and print the results.\n",
    "enrichedKeywords,sizeKey=getSigTerms(dbg.labels_,catPerSample,ids,CatAbundance)\n",
    "\n",
    "print(\"DBSCAN\")\n",
    "print(\"Cluster\"+\"\\t\"+\"Category\"+\"\\t\"+\"Abundance\"+\"\\t\"+\"Cluster_Size\"+\"\\t\"+\"Total Abundance\")\n",
    "\n",
    "clusters=max(dbg.labels_)-min(dbg.labels_)+1\n",
    "for i in range(-1,clusters):\n",
    "    Pos=i+1\n",
    "    try:\n",
    "#We use TotalTermAbundance to determine the total abundance in the dataset of the terms.\n",
    "        for term in enrichedKeywords[i]:\n",
    "            if sizeKey[i][term]==0:\n",
    "                continue\n",
    "            print(str(i)+\"\\t\"+term+\"\\t\"+str(sizeKey[i][term])+\"\\t\"+str(list(dbg.labels_).count(i))+\"\\t\"+str(CatAbundance[term])+\"\\n\")\n",
    "    except KeyError:\n",
    "        pass"
   ]
  },
  {
   "cell_type": "code",
   "execution_count": 111,
   "metadata": {},
   "outputs": [
    {
     "data": {
      "image/png": "[encoded data removed]",
      "text/plain": [
       "<Figure size 576x360 with 1 Axes>"
      ]
     },
     "metadata": {
      "needs_background": "light"
     },
     "output_type": "display_data"
    }
   ],
   "source": [
    "clusterAbundance=[]\n",
    "for i in range(0,clusters):\n",
    "    clusterAbundance.append(list(dbg.labels_).count(i))\n",
    "    \n",
    "hist(clusterAbundance,histtype='bar',label=\"Same\", density=False,bins=30)\n",
    "title(\"Cluster Abundance\", fontsize=12)\n",
    "figsize(8,5)"
   ]
  },
  {
   "cell_type": "markdown",
   "metadata": {},
   "source": [
    "#### Selective Graphing of Clusters"
   ]
  },
  {
   "cell_type": "code",
   "execution_count": 36,
   "metadata": {},
   "outputs": [],
   "source": [
    "#It might be useful to graph only certasin clusters. This can be done by modifying the original dataframe here (adding\n",
    "#clusters to exclude in the isin list).\n",
    "dfDBSCFiltered=dfDBSC[dfDBSC[\"Clusters\"].isin([\"-1\"])==False]"
   ]
  },
  {
   "cell_type": "code",
   "execution_count": 37,
   "metadata": {},
   "outputs": [
    {
     "data": {
      "image/png": "[encoded data removed]",
      "text/plain": [
       "<Figure size 640x480 with 1 Axes>"
      ]
     },
     "metadata": {},
     "output_type": "display_data"
    },
    {
     "data": {
      "text/plain": [
       "<ggplot: (133028632200)>"
      ]
     },
     "execution_count": 37,
     "metadata": {},
     "output_type": "execute_result"
    }
   ],
   "source": [
    "#Now we graph, same way as we did before.\n",
    "from plotnine import *\n",
    "\n",
    "(ggplot(dfDBSCFiltered, aes(x='Coord1', y='Coord2', color='Clusters', shape='Clusters')) +\n",
    "        geom_point(alpha = 0.5) + labs(title=\"DBSCAN Clustering\", x=\"Coordinate1\", y=\"Coordinate2\") + \n",
    " scale_shape_manual(values=asarray([\"o\",\"v\",\"^\",\"<\",\">\",\"1\",\"2\",\"3\",\"4\",\"8\",\"s\",\"o\",\"v\",\"^\",\"<\",\">\",\"1\",\"2\",\"3\",\"4\",\"8\",\"s\",\"p\",\"P\",\"*\",\"h\",\"H\",\"+\",\"x\",\"X\",\"D\",\"d\",\"|\",\"_\",1,2,3,4,\"o\",\"v\",\"^\"]))\n",
    ")"
   ]
  },
  {
   "cell_type": "markdown",
   "metadata": {},
   "source": [
    "#### Dataset Abundance per Cluster"
   ]
  },
  {
   "cell_type": "code",
   "execution_count": 38,
   "metadata": {},
   "outputs": [],
   "source": [
    "#It also might be interesting to know the distribution of datasets per cluster. That is, how many samples in each \n",
    "#cluster come from each dataset. \n",
    "\n",
    "#We'll save the abundance per dataset in each cluster in dataserAbundance.\n",
    "datasetAbundance={}\n",
    "\n",
    "#Within each value we have another dictionary of the abundance per dataset.\n",
    "for i in range(-1,max(dbg.labels_)+1):\n",
    "    datasetAbundance[i]={\"HMP\":0,\"MegaGenome\":0,\"TMDB\":0,\"PathoMAP\":0,\"MetaSUB\":0}\n",
    "\n",
    "#We cycle through all samples, determine the dataset of original based on their name and sum 1 to the dataset abundance of\n",
    "#its cluster.\n",
    "for i in range(0,len(dbg.labels_)):\n",
    "    if \"haib\" in ids[i] or \"sossowski\" in ids[i]:\n",
    "        datasetAbundance[dbg.labels_[i]][\"MetaSUB\"]+=1\n",
    "    elif \"HMP\" in ids[i]:\n",
    "        datasetAbundance[dbg.labels_[i]][\"HMP\"]+=1\n",
    "    elif \"PATHOMAP\" in ids[i]:\n",
    "        datasetAbundance[dbg.labels_[i]][\"PathoMAP\"]+=1\n",
    "    elif \"RR\" in ids[i]:\n",
    "        datasetAbundance[dbg.labels_[i]][\"TMDB\"]+=1\n",
    "    else:\n",
    "        datasetAbundance[dbg.labels_[i]][\"MegaGenome\"]+=1"
   ]
  },
  {
   "cell_type": "code",
   "execution_count": 39,
   "metadata": {
    "scrolled": true
   },
   "outputs": [
    {
     "name": "stdout",
     "output_type": "stream",
     "text": [
      "Cluster\tHMP\tMetaSUB\tPathoMAP\tTMDB\tMegaGenome\n",
      "-1\t0.013027295285359801\t0.45564516129032256\t0.016129032258064516\t0.27233250620347393\t0.24286600496277916\n",
      "0\t0.0\t0.0\t0.0\t0.041666666666666664\t0.9583333333333334\n",
      "1\t0.0\t0.0\t0.0\t0.0\t1.0\n",
      "2\t0.0\t0.0\t0.0\t0.0013869625520110957\t0.9986130374479889\n",
      "3\t0.0\t0.0\t0.0\t0.0\t1.0\n",
      "4\t0.0\t0.0\t0.0\t0.0\t1.0\n",
      "5\t0.0\t0.0\t0.0\t0.0\t1.0\n",
      "6\t0.0\t0.0\t0.0\t0.6861702127659575\t0.31382978723404253\n",
      "7\t0.0\t0.0\t0.0\t0.0\t1.0\n",
      "8\t0.0\t0.0\t0.0\t0.0\t1.0\n",
      "9\t0.0\t0.0\t0.0\t0.0\t1.0\n",
      "10\t0.09129770992366412\t0.3242748091603053\t0.4482442748091603\t0.11389312977099236\t0.022290076335877863\n",
      "11\t0.0\t0.0\t0.0\t0.0\t1.0\n",
      "12\t0.0\t0.0\t0.0\t0.0\t1.0\n",
      "13\t0.0\t0.0\t0.0\t0.0\t1.0\n",
      "14\t0.0\t0.0\t0.0\t0.0\t1.0\n",
      "15\t0.0\t0.0\t0.0\t0.0\t1.0\n",
      "16\t0.0\t0.0\t0.0\t0.0\t1.0\n",
      "17\t0.0\t0.0\t0.0\t0.0\t1.0\n",
      "18\t0.0\t0.0\t0.0\t0.0\t1.0\n",
      "19\t0.0\t0.0\t0.0\t0.0\t1.0\n",
      "20\t0.0\t0.0\t0.0\t0.0\t1.0\n",
      "21\t0.0\t0.0\t0.0\t0.0\t1.0\n",
      "22\t0.0\t0.0\t0.0\t0.0\t1.0\n",
      "23\t0.0\t0.0\t0.0\t0.0\t1.0\n",
      "24\t0.0\t0.0\t0.0\t0.0\t1.0\n",
      "25\t0.0\t0.0\t0.0\t0.0\t1.0\n",
      "26\t0.0\t0.0\t0.0\t0.0\t1.0\n",
      "27\t0.0\t0.0\t0.0\t0.0\t1.0\n",
      "28\t0.0\t0.0\t0.0\t0.9166666666666666\t0.08333333333333333\n",
      "29\t0.0\t0.0\t0.0\t1.0\t0.0\n",
      "30\t1.0\t0.0\t0.0\t0.0\t0.0\n",
      "31\t1.0\t0.0\t0.0\t0.0\t0.0\n",
      "32\t0.0\t0.0\t0.0\t1.0\t0.0\n",
      "33\t0.0\t0.0\t0.0\t1.0\t0.0\n",
      "34\t0.0\t0.0\t0.0\t0.9285714285714286\t0.07142857142857142\n",
      "35\t0.0\t0.0\t0.0\t1.0\t0.0\n",
      "36\t0.0\t0.0\t0.0\t1.0\t0.0\n",
      "37\t0.0\t0.0\t0.0\t1.0\t0.0\n",
      "38\t0.0\t0.0\t0.0\t1.0\t0.0\n",
      "39\t0.0\t0.0\t0.0\t1.0\t0.0\n"
     ]
    }
   ],
   "source": [
    "#We print the normalized abundance of each dataset in each cluster.\n",
    "print(\"Cluster\"+\"\\t\"+\"HMP\"+\"\\t\"+\"MetaSUB\"+\"\\t\"+\"PathoMAP\"+\"\\t\"+\"TMDB\"+\"\\t\"+\"MegaGenome\")\n",
    "\n",
    "for cluster in datasetAbundance.keys():\n",
    "    print(str(cluster)+\"\\t\"+str(datasetAbundance[cluster][\"HMP\"]/list(dbg.labels_).count(cluster))+\"\\t\"+str(datasetAbundance[cluster][\"MetaSUB\"]/list(dbg.labels_).count(cluster))+\"\\t\"+str(datasetAbundance[cluster][\"PathoMAP\"]/list(dbg.labels_).count(cluster))+\"\\t\"+str(datasetAbundance[cluster][\"TMDB\"]/list(dbg.labels_).count(cluster))+\"\\t\"+str(datasetAbundance[cluster][\"MegaGenome\"]/list(dbg.labels_).count(cluster)))"
   ]
  },
  {
   "cell_type": "markdown",
   "metadata": {},
   "source": [
    "#### Reclustering and Enrichment on a Specific Cluster"
   ]
  },
  {
   "cell_type": "markdown",
   "metadata": {},
   "source": [
    "In the case in which certain cluster is too big, it might be useful to cluster again on it through DBSCAN and check for enrichment in the clusters that are generated. We define a code here to do that. The code can be run for any cluster that is generated above."
   ]
  },
  {
   "cell_type": "code",
   "execution_count": 36,
   "metadata": {},
   "outputs": [],
   "source": [
    "#For reclustering we need to generate a new distance matrix, new dictionaries of categories per sample, and a new id\n",
    "#list. We generate those using a function which takes the cluster number as parameters, as well as the cluster per \n",
    "#sample list generated by DBSCAN.\n",
    "\n",
    "def extractClusterInfo(clusterNumber,clusters):\n",
    "    #We go through the clusters list and get the positions of all samples withint the desired cluster. We save that in \n",
    "    #clusterPos. toDelete will save all samples that are not part of the cluster (we need this info for the cluster \n",
    "    #distance matrix).\n",
    "    \n",
    "    clusterPos=[]\n",
    "    toDelete=[]\n",
    "    \n",
    "    for i in range(0,len(clusters)):\n",
    "        if clusters[i]==clusterNumber:\n",
    "            clusterPos.append(i)\n",
    "        else:\n",
    "            toDelete.append(i)\n",
    "    \n",
    "    #With the positions we move on to get the cluster IDs, and the categories per sample dictionary.\n",
    "    clusterIDs=[]\n",
    "    clusterCatPerSample={}\n",
    "    \n",
    "    #In both cases we go over ids and catPerSample (the complete dataset list) and get the info of the samples in the\n",
    "    #clusters.\n",
    "    for i in range(0,len(ids)):\n",
    "        if i in clusterPos:\n",
    "            clusterIDs.append(ids[i])\n",
    "            \n",
    "    for key,value in catPerSample.items():\n",
    "        if key in clusterIDs:\n",
    "            clusterCatPerSample[key]=value\n",
    "    \n",
    "    #Finally we get the cluster distances by removing those of the samples that are not present in the cluster.\n",
    "    clusterDistances=np.delete(distances,toDelete,axis=0)\n",
    "    clusterDistances=np.delete(clusterDistances,toDelete,axis=1)\n",
    "    \n",
    "    #We return the sample IDs, categories per sample, and cluster distances for the cluster.\n",
    "    return clusterIDs,clusterCatPerSample,clusterDistances"
   ]
  },
  {
   "cell_type": "code",
   "execution_count": 84,
   "metadata": {},
   "outputs": [
    {
     "name": "stderr",
     "output_type": "stream",
     "text": [
      "C:\\Users\\jlego\\anaconda3\\lib\\site-packages\\umap\\umap_.py:1503: UserWarning: using precomputed metric; transform will be unavailable for new data and inverse_transform will be unavailable for all data\n"
     ]
    }
   ],
   "source": [
    "#Now we run extractClusterInfo, and then umap and DBSCAN. DBSCAN parameters can be tweaked here if needed.\n",
    "clusterInformation=extractClusterInfo(10,dbg.labels_)\n",
    "\n",
    "clusterfit = umap.UMAP(n_components=2,metric=\"precomputed\")\n",
    "cu = fit.fit_transform(clusterInformation[2])\n",
    "\n",
    "from sklearn.cluster import DBSCAN\n",
    "cdbg=DBSCAN(eps=0.07,metric=\"precomputed\",min_samples=10).fit(clusterInformation[2])"
   ]
  },
  {
   "cell_type": "code",
   "execution_count": 85,
   "metadata": {},
   "outputs": [],
   "source": [
    "#We can graph the results to have a reference.\n",
    "import pandas as pd\n",
    "\n",
    "dfDBSC=pd.DataFrame(cu,columns=[\"Coord1\",\"Coord2\"])\n",
    "#We save the cluster number as a string so that coloring is done in a discrete fashion.\n",
    "strLabels=[str(x) for x in list(cdbg.labels_)]\n",
    "#dfDBSC['Clusters']=dbg.labels_\n",
    "dfDBSC['Clusters']=strLabels\n",
    "#filterGroups can be used here if necessary to only see specific clusters.\n",
    "#dfDBSC['Clusters']=filterGroups([2,3],dbg.labels_)"
   ]
  },
  {
   "cell_type": "code",
   "execution_count": 86,
   "metadata": {},
   "outputs": [
    {
     "data": {
      "image/png": "[encoded data removed]",
      "text/plain": [
       "<Figure size 640x480 with 1 Axes>"
      ]
     },
     "metadata": {},
     "output_type": "display_data"
    },
    {
     "data": {
      "text/plain": [
       "<ggplot: (163749293623)>"
      ]
     },
     "execution_count": 86,
     "metadata": {},
     "output_type": "execute_result"
    }
   ],
   "source": [
    "#Now we graph, same way as we did before.\n",
    "from plotnine import *\n",
    "\n",
    "(ggplot(dfDBSC, aes(x='Coord1', y='Coord2', color='Clusters', shape='Clusters')) +\n",
    "        geom_point(alpha = 0.5) + labs(title=\"DBSCAN Reclustering for Cluster 2\", x=\"Coordinate1\", y=\"Coordinate2\") + \n",
    " scale_shape_manual(values=asarray([\"o\",\"v\",\"^\",\"<\",\">\",\"1\",\"2\",\"3\",\"4\",\"8\",\"s\",\"o\",\"v\",\"^\",\"<\",\">\",\"1\",\"2\",\"3\",\"4\",\"8\",\"s\",\"p\",\"P\",\"*\",\"h\",\"H\",\"+\",\"x\",\"X\",\"D\",\"d\",\"|\",\"_\",1,2,3,4,\"o\",\"v\",\"^\"]))\n",
    ")"
   ]
  },
  {
   "cell_type": "code",
   "execution_count": 87,
   "metadata": {},
   "outputs": [],
   "source": [
    "#We need to define the total abundance per category but for only the categories within the cluster. We do that here.\n",
    "\n",
    "clusterCatAbundance={}\n",
    "\n",
    "for classification in allHierarchy.keys():\n",
    "#We get the categories from allHierarchy and count their abundance by looking in how many cluster samples each category is\n",
    "#present.\n",
    "    for category in allHierarchy[classification].keys():\n",
    "        abundance=0\n",
    "        for sample,sampleCategories in clusterInformation[1].items():\n",
    "            if category in sampleCategories:\n",
    "                abundance+=1\n",
    "        clusterCatAbundance[category]=abundance"
   ]
  },
  {
   "cell_type": "code",
   "execution_count": 88,
   "metadata": {},
   "outputs": [
    {
     "name": "stdout",
     "output_type": "stream",
     "text": [
      "153\n",
      "DBSCAN\n",
      "Cluster\tCategory\tAbundance\tCluster_Size\tTotal Abundance\n",
      "-1\tOrganismal\t150\t1669\t434\n",
      "\n",
      "-1\tNYC\t686\t1669\t1627\n",
      "\n",
      "-1\tMetal\t267\t1669\t318\n",
      "\n",
      "-1\tKiosk\t73\t1669\t80\n",
      "\n",
      "-1\tPlastic\t131\t1669\t175\n",
      "\n",
      "-1\tSeat\t82\t1669\t91\n",
      "\n",
      "-1\tHandrail\t90\t1669\t102\n",
      "\n",
      "-1\tIlorin\t58\t1669\t59\n",
      "\n",
      "-1\tHuman\t97\t1669\t319\n",
      "\n",
      "-1\tShotgun\t97\t1669\t299\n",
      "\n",
      "-1\tOral-Gingival\t4\t1669\t62\n",
      "\n",
      "-1\tOral-Tongue\t1\t1669\t46\n",
      "\n",
      "-1\tForest\t10\t1669\t68\n",
      "\n",
      "0\tHuman\t70\t90\t319\n",
      "\n",
      "0\tOrganismal\t90\t90\t434\n",
      "\n",
      "0\tGut\t20\t90\t20\n",
      "\n",
      "0\tSeawater\t20\t90\t40\n",
      "\n",
      "0\tMetagenome\t20\t90\t25\n",
      "\n",
      "0\tMice\t12\t90\t12\n",
      "\n",
      "0\tFecal\t50\t90\t77\n",
      "\n",
      "0\tShotgun\t50\t90\t299\n",
      "\n",
      "1\tPrimate\t14\t14\t20\n",
      "\n",
      "1\tOrganismal\t14\t14\t434\n",
      "\n",
      "1\tSeawater\t14\t14\t40\n",
      "\n",
      "2\tNYC\t5\t43\t1627\n",
      "\n",
      "2\tTokyo\t9\t43\t63\n",
      "\n",
      "2\tBerlin\t4\t43\t7\n",
      "\n",
      "3\tLondon\t10\t32\t65\n",
      "\n",
      "3\tNYC\t3\t32\t1627\n",
      "\n",
      "4\tMetal\t27\t117\t318\n",
      "\n",
      "4\tStone\t12\t117\t52\n",
      "\n",
      "4\tPole\t10\t117\t49\n",
      "\n",
      "4\tNYC\t1\t117\t1627\n",
      "\n",
      "4\tPalm\t21\t117\t74\n",
      "\n",
      "4\tHeadboard\t10\t117\t33\n",
      "\n",
      "4\tDoor\t13\t117\t40\n",
      "\n",
      "5\tDoor\t9\t24\t40\n",
      "\n",
      "5\tHeadboard\t6\t24\t33\n",
      "\n",
      "5\tPalm\t6\t24\t74\n",
      "\n",
      "6\tOral\t35\t143\t70\n",
      "\n",
      "6\tHuman\t143\t143\t319\n",
      "\n",
      "6\tShotgun\t143\t143\t299\n",
      "\n",
      "6\tOrganismal\t143\t143\t434\n",
      "\n",
      "6\tOral-Gingival\t56\t143\t62\n",
      "\n",
      "6\tOral-Tongue\t45\t143\t46\n",
      "\n",
      "7\tIlorin\t1\t1060\t59\n",
      "\n",
      "7\tEnvironmental\t982\t1060\t2523\n",
      "\n",
      "7\tNYC\t916\t1060\t1627\n",
      "\n",
      "9\tSediment\t6\t10\t7\n",
      "\n",
      "10\tForest\t58\t59\t68\n",
      "\n",
      "10\tEnvironmental\t58\t59\t2523\n",
      "\n"
     ]
    }
   ],
   "source": [
    "#Now we run the enrichment for the new clusters.\n",
    "enrichedKeywords,sizeKey=getSigTerms(cdbg.labels_,clusterInformation[1],clusterInformation[0],clusterCatAbundance)\n",
    "\n",
    "print(\"DBSCAN\")\n",
    "print(\"Cluster\"+\"\\t\"+\"Category\"+\"\\t\"+\"Abundance\"+\"\\t\"+\"Cluster_Size\"+\"\\t\"+\"Total Abundance\")\n",
    "\n",
    "clusters=max(cdbg.labels_)-min(cdbg.labels_)+1\n",
    "for i in range(-1,clusters):\n",
    "    Pos=i+1\n",
    "    try:\n",
    "#We use TotalTermAbundance to determine the total abundance in the dataset of the terms.\n",
    "        for term in enrichedKeywords[i]:\n",
    "            if sizeKey[i][term]==0:\n",
    "                continue\n",
    "            print(str(i)+\"\\t\"+term+\"\\t\"+str(sizeKey[i][term])+\"\\t\"+str(list(cdbg.labels_).count(i))+\"\\t\"+str(clusterCatAbundance[term])+\"\\n\")\n",
    "    except KeyError:\n",
    "        pass"
   ]
  },
  {
   "cell_type": "markdown",
   "metadata": {},
   "source": [
    "## HMP only UMAP"
   ]
  },
  {
   "cell_type": "markdown",
   "metadata": {},
   "source": [
    "As a side note here, we generate a graph for HMP only samples, and graph them based on the body part they're associtaed to. Note that these body parts are all values of the hierarchy, but some of them are merged into the same category. Here, we do not use the hierarchy but consider all possible body parts as distinct possible labelling options.\n",
    "\n",
    "All the loading of distances and metadata and the graph are done below. This part of the code can be run independently from the rest."
   ]
  },
  {
   "cell_type": "code",
   "execution_count": 1,
   "metadata": {},
   "outputs": [
    {
     "name": "stdout",
     "output_type": "stream",
     "text": [
      "Populating the interactive namespace from numpy and matplotlib\n"
     ]
    }
   ],
   "source": [
    "%pylab inline \n",
    "import umap"
   ]
  },
  {
   "cell_type": "code",
   "execution_count": 2,
   "metadata": {},
   "outputs": [],
   "source": [
    "#We load the distance matrix, but now only for HMP data.\n",
    "phy=open(\"MashTriangle/HMPDistances.phyllip\",\"r\")\n",
    "\n",
    "#There are a total of 8220 samples for now (this can be seen in the first line of the phyllip file).\n",
    "HMPdistances=np.zeros((450,450))\n",
    "#We'll save the sample ids in a list and the distances in distances.\n",
    "HMPids=[]\n",
    "\n",
    "#We'll need a counter to fill the distance matrix.\n",
    "i=-2\n",
    "for line in phy:\n",
    "#At the beggining of each line we increase the counter by 1.\n",
    "    i+=1\n",
    "#The first line of the file contains only the total number of samples so we ignore it (when we read the first line,\n",
    "#i=-1).\n",
    "    if i<0:\n",
    "        continue\n",
    "#The second line has just the id of the first samples. We simply save the id and that's it.\n",
    "    if i==1:\n",
    "        line=line.strip(\"\\n\").split(\"\\t\")\n",
    "        HMPids.append(line[0].split(\".gz\")[0].split(\"/\")[1])\n",
    "        continue\n",
    "    \n",
    "#The rest of the lines have distances. In particular the nth id has n-1 distances (for the n-1 samples above it). \n",
    "#First we get the id.\n",
    "    line=line.strip(\"\\n\").split(\"\\t\")\n",
    "    HMPids.append(line[0].split(\".gz\")[0].split(\"/\")[1])\n",
    "    #continue\n",
    "#Then we add the n-1 distances to the nth line and the nth column (the distance matrix is symmetrical).\n",
    "    dist=asarray([float(x) for x in line[1::]])\n",
    "    HMPdistances[0:i,i]=dist\n",
    "    HMPdistances[i,0:i]=dist\n",
    "    \n",
    "phy.close()"
   ]
  },
  {
   "cell_type": "code",
   "execution_count": 3,
   "metadata": {},
   "outputs": [],
   "source": [
    "#Now we load the metadata file as we did before, bur we keep the body part info as is, without hiearchy assignment.\n",
    "\n",
    "hmpFile=open(\"ProjectMetadata/HMP_metadata.csv\",\"r\")\n",
    "#bodyPart=list(np.zeros(967))\n",
    "bodyPart={}\n",
    "for line in hmpFile:\n",
    "#We extract the lines we need. \n",
    "    line=line.strip(\"\\n\").split(\",\")\n",
    "    HMPID=line[0].replace(\" \",\"\")\n",
    "#If the sample doesn't have a mash distance we skip it.\n",
    "    if HMPID not in HMPids:\n",
    "        continue\n",
    "\n",
    "#Position 1 of the metadata contains the type of sequencing, and 9 the body part.\n",
    "    #bodyPart[HMPids.index(HMPID)]=str(line[9])\n",
    "    bodyPart[HMPID]=line[9].lower()\n",
    "hmpFile.close()"
   ]
  },
  {
   "cell_type": "code",
   "execution_count": 4,
   "metadata": {},
   "outputs": [],
   "source": [
    "BPList=[]\n",
    "\n",
    "for ID in HMPids:\n",
    "    if ID in HMPids:\n",
    "        BPList.append(bodyPart[ID])\n",
    "    else:\n",
    "        BPList.append(\"unknown\")"
   ]
  },
  {
   "cell_type": "code",
   "execution_count": 5,
   "metadata": {},
   "outputs": [
    {
     "name": "stderr",
     "output_type": "stream",
     "text": [
      "C:\\Users\\jlego\\anaconda3\\lib\\site-packages\\umap\\umap_.py:1503: UserWarning: using precomputed metric; transform will be unavailable for new data and inverse_transform will be unavailable for all data\n",
      "  warn(\n"
     ]
    }
   ],
   "source": [
    "#We run umap with the HMP distances.\n",
    "fit = umap.UMAP(n_components=2,metric=\"precomputed\")\n",
    "u = fit.fit_transform(HMPdistances)"
   ]
  },
  {
   "cell_type": "code",
   "execution_count": 6,
   "metadata": {},
   "outputs": [],
   "source": [
    "#Now we generate the pandas dataframe for plotnine.\n",
    "import pandas as pd\n",
    "#We convert the u data frame, with the umap coordinates, to a dataframe.\n",
    "df=pd.DataFrame(u,columns=[\"Coord1\",\"Coord2\"])\n",
    "#We can add col as an additional column.\n",
    "df['BodyPart']=BPList"
   ]
  },
  {
   "cell_type": "code",
   "execution_count": 18,
   "metadata": {
    "scrolled": false
   },
   "outputs": [
    {
     "data": {
      "image/png": "[encoded data removed]",
      "text/plain": [
       "<Figure size 640x480 with 1 Axes>"
      ]
     },
     "metadata": {},
     "output_type": "display_data"
    },
    {
     "data": {
      "text/plain": [
       "<ggplot: (94931239382)>"
      ]
     },
     "execution_count": 18,
     "metadata": {},
     "output_type": "execute_result"
    }
   ],
   "source": [
    "#And finally we graph.\n",
    "from plotnine import *\n",
    "#theme_set(theme_void())\n",
    "(ggplot(df, aes(x='Coord1', y='Coord2', color='BodyPart', shape='BodyPart')) +\n",
    "        geom_point(alpha = 0.9, size=2) + labs(title=\"HMP Only\", x=\"Coordinate1\", y=\"Coordinate2\") + \n",
    " scale_shape_manual(values=asarray([\"o\",\"v\",\"^\",\"<\",\">\",\"1\",\"2\",\"3\",\"4\",\"8\",\"s\",\"o\",\"v\",\"^\",\"<\",\">\",\"1\",\"2\",\"3\",\"4\",\"8\",\"s\",\"p\",\"P\",\"*\",\"h\",\"H\",\"+\",\"x\",\"X\",\"D\",\"d\",\"|\",\"_\",1,2,3,4,\"o\",\"v\",\"^\"]))\n",
    ")"
   ]
  },
  {
   "cell_type": "code",
   "execution_count": null,
   "metadata": {},
   "outputs": [],
   "source": []
  }
 ],
 "metadata": {
  "kernelspec": {
   "display_name": "Python 3",
   "language": "python",
   "name": "python3"
  },
  "language_info": {
   "codemirror_mode": {
    "name": "ipython",
    "version": 3
   },
   "file_extension": ".py",
   "mimetype": "text/x-python",
   "name": "python",
   "nbconvert_exporter": "python",
   "pygments_lexer": "ipython3",
   "version": "3.8.5"
  }
 },
 "nbformat": 4,
 "nbformat_minor": 4
}
