{
 "cells": [
  {
   "cell_type": "markdown",
   "metadata": {},
   "source": [
    "#### Data Load"
   ]
  },
  {
   "cell_type": "code",
   "execution_count": 1,
   "metadata": {},
   "outputs": [
    {
     "name": "stdout",
     "output_type": "stream",
     "text": [
      "Populating the interactive namespace from numpy and matplotlib\n"
     ]
    }
   ],
   "source": [
    "%pylab inline\n",
    "import umap"
   ]
  },
  {
   "cell_type": "code",
   "execution_count": 2,
   "metadata": {},
   "outputs": [],
   "source": [
    "ids=[]\n",
    "projects=[]\n",
    "FirstBatch=open(\"Proj_UID.csv\",\"r\")\n",
    "\n",
    "for line in FirstBatch:\n",
    "    line=line.strip(\"\\n\").split(\";\")\n",
    "    ids.append(line[0])\n",
    "    projects.append(line[1])"
   ]
  },
  {
   "cell_type": "code",
   "execution_count": 3,
   "metadata": {},
   "outputs": [],
   "source": [
    "SecondBatch=open(\"Proj_UIDBatch2.csv\",\"r\")\n",
    "\n",
    "for line in SecondBatch:\n",
    "    line=line.strip(\"\\n\").split(\";\")\n",
    "    \n",
    "    if line[0] in ids:\n",
    "        continue\n",
    "    else:\n",
    "        ids.append(line[0])\n",
    "    projects.append(line[1])"
   ]
  },
  {
   "cell_type": "code",
   "execution_count": 4,
   "metadata": {},
   "outputs": [],
   "source": [
    "#for (ID,proj) in zip(ids,projects):\n",
    "#    print(ID+\";\"+proj)"
   ]
  },
  {
   "cell_type": "code",
   "execution_count": 5,
   "metadata": {},
   "outputs": [],
   "source": [
    "phy=open(\"NewDistances.tab\",\"r\")\n",
    "\n",
    "distances=np.zeros((1617,1617))\n",
    "\n",
    "for line in phy:\n",
    "    line=line.strip(\"\\n\").split(\"\\t\")\n",
    "    id1=line[0].split(\"_\")[0].split(\"/\")[1]\n",
    "    id2=line[1].split(\"_\")[0].split(\"/\")[1]\n",
    "    dist=float(line[2])\n",
    "    \n",
    "    distances[ids.index(id1),ids.index(id2)]=dist\n",
    "    distances[ids.index(id2),ids.index(id1)]=dist\n",
    "phy.close()"
   ]
  },
  {
   "cell_type": "code",
   "execution_count": 6,
   "metadata": {},
   "outputs": [
    {
     "name": "stdout",
     "output_type": "stream",
     "text": [
      "776\n"
     ]
    }
   ],
   "source": [
    "Ordprojects=list(set(projects))\n",
    "print(len(Ordprojects))"
   ]
  },
  {
   "cell_type": "code",
   "execution_count": 7,
   "metadata": {},
   "outputs": [],
   "source": [
    "col=[]\n",
    "\n",
    "for i in projects:\n",
    "    col.append(Ordprojects.index(i))"
   ]
  },
  {
   "cell_type": "code",
   "execution_count": 8,
   "metadata": {},
   "outputs": [],
   "source": [
    "UnOrdprojects=projects\n",
    "projects=Ordprojects"
   ]
  },
  {
   "cell_type": "markdown",
   "metadata": {},
   "source": [
    "#### Data Load (Keywords and MeSH)"
   ]
  },
  {
   "cell_type": "code",
   "execution_count": 9,
   "metadata": {},
   "outputs": [],
   "source": [
    "fpapers=open(\"Papers-Grid_Min.csv\",\"r\",encoding=\"utf-8\")\n",
    "\n",
    "ProjforKeywords=[]\n",
    "keywords=[]\n",
    "\n",
    "for line in fpapers:\n",
    "    if \"PRJNA\" in line:\n",
    "        line=line.strip(\"\\n\").split('PRJNA')\n",
    "        projectID=\"PRJNA\"+line[1].split(\",\")[0].split(\";\")[0].split(\".pdf\")[0].split(\")\")[0]\n",
    "        if projectID in projects:\n",
    "            ProjforKeywords.append(projectID)\n",
    "            Prelkeywords=line[1].split(\",\")[1::]\n",
    "            #print(Prelkeywords)\n",
    "            Realkeywords=[]\n",
    "            for i in Prelkeywords:\n",
    "                #print(i.lower())\n",
    "                if i==\"\":\n",
    "                    continue\n",
    "                else:\n",
    "                    Realkeywords.append(i.lower())\n",
    "            keywords.append(Realkeywords)\n",
    "fpapers.close()"
   ]
  },
  {
   "cell_type": "code",
   "execution_count": 10,
   "metadata": {},
   "outputs": [],
   "source": [
    "kwordtoProj={}\n",
    "\n",
    "for i in range(len(keywords)):\n",
    "    for j in keywords[i]:\n",
    "        if j in kwordtoProj.keys():\n",
    "            kwordtoProj[j].append(ProjforKeywords[i])\n",
    "        else:\n",
    "             kwordtoProj[j]=[ProjforKeywords[i]]"
   ]
  },
  {
   "cell_type": "code",
   "execution_count": 7,
   "metadata": {},
   "outputs": [],
   "source": [
    "MeShTerms=open(\"MeSHTerms.csv\",\"r\",encoding=\"utf-8\")\n",
    "\n",
    "ProjforMeSH=[]\n",
    "MesHMaj=[]\n",
    "MesHMin=[]\n",
    "Currentproject=\"PRJNA450123\"\n",
    "thisMaj=[]\n",
    "tempMin=[]\n",
    "\n",
    "while True:\n",
    "    line = MeShTerms.readline()\n",
    "    if line is None or line=='':\n",
    "        break\n",
    "    else:\n",
    "        line=line.strip(\"\\n\").split(\";\")\n",
    "        if line[1]==Currentproject:\n",
    "            thisMaj.append(line[2])\n",
    "            thisMin=[]\n",
    "            for i in range(3,len(line)):\n",
    "                if line[i]!=\"\":\n",
    "                    thisMin.append(line[i])\n",
    "            tempMin.append(thisMin)\n",
    "        else:\n",
    "            MesHMaj.append(thisMaj)\n",
    "            MesHMin.append(tempMin)\n",
    "            Currentproject=line[1]\n",
    "            ProjforMeSH.append(line[1])\n",
    "            thisMaj=[line[2]]\n",
    "            tempMin=[]\n",
    "            thisMin=[]\n",
    "            for i in range(3,len(line)):\n",
    "                if line[i]!=\"\":\n",
    "                    thisMin.append(line[i])\n",
    "            tempMin.append(thisMin)\n",
    "    \n",
    "MeShTerms.close()"
   ]
  },
  {
   "cell_type": "code",
   "execution_count": 8,
   "metadata": {},
   "outputs": [],
   "source": [
    "MajMeSHtoProj={}\n",
    "MinMeSHtoProj={}\n",
    "\n",
    "for i in range(len(MesHMaj)):\n",
    "    for j in range(len(MesHMaj[i])):\n",
    "        if MesHMaj[i][j] in MajMeSHtoProj.keys():\n",
    "            MajMeSHtoProj[MesHMaj[i][j]].append(ProjforMeSH[i])\n",
    "        else:\n",
    "             MajMeSHtoProj[MesHMaj[i][j]]=[ProjforMeSH[i]]\n",
    "        for z in MesHMin[i][j]:\n",
    "            if MesHMaj[i][j]+\"_\"+z in MinMeSHtoProj.keys():\n",
    "                MinMeSHtoProj[MesHMaj[i][j]+\"_\"+z].append(ProjforMeSH[i])\n",
    "            else:\n",
    "                MinMeSHtoProj[MesHMaj[i][j]+\"_\"+z]=[ProjforMeSH[i]]"
   ]
  },
  {
   "cell_type": "code",
   "execution_count": 11,
   "metadata": {},
   "outputs": [],
   "source": [
    "def sortbyAbundance(dictionary):\n",
    "    AbKey=[]\n",
    "    for i in dictionary.keys():\n",
    "        AbKey.append(len(dictionary[i]))\n",
    "    return [x for _,x in sorted(zip(AbKey,dictionary.keys()))]"
   ]
  },
  {
   "cell_type": "markdown",
   "metadata": {},
   "source": [
    "#### Abundant Terms Tables"
   ]
  },
  {
   "cell_type": "code",
   "execution_count": 12,
   "metadata": {
    "scrolled": true
   },
   "outputs": [
    {
     "name": "stdout",
     "output_type": "stream",
     "text": [
      "Keywords\tAbundance (Projects)\n",
      "=========================================\n",
      "unclassified sequences\t237\n",
      "ecological metagenomes\t200\n",
      "metagenomes\t192\n",
      "coal metagenome\t126\n",
      "seawater metagenome\t87\n",
      "enriched cells\t74\n",
      "powder river basin\t67\n",
      "organismal metagenomes\t65\n",
      "soil metagenome\t63\n",
      "sorted cell/s\t62\n",
      "sediment metagenome\t45\n",
      "root metagenome\t43\n",
      "peat metagenome\t29\n",
      "metagenome\t28\n",
      "water microbiology\t27\n",
      "uncultured microbe\t26\n",
      "tropical soil microbial communities\t26\n",
      "stable isotope probing\t22\n",
      "plant litter microbial communities\t22\n",
      "marine sediment metagenome\t22\n",
      "plant metagenome\t21\n",
      "unialgal haptophyte culture\t20\n",
      "mixed culture metagenome\t20\n",
      "chrysochromulina tobin\t20\n",
      "metatranscriptome\t19\n",
      "lake water metagenome\t19\n",
      "fjord\t19\n",
      "soil\t18\n",
      "nitrate\t17\n",
      "phosphate\t16\n",
      "leaf litter metagenome\t16\n",
      "peat permafrost microbial communities\t13\n",
      "soil microbial communities\t12\n",
      "feces metagenome\t12\n",
      "marine metagenome\t11\n",
      "seawater microbial communities\t10\n",
      "soil surface biofilm\t9\n",
      "pinus banksiana\t9\n",
      "nitrogen-fixing consortium dg1\t9\n",
      "fungus metagenome\t9\n",
      "static coculture\t8\n",
      "escherichia coli\t8\n",
      "deep sea\t8\n",
      "yellowstone lake\t7\n",
      "symbiotic fungi\t7\n",
      "sediment microbial communities\t7\n",
      "salt marsh sediment microbial communities\t7\n",
      "rhodopseudomonas palustris\t7\n",
      "plum island ecosystem long term ecological research\t7\n",
      "parasitic fungi\t7\n"
     ]
    }
   ],
   "source": [
    "ordered_keywords=sortbyAbundance(kwordtoProj)\n",
    "print(\"Keywords\"+\"\\t\"+\"Abundance (Projects)\")\n",
    "print(\"=========================================\")\n",
    "for i in range(1,51):\n",
    "    print(ordered_keywords[-i]+\"\\t\"+str(len(kwordtoProj[ordered_keywords[-i]])))"
   ]
  },
  {
   "cell_type": "code",
   "execution_count": 13,
   "metadata": {},
   "outputs": [
    {
     "ename": "NameError",
     "evalue": "name 'MajMeSHtoProj' is not defined",
     "output_type": "error",
     "traceback": [
      "\u001b[1;31m---------------------------------------------------------------------------\u001b[0m",
      "\u001b[1;31mNameError\u001b[0m                                 Traceback (most recent call last)",
      "\u001b[1;32m<ipython-input-13-ce8dc320baeb>\u001b[0m in \u001b[0;36m<module>\u001b[1;34m\u001b[0m\n\u001b[1;32m----> 1\u001b[1;33m \u001b[0mordered_MajMesh\u001b[0m\u001b[1;33m=\u001b[0m\u001b[0msortbyAbundance\u001b[0m\u001b[1;33m(\u001b[0m\u001b[0mMajMeSHtoProj\u001b[0m\u001b[1;33m)\u001b[0m\u001b[1;33m\u001b[0m\u001b[1;33m\u001b[0m\u001b[0m\n\u001b[0m\u001b[0;32m      2\u001b[0m \u001b[0mprint\u001b[0m\u001b[1;33m(\u001b[0m\u001b[1;34m\"Major MeSH\"\u001b[0m\u001b[1;33m+\u001b[0m\u001b[1;34m\"\\t\"\u001b[0m\u001b[1;33m+\u001b[0m\u001b[1;34m\"Abundance (Projects)\"\u001b[0m\u001b[1;33m)\u001b[0m\u001b[1;33m\u001b[0m\u001b[1;33m\u001b[0m\u001b[0m\n\u001b[0;32m      3\u001b[0m \u001b[0mprint\u001b[0m\u001b[1;33m(\u001b[0m\u001b[1;34m\"=========================================\"\u001b[0m\u001b[1;33m)\u001b[0m\u001b[1;33m\u001b[0m\u001b[1;33m\u001b[0m\u001b[0m\n\u001b[0;32m      4\u001b[0m \u001b[1;32mfor\u001b[0m \u001b[0mi\u001b[0m \u001b[1;32min\u001b[0m \u001b[0mrange\u001b[0m\u001b[1;33m(\u001b[0m\u001b[1;36m1\u001b[0m\u001b[1;33m,\u001b[0m\u001b[1;36m11\u001b[0m\u001b[1;33m)\u001b[0m\u001b[1;33m:\u001b[0m\u001b[1;33m\u001b[0m\u001b[1;33m\u001b[0m\u001b[0m\n\u001b[0;32m      5\u001b[0m     \u001b[0mprint\u001b[0m\u001b[1;33m(\u001b[0m\u001b[0mordered_MajMesh\u001b[0m\u001b[1;33m[\u001b[0m\u001b[1;33m-\u001b[0m\u001b[0mi\u001b[0m\u001b[1;33m]\u001b[0m\u001b[1;33m+\u001b[0m\u001b[1;34m\"\\t\"\u001b[0m\u001b[1;33m+\u001b[0m\u001b[0mstr\u001b[0m\u001b[1;33m(\u001b[0m\u001b[0mlen\u001b[0m\u001b[1;33m(\u001b[0m\u001b[0mMajMeSHtoProj\u001b[0m\u001b[1;33m[\u001b[0m\u001b[0mordered_MajMesh\u001b[0m\u001b[1;33m[\u001b[0m\u001b[1;33m-\u001b[0m\u001b[0mi\u001b[0m\u001b[1;33m]\u001b[0m\u001b[1;33m]\u001b[0m\u001b[1;33m)\u001b[0m\u001b[1;33m)\u001b[0m\u001b[1;33m)\u001b[0m\u001b[1;33m\u001b[0m\u001b[1;33m\u001b[0m\u001b[0m\n",
      "\u001b[1;31mNameError\u001b[0m: name 'MajMeSHtoProj' is not defined"
     ]
    }
   ],
   "source": [
    "ordered_MajMesh=sortbyAbundance(MajMeSHtoProj)\n",
    "print(\"Major MeSH\"+\"\\t\"+\"Abundance (Projects)\")\n",
    "print(\"=========================================\")\n",
    "for i in range(1,11):\n",
    "    print(ordered_MajMesh[-i]+\"\\t\"+str(len(MajMeSHtoProj[ordered_MajMesh[-i]])))"
   ]
  },
  {
   "cell_type": "code",
   "execution_count": 12,
   "metadata": {},
   "outputs": [
    {
     "name": "stdout",
     "output_type": "stream",
     "text": [
      "Minor_MeSH\tAbundance (Projects)\n",
      "=========================================\n",
      "RNA, Ribosomal, 16S_genetics\t8\n",
      "Bacteria_classification\t6\n",
      "Microbiota_genetics\t5\n",
      "Bacteria_isolation &amp\t4\n",
      "Bacteria_ purification\t4\n",
      "Gastrointestinal Microbiome_drug effects\t3\n",
      "DNA, Bacterial_genetics\t3\n",
      "Bacteria_genetics\t3\n",
      "Water Pollutants, Chemical_analysis\t2\n",
      "Waste Water_microbiology\t2\n"
     ]
    }
   ],
   "source": [
    "ordered_MinMesh=sortbyAbundance(MinMeSHtoProj)\n",
    "print(\"Minor_MeSH\"+\"\\t\"+\"Abundance (Projects)\")\n",
    "print(\"=========================================\")\n",
    "for i in range(1,11):\n",
    "    print(ordered_MinMesh[-i]+\"\\t\"+str(len(MinMeSHtoProj[ordered_MinMesh[-i]])))"
   ]
  },
  {
   "cell_type": "markdown",
   "metadata": {},
   "source": [
    "#### Search abstracts for keywords"
   ]
  },
  {
   "cell_type": "code",
   "execution_count": 15,
   "metadata": {},
   "outputs": [],
   "source": [
    "abst=open(\"Abstracts.csv\",\"r\",encoding=\"utf-8\")\n",
    "\n",
    "while True:\n",
    "    line = abst.readline()\n",
    "    if line is None or line=='':\n",
    "        break\n",
    "    else:\n",
    "        if \"PRJNA\" in line:\n",
    "            line=line.strip(\"\\n\").split(\"PRJNA\")\n",
    "            projectID=\"PRJNA\"+line[1].split(\",\")[0].split(\";\")[0].split(\".pdf\")[0].split(\")\")[0]\n",
    "            if projectID in projects:\n",
    "                #print(line[1])\n",
    "                try:\n",
    "                    text=line[1].split('\"')[-2]\n",
    "                    while '\"' not in text:\n",
    "                        for j in kwordtoProj.keys():\n",
    "                            if j in text.lower() and projectID not in kwordtoProj[j]:\n",
    "                                kwordtoProj[j].append(projectID)\n",
    "                        text=abst.readline().strip(\"\\n\")\n",
    "                except IndexError:\n",
    "                    text=line[1].split(',')[-1]\n",
    "                    for j in kwordtoProj.keys():\n",
    "                            if j in text.lower() and projectID not in kwordtoProj[j]:\n",
    "                                kwordtoProj[j].append(projectID)\n",
    "abst.close()"
   ]
  },
  {
   "cell_type": "code",
   "execution_count": 16,
   "metadata": {
    "scrolled": true
   },
   "outputs": [
    {
     "name": "stdout",
     "output_type": "stream",
     "text": [
      "Keywords\tAbundance (Projects)\n",
      "=========================================\n",
      "unclassified sequences\t237\n",
      "ecological metagenomes\t200\n",
      "metagenomes\t195\n",
      "coal metagenome\t126\n",
      "coal bed\t90\n",
      "seawater metagenome\t87\n",
      "metatranscriptome\t78\n",
      "age\t76\n",
      "enriched cells\t74\n",
      "soil\t73\n",
      "powder river basin\t72\n",
      "organismal metagenomes\t65\n",
      "soil metagenome\t63\n",
      "sorted cell/s\t62\n",
      "microbiome\t59\n",
      "metagenome\t56\n",
      "sediment metagenome\t46\n",
      "soil microbial communities\t43\n",
      "root metagenome\t43\n",
      "sequencing\t40\n",
      "fungi\t35\n",
      "diversity\t33\n",
      "16s\t33\n",
      "16s rrna\t30\n",
      "peat metagenome\t29\n",
      "pathogen\t28\n",
      "bat\t28\n",
      "water microbiology\t27\n",
      "nitrate\t27\n",
      "dna\t27\n",
      "uncultured microbe\t26\n",
      "tropical soil microbial communities\t26\n",
      "ngs\t25\n",
      "microbiota\t25\n",
      "archaea\t25\n",
      "stable isotope probing\t22\n",
      "plant litter microbial communities\t22\n",
      "marine sediment metagenome\t22\n",
      "plant metagenome\t21\n",
      "metabolism\t21\n",
      "unialgal haptophyte culture\t20\n",
      "mixed culture metagenome\t20\n",
      "gut\t20\n",
      "chrysochromulina tobin\t20\n",
      "lake water metagenome\t19\n",
      "fjord\t19\n",
      "seawater microbial communities\t18\n",
      "endophytes\t18\n",
      "east loma ridge\t18\n",
      "symbiosis\t17\n"
     ]
    }
   ],
   "source": [
    "ordered_keywords=sortbyAbundance(kwordtoProj)\n",
    "print(\"Keywords\"+\"\\t\"+\"Abundance (Projects)\")\n",
    "print(\"=========================================\")\n",
    "for i in range(1,51):\n",
    "    print(ordered_keywords[-i]+\"\\t\"+str(len(kwordtoProj[ordered_keywords[-i]])))"
   ]
  },
  {
   "cell_type": "markdown",
   "metadata": {},
   "source": [
    "#### Consolidate keywords by presence of specific words"
   ]
  },
  {
   "cell_type": "code",
   "execution_count": 40,
   "metadata": {},
   "outputs": [],
   "source": [
    "def getTerms(words,Dict):\n",
    "    MatchWords=[]\n",
    "    for j in range(len(words)):\n",
    "        MatchWords.append([])\n",
    "    for i in Dict.keys():\n",
    "        for j in range(len(words)):\n",
    "            if words[j] in i:\n",
    "                MatchWords[j].append(i)                \n",
    "    return MatchWords"
   ]
  },
  {
   "cell_type": "code",
   "execution_count": 41,
   "metadata": {},
   "outputs": [
    {
     "data": {
      "text/plain": [
       "[['seawater metagenome',\n",
       "  'seawater microbial communities',\n",
       "  'seawater viral communities'],\n",
       " ['invertebrate gut metagenome',\n",
       "  'human gut metagenome',\n",
       "  'gut microbiome',\n",
       "  'gut metagenome',\n",
       "  'mouse gut metagenome',\n",
       "  'gut microbiota',\n",
       "  'chicken gut microbiota',\n",
       "  'gut metabolites',\n",
       "  'fish gut metagenomes',\n",
       "  'gut',\n",
       "  'bovine gut metagenome',\n",
       "  'insect gut metagenome',\n",
       "  'sheep gut metagenome']]"
      ]
     },
     "execution_count": 41,
     "metadata": {},
     "output_type": "execute_result"
    }
   ],
   "source": [
    "getTerms([\"seawater\",\"gut\"],kwordtoProj)"
   ]
  },
  {
   "cell_type": "code",
   "execution_count": 42,
   "metadata": {},
   "outputs": [],
   "source": [
    "def consolidateTerms(words,Dict):\n",
    "    newDict={}\n",
    "    for i in words:\n",
    "        newDict[i]=[]\n",
    "    for i in Dict.keys():\n",
    "        found=0\n",
    "        for j in words:\n",
    "            if j in i:\n",
    "                newDict[j].extend(Dict[i])\n",
    "                found=1\n",
    "        if found==0:\n",
    "            newDict[i]=Dict[i]\n",
    "    return newDict"
   ]
  },
  {
   "cell_type": "code",
   "execution_count": 43,
   "metadata": {},
   "outputs": [],
   "source": [
    "conskey=consolidateTerms([\"seawater\",\"gut\"],kwordtoProj)"
   ]
  },
  {
   "cell_type": "code",
   "execution_count": 44,
   "metadata": {
    "scrolled": true
   },
   "outputs": [
    {
     "name": "stdout",
     "output_type": "stream",
     "text": [
      "Consolidated Keywords\tAbundance (Projects)\n",
      "=========================================\n",
      "unclassified sequences\t237\n",
      "ecological metagenomes\t200\n",
      "metagenomes\t195\n",
      "coal metagenome\t126\n",
      "seawater\t110\n",
      "coal bed\t90\n",
      "metatranscriptome\t78\n",
      "age\t76\n",
      "enriched cells\t74\n",
      "soil\t73\n",
      "powder river basin\t72\n",
      "organismal metagenomes\t65\n",
      "gut\t65\n",
      "soil metagenome\t63\n",
      "sorted cell/s\t62\n",
      "microbiome\t59\n",
      "metagenome\t56\n",
      "sediment metagenome\t46\n",
      "soil microbial communities\t43\n",
      "root metagenome\t43\n",
      "sequencing\t40\n",
      "fungi\t35\n",
      "diversity\t33\n",
      "16s\t33\n",
      "16s rrna\t30\n",
      "peat metagenome\t29\n",
      "pathogen\t28\n",
      "bat\t28\n",
      "water microbiology\t27\n",
      "nitrate\t27\n",
      "dna\t27\n",
      "uncultured microbe\t26\n",
      "tropical soil microbial communities\t26\n",
      "ngs\t25\n",
      "microbiota\t25\n",
      "archaea\t25\n",
      "stable isotope probing\t22\n",
      "plant litter microbial communities\t22\n",
      "marine sediment metagenome\t22\n",
      "plant metagenome\t21\n",
      "metabolism\t21\n",
      "unialgal haptophyte culture\t20\n",
      "mixed culture metagenome\t20\n",
      "chrysochromulina tobin\t20\n",
      "lake water metagenome\t19\n",
      "fjord\t19\n",
      "endophytes\t18\n",
      "east loma ridge\t18\n",
      "symbiosis\t17\n",
      "sediment microbial communities\t17\n"
     ]
    }
   ],
   "source": [
    "ordered_keywords=sortbyAbundance(conskey)\n",
    "print(\"Consolidated Keywords\"+\"\\t\"+\"Abundance (Projects)\")\n",
    "print(\"=========================================\")\n",
    "for i in range(1,51):\n",
    "    print(ordered_keywords[-i]+\"\\t\"+str(len(conskey[ordered_keywords[-i]])))"
   ]
  },
  {
   "cell_type": "markdown",
   "metadata": {},
   "source": [
    "#### Modify Color Scheme based on given Keywords/MeSH Terms"
   ]
  },
  {
   "cell_type": "code",
   "execution_count": 19,
   "metadata": {},
   "outputs": [],
   "source": [
    "def change_col(dictOne,words,all_col=0):\n",
    "    colmap={}\n",
    "    z=20\n",
    "    for j in words:\n",
    "        colmap[j]=z\n",
    "        z+=10\n",
    "    new_cols=[]\n",
    "    for i in range(len(col)):\n",
    "        proj=projects[col[i]]\n",
    "        if all_col==1:\n",
    "            this_col=0\n",
    "            for j in words:\n",
    "                if proj in dictOne[j]:\n",
    "                    this_col+=colmap[j]\n",
    "            new_cols.append(this_col)\n",
    "        else:\n",
    "            found=0\n",
    "            for j in words:\n",
    "                if proj in dictOne[j]:\n",
    "                    new_cols.append(colmap[j])\n",
    "                    found=1\n",
    "                    break\n",
    "            if found==0:\n",
    "                new_cols.append(2)\n",
    "                \n",
    "    return new_cols,colmap"
   ]
  },
  {
   "cell_type": "code",
   "execution_count": 48,
   "metadata": {},
   "outputs": [],
   "source": [
    "ncol,thisColMap=change_col(kwordtoProj,[\"gut microbiome\",\"mechanism\",\"pathogen\",\"bacterial communities\",\"viral\",\"nitrogen-fixing consortium dg1\",\"soil surface biofilm\",\"plant litter microbial communities\",\"chrysochromulina tobin\",\"mixed culture metagenome\"],0)"
   ]
  },
  {
   "cell_type": "code",
   "execution_count": 49,
   "metadata": {},
   "outputs": [
    {
     "data": {
      "text/plain": [
       "{'gut microbiome': 20,\n",
       " 'mechanism': 30,\n",
       " 'pathogen': 40,\n",
       " 'bacterial communities': 50,\n",
       " 'viral': 60,\n",
       " 'nitrogen-fixing consortium dg1': 70,\n",
       " 'soil surface biofilm': 80,\n",
       " 'plant litter microbial communities': 90,\n",
       " 'chrysochromulina tobin': 100,\n",
       " 'mixed culture metagenome': 110}"
      ]
     },
     "execution_count": 49,
     "metadata": {},
     "output_type": "execute_result"
    }
   ],
   "source": [
    "thisColMap"
   ]
  },
  {
   "cell_type": "markdown",
   "metadata": {},
   "source": [
    "#### UMAP"
   ]
  },
  {
   "cell_type": "code",
   "execution_count": 50,
   "metadata": {},
   "outputs": [
    {
     "name": "stderr",
     "output_type": "stream",
     "text": [
      "C:\\Users\\jlego\\anaconda3\\lib\\site-packages\\umap\\umap_.py:1503: UserWarning: using precomputed metric; transform will be unavailable for new data and inverse_transform will be unavailable for all data\n",
      "  warn(\n"
     ]
    }
   ],
   "source": [
    "fit = umap.UMAP(n_components=2,metric=\"precomputed\")\n",
    "u = fit.fit_transform(distances)"
   ]
  },
  {
   "cell_type": "code",
   "execution_count": 51,
   "metadata": {},
   "outputs": [
    {
     "data": {
      "image/png": "[encoded data removed]",
      "text/plain": [
       "<Figure size 1440x720 with 2 Axes>"
      ]
     },
     "metadata": {
      "needs_background": "light"
     },
     "output_type": "display_data"
    }
   ],
   "source": [
    "#scatter(u[:,0],u[:,1],s=2,c=col,cmap=\"hsv\")\n",
    "scatter(u[:,0],u[:,1],s=ncol,c=ncol,cmap=\"tab20c\")\n",
    "colorbar()\n",
    "title(\"UMAP Representation\",fontsize=15)\n",
    "xlabel(\"Component 1\",fontsize=15)\n",
    "ylabel(\"Component 2\",fontsize=15)\n",
    "figsize(20,10)"
   ]
  },
  {
   "cell_type": "markdown",
   "metadata": {},
   "source": [
    "#### dbGAP"
   ]
  },
  {
   "cell_type": "code",
   "execution_count": 66,
   "metadata": {},
   "outputs": [],
   "source": [
    "from sklearn.cluster import DBSCAN\n",
    "dbg=DBSCAN(eps=0.15,metric=\"precomputed\",min_samples=5).fit(distances)"
   ]
  },
  {
   "cell_type": "code",
   "execution_count": 67,
   "metadata": {},
   "outputs": [
    {
     "data": {
      "text/plain": [
       "array([ 0,  1,  1,  2,  2,  2,  2, -1, -1, -1, -1,  2,  2,  2,  2,  2, -1,\n",
       "       -1, -1,  3,  3,  3,  3,  3,  3,  3,  4,  4, -1, -1,  5,  5,  5,  5,\n",
       "       -1,  5,  5,  5, -1, -1, -1, -1, -1,  1,  3,  2,  2,  2,  2,  2, -1,\n",
       "       -1, -1, -1,  6,  6,  6,  6,  6, -1,  7,  7,  7,  7,  7,  7,  7,  2,\n",
       "        2,  2,  2,  2,  2,  2,  2,  2,  2,  2,  2,  2,  8,  8,  8,  8,  8,\n",
       "        8,  8, -1,  2,  2,  2,  2,  2,  2,  2,  2,  2,  2,  2,  2,  2, -1,\n",
       "       -1, -1, -1, -1, -1,  2,  1,  1,  1,  8,  8,  8,  8,  8,  8,  2,  2,\n",
       "        2,  2,  1, -1,  2,  2,  2,  2,  2,  2,  2,  2,  2,  2,  2,  2,  2,\n",
       "        2,  2,  2,  2,  9,  9,  9,  9,  9,  2,  2, -1, -1,  1,  1, 10, 10,\n",
       "       10, 10, 10, 10, 10,  4,  7,  7,  7, -1, -1,  9, -1, -1,  4,  4,  4,\n",
       "        4,  4, 11, 11, 11, 11, 11,  2, 12, 12, 12, 12, 12, 12, 12, 12, 12,\n",
       "       12, 12, 12, 12, 12, 12, 12, 12, 12,  8,  8,  8,  8,  8,  8,  8,  8,\n",
       "        8, -1, -1,  1,  1,  2,  1,  1,  1,  1,  1,  1,  1,  1,  1,  2,  2,\n",
       "        2,  2,  2,  2,  2,  2,  1,  2,  2,  2,  4, -1,  1,  1,  1,  1, 13,\n",
       "       13, 13, 13, 13,  7,  7,  2,  1,  1,  2,  2,  2,  2,  1,  1,  1,  1,\n",
       "        2,  2,  2,  1, -1, -1, -1, -1,  1,  2,  2,  2,  2,  1,  1,  1,  1,\n",
       "        1,  1,  1,  1,  1,  1,  1,  1,  1,  1, -1,  2,  2,  2,  2,  2,  2,\n",
       "        2,  2,  2,  2,  2,  2,  2,  2,  2,  2,  2,  2,  2,  2,  2,  2,  2,\n",
       "        2,  2,  2,  2,  2,  2,  2,  2, -1, -1, -1, -1,  2,  2,  2,  2,  2,\n",
       "        2, -1,  2,  2,  2,  2,  2,  2,  2,  2,  2,  2,  2,  2,  2,  2,  2,\n",
       "        2,  2,  2,  2,  2,  2,  2,  2,  2,  2,  2,  2,  2,  2,  2,  2,  2,\n",
       "        2,  2,  2, 14, 14, 14, 14, 14, 14,  2,  2,  2,  2,  2,  2,  2,  2,\n",
       "        2,  2,  2,  2,  2,  2,  2,  2,  2,  2,  2,  2,  2,  2, -1, -1, -1,\n",
       "        2,  2,  2, -1,  2,  2,  8,  2,  2,  2,  2,  2,  2,  2,  2,  2,  2,\n",
       "        2,  2,  2, -1,  2,  2,  2,  2,  2,  2, -1,  2,  2,  2,  2,  2,  2,\n",
       "        2,  2,  2,  2,  2,  2,  2,  2,  2,  2, -1, -1,  2, -1,  2, 17, -1,\n",
       "        2,  2,  2,  2,  2, -1,  1,  1,  2,  2,  2,  1,  1,  2, 10, 10, 10,\n",
       "       10, 10, 10, 10,  4,  4,  4, -1,  2,  2,  2,  4,  4,  4,  4,  4,  4,\n",
       "        4,  4,  4, -1,  4, -1,  1,  1,  1, 15, 15, 15, 15, 15, 15, 15, 15,\n",
       "        2,  2,  2,  2,  2, 15, 15, 15, 15, 15, -1, 13,  1,  7,  7,  7,  1,\n",
       "       16, 16, 16, 16, 16, 16,  1,  1, -1, -1,  1,  1,  1, 17, 17, 17, 17,\n",
       "       17, 17, 17, -1, -1, -1, -1, -1, -1, -1, -1,  2,  2,  2,  2,  2,  2,\n",
       "        2, -1, -1, -1, -1, -1, -1, -1, -1, -1, -1, -1, -1, -1, -1, -1, -1,\n",
       "       -1, -1, -1, -1, -1, 18, 18, 18, 18, 18, 18, 18, -1, -1,  8,  8,  8,\n",
       "        8,  8,  8, -1, -1, -1, -1,  2,  2,  2,  2,  2,  2,  2,  2, -1, -1,\n",
       "       -1, -1, -1, -1, -1, -1, -1, -1,  2,  2,  2,  2,  2, -1,  2, -1, 19,\n",
       "       19, 19, 19, 19,  1, -1, -1,  2,  2,  2,  2,  2, -1, -1, -1,  2,  2,\n",
       "        2,  8,  8,  8,  8,  8,  8, 20, 20, 20, 20, 20,  1,  1,  1,  1,  1,\n",
       "        1,  2,  2,  2,  2,  2,  2,  2,  2,  2, 21,  2,  2,  2, 21, 21,  2,\n",
       "        2,  2,  2,  2,  2, -1, -1,  2, 21,  2, 21,  2,  2,  2,  2, -1,  2,\n",
       "        2,  2,  2,  2,  2,  8,  8,  2,  2,  2,  2,  2,  2,  2,  1, -1,  2,\n",
       "        2, -1, -1,  2,  2,  2, -1, 22, 22, 22, 22, 22,  2,  2,  2,  2,  2,\n",
       "        2,  2, 23, 23, 23,  2, 23, 23,  2,  2,  2,  2,  2,  2,  2,  2,  2,\n",
       "        2,  2,  2,  2,  2,  2,  2, -1, -1,  2,  2,  2,  2,  2,  2,  2,  2,\n",
       "        2,  2, -1, -1,  8,  8,  8,  8,  8,  8,  8,  2,  2,  2, 24, 24, 24,\n",
       "       -1, -1, -1, 25, 24, 24, 24, 24, 24, 24, 24, 24, 24, 24, 24, 24, 26,\n",
       "       26, 26, 26, 26, 26, 26, 26, 26, 26, 26, 26, 26, 24, 24, 24, 24, 24,\n",
       "       24, 24, 24, 24, 24, 24,  2,  2,  2, 24, 24, 24, 24, 24, 24, 24, 24,\n",
       "       24, 24, 24,  1, -1,  2,  2,  2,  2,  2,  2,  2,  2, -1, 27, 27, 27,\n",
       "       27, 27, -1, -1, -1, -1, -1, -1,  2,  2,  2,  2,  2,  2,  2,  2,  2,\n",
       "        2,  2,  2,  2,  2, -1,  8,  8,  8,  2,  2,  2,  2,  2,  2,  2,  2,\n",
       "        2,  2,  2,  2,  2,  2, -1, -1, -1, -1, -1, -1, -1, -1, -1, -1, -1,\n",
       "       -1, 28,  4,  4,  4,  4,  4,  4,  4, 28, 28, 28, 28, 28, 28, 28,  0,\n",
       "        0,  0,  0,  0,  0,  0,  0,  1,  1,  1,  1,  1,  1, 29, 29, 29, 29,\n",
       "       29, 25, 25, 25, 25, 24, 24, 24, 26, 26, 24, 24, 24, 24, 24, 24, 24,\n",
       "       24, 24, 24, 24, 24, 24, 24, 24, 24, 24, 24, 24, 24, 24, 24, 24,  1,\n",
       "        1,  1,  1,  1,  1,  1,  1,  1,  1,  1,  1,  1,  1,  1,  1],\n",
       "      dtype=int64)"
      ]
     },
     "execution_count": 67,
     "metadata": {},
     "output_type": "execute_result"
    }
   ],
   "source": [
    "dbg.labels_"
   ]
  },
  {
   "cell_type": "code",
   "execution_count": 68,
   "metadata": {},
   "outputs": [],
   "source": [
    "dbscanCols=[]\n",
    "for i in dbg.labels_:\n",
    "    if i==-1:\n",
    "        dbscanCols.append(0)\n",
    "    elif i==0:\n",
    "        dbscanCols.append(25*10)\n",
    "    else:\n",
    "        if (i+1)%2==0:\n",
    "            dbscanCols.append((i+1)*10)\n",
    "        else:\n",
    "            dbscanCols.append((i+1)*-10)"
   ]
  },
  {
   "cell_type": "code",
   "execution_count": 69,
   "metadata": {},
   "outputs": [
    {
     "data": {
      "image/png": "[encoded data removed]",
      "text/plain": [
       "<Figure size 720x720 with 2 Axes>"
      ]
     },
     "metadata": {
      "needs_background": "light"
     },
     "output_type": "display_data"
    }
   ],
   "source": [
    "scatter(u[:,0],u[:,1],s=5,c=dbscanCols,cmap=\"tab20c\")\n",
    "colorbar()\n",
    "title(\"UMAP Representation\",fontsize=15)\n",
    "xlabel(\"Component 1\",fontsize=15)\n",
    "ylabel(\"Component 2\",fontsize=15)\n",
    "figsize(10,10)"
   ]
  },
  {
   "cell_type": "markdown",
   "metadata": {},
   "source": [
    "#### Mash Distance Analysis (All BioProjects)"
   ]
  },
  {
   "cell_type": "code",
   "execution_count": 29,
   "metadata": {},
   "outputs": [],
   "source": [
    "group_distances=[]\n",
    "diff_distances=[]\n",
    "\n",
    "for i in range(1,distances.shape[0]):\n",
    "    for j in range(0,i):\n",
    "        if col[i]==col[j]:\n",
    "            #if distances[i,j]==1.0:\n",
    "                #print(i)\n",
    "                #print(j)\n",
    "                #print(\"===\")\n",
    "            group_distances.append(distances[i,j])\n",
    "        else:\n",
    "            #if distances[i,j]<0.1:\n",
    "                #print(i)\n",
    "                #print(j)\n",
    "                #print(\"===\")\n",
    "            diff_distances.append(distances[i,j])"
   ]
  },
  {
   "cell_type": "code",
   "execution_count": 30,
   "metadata": {},
   "outputs": [
    {
     "data": {
      "text/plain": [
       "<matplotlib.legend.Legend at 0x20d09aa7af0>"
      ]
     },
     "execution_count": 30,
     "metadata": {},
     "output_type": "execute_result"
    },
    {
     "data": {
      "image/png": "[encoded data removed]",
      "text/plain": [
       "<Figure size 1440x720 with 1 Axes>"
      ]
     },
     "metadata": {
      "needs_background": "light"
     },
     "output_type": "display_data"
    }
   ],
   "source": [
    "hist(group_distances,histtype='bar',label=\"Same\", density=True)\n",
    "hist(diff_distances,histtype='step',label=\"Diff\", density=True)\n",
    "title(\"Mash Distance Distribution (Same vs Different BioProject)\", fontsize=20)\n",
    "legend(prop={'size': 20})"
   ]
  },
  {
   "cell_type": "code",
   "execution_count": 31,
   "metadata": {},
   "outputs": [
    {
     "name": "stdout",
     "output_type": "stream",
     "text": [
      "RanksumsResult(statistic=-98.18862897166156, pvalue=0.0)\n",
      "KstestResult(statistic=0.8368871504545193, pvalue=0.0)\n"
     ]
    }
   ],
   "source": [
    "from scipy.stats import ranksums,kstest\n",
    "\n",
    "print(ranksums(group_distances,diff_distances))\n",
    "\n",
    "print(kstest(group_distances,diff_distances))"
   ]
  },
  {
   "cell_type": "markdown",
   "metadata": {},
   "source": [
    "#### Mash Distance Analysis (Keywords/MeSH Terms)"
   ]
  },
  {
   "cell_type": "code",
   "execution_count": 34,
   "metadata": {},
   "outputs": [],
   "source": [
    "group_distances=[]\n",
    "diff_distances=[]\n",
    "\n",
    "for i in range(1,distances.shape[0]):\n",
    "    for j in range(0,i):\n",
    "        if ncol[i]==ncol[j]:\n",
    "            #if distances[i,j]==1.0:\n",
    "                #print(i)\n",
    "                #print(j)\n",
    "                #print(\"===\")\n",
    "            group_distances.append(distances[i,j])\n",
    "        else:\n",
    "            #if distances[i,j]<0.1:\n",
    "                #print(i)\n",
    "                #print(j)\n",
    "                #print(\"===\")\n",
    "            diff_distances.append(distances[i,j])"
   ]
  },
  {
   "cell_type": "code",
   "execution_count": 35,
   "metadata": {},
   "outputs": [
    {
     "data": {
      "text/plain": [
       "<matplotlib.legend.Legend at 0x21f177d46d0>"
      ]
     },
     "execution_count": 35,
     "metadata": {},
     "output_type": "execute_result"
    },
    {
     "data": {
      "image/png": "[encoded data removed]",
      "text/plain": [
       "<Figure size 720x720 with 1 Axes>"
      ]
     },
     "metadata": {
      "needs_background": "light"
     },
     "output_type": "display_data"
    }
   ],
   "source": [
    "hist(group_distances,histtype='bar',label=\"Same\", density=True)\n",
    "hist(diff_distances,histtype='step',label=\"Diff\", density=True)\n",
    "title(\"Mash Distance Distribution (Within Terms vs Between Terms)\", fontsize=20)\n",
    "legend(prop={'size': 20})"
   ]
  },
  {
   "cell_type": "code",
   "execution_count": 36,
   "metadata": {},
   "outputs": [
    {
     "name": "stdout",
     "output_type": "stream",
     "text": [
      "RanksumsResult(statistic=-11.084708783413681, pvalue=1.4883393170118953e-28)\n",
      "KstestResult(statistic=0.027448891609998527, pvalue=8.373346230555058e-71)\n"
     ]
    }
   ],
   "source": [
    "from scipy.stats import ranksums,kstest\n",
    "\n",
    "print(ranksums(group_distances,diff_distances))\n",
    "\n",
    "print(kstest(group_distances,diff_distances))"
   ]
  },
  {
   "cell_type": "markdown",
   "metadata": {},
   "source": [
    "#### Test for Significant Differences in Clustering for Keywords"
   ]
  },
  {
   "cell_type": "code",
   "execution_count": 20,
   "metadata": {},
   "outputs": [],
   "source": [
    "import statistics \n",
    "import random\n",
    "def aleatorizationForTerms(dist,times,labels):\n",
    "    differences=[]\n",
    "    newlabels=labels\n",
    "    for i in range(0,times):\n",
    "        random.shuffle(newlabels)\n",
    "        group_distances=[]\n",
    "        diff_distances=[]\n",
    "\n",
    "        for i in range(1,dist.shape[0]):\n",
    "            for j in range(0,i):\n",
    "                if newlabels[i]==newlabels[j]:\n",
    "                    group_distances.append(dist[i,j])\n",
    "                else:\n",
    "                    diff_distances.append(dist[i,j])\n",
    "        differences.append(statistics.median(diff_distances)-statistics.median(group_distances))\n",
    "    differences.sort()\n",
    "    return differences"
   ]
  },
  {
   "cell_type": "code",
   "execution_count": null,
   "metadata": {
    "scrolled": true
   },
   "outputs": [
    {
     "name": "stdout",
     "output_type": "stream",
     "text": [
      "microbiota\n",
      "ophiocordyceps\n",
      "cicadas\n",
      "parasitic fungi\n",
      "symbiotic fungi\n",
      "16s rrna\n",
      "microbiome\n",
      "unclassified sequences\n",
      "metagenome\n",
      "organismal metagenomes\n",
      "root metagenome\n",
      "archaea\n",
      "ecological metagenomes\n",
      "soil metagenome\n",
      "human gut metagenome\n",
      "seawater metagenome\n",
      "gut microbiome\n",
      "gut microbiome\t11\n",
      "endophytes\n",
      "ngs\n",
      "diet\n",
      "metagenomic sequencing\n",
      "methane production\n",
      "metagenomes\n",
      "dna\n",
      "rhizosphere\n",
      "greenhouse\n",
      "rhizosphere metagenome\n",
      "mercury\n",
      "chicken\n",
      "gut microbiota\n",
      "marine metagenome\n",
      "16s\n",
      "sediment metagenome\n",
      "age\n",
      "bacterial diversity\n",
      "edna\n",
      "rhodopseudomonas palustris\n",
      "escherichia coli\n",
      "static coculture\n",
      "diversity\n",
      "lake water metagenome\n",
      "mechanism\n",
      "mechanism\t6\n",
      "feces metagenome\n",
      "ammonia\n",
      "metatranscriptome\n",
      "pinus banksiana\n",
      "aeciospores\n",
      "endocronartium harknessii\n",
      "salt marsh\n",
      "fungus metagenome\n",
      "cenococcum\n",
      "lateral roots\n",
      "mycorrhiza\n",
      "plant metagenome\n",
      "bat\n",
      "bat\t28\n",
      "metagenomic\n",
      "sequencing\n",
      "illumina\n",
      "pathogen\n",
      "hot springs metagenome\n",
      "fungi\n",
      "metabolism\n",
      "bacterial communities\n",
      "bacterial communities\t10\n",
      "viral\n",
      "gut\n",
      "marine sediment metagenome\n",
      "coal metagenome\n",
      "peat metagenome\n",
      "shoot metagenome\n",
      "phosphate\n",
      "nitrate\n",
      "fjord\n",
      "metagenomics\n",
      "symbiosis\n",
      "nitrogen-fixing consortium dg1\n",
      "nitrogen-fixing consortium dg1\t11\n",
      "soil surface biofilm\n",
      "soil surface biofilm\t11\n",
      "water microbiology\n",
      "soil\n",
      "deep sea\n",
      "infection\n",
      "marine microbial communities\n",
      "western arctic ocean\n"
     ]
    }
   ],
   "source": [
    "from scipy.stats import ranksums,kstest\n",
    "significant=[]\n",
    "abSignificant=[]\n",
    "abundance=[]\n",
    "for term in kwordtoProj.keys():\n",
    "    abundance.append(len(kwordtoProj[term]))\n",
    "    if len(kwordtoProj[term])<5:\n",
    "        continue\n",
    "    print(term)\n",
    "    ncol,thisColMap=change_col(kwordtoProj,[term],0)\n",
    "    group_distances=[]\n",
    "    diff_distances=[]\n",
    "\n",
    "    for i in range(1,distances.shape[0]):\n",
    "        for j in range(0,i):\n",
    "            if ncol[i]==ncol[j]:\n",
    "                group_distances.append(distances[i,j])\n",
    "            else:\n",
    "                diff_distances.append(distances[i,j])\n",
    "    a,b=ranksums(group_distances,diff_distances)\n",
    "    c,d=kstest(group_distances,diff_distances)\n",
    "    actual_diff=statistics.median(diff_distances)-statistics.median(group_distances)\n",
    "    Randdiff=aleatorizationForTerms(distances,1000,ncol)\n",
    "    SignPos=int((len(Randdiff)*0.01))\n",
    "    if b<0.01/(2*len(kwordtoProj)) and d<0.01/(2*len(kwordtoProj)) and Randdiff[SignPos]>actual_diff:\n",
    "        abSignificant.append(len(kwordtoProj[term]))\n",
    "        significant.append(term)\n",
    "        print(term+\"\\t\"+str(len(kwordtoProj[term])))"
   ]
  },
  {
   "cell_type": "code",
   "execution_count": 27,
   "metadata": {},
   "outputs": [
    {
     "data": {
      "text/plain": [
       "Text(0, 0.5, 'Frequency')"
      ]
     },
     "execution_count": 27,
     "metadata": {},
     "output_type": "execute_result"
    },
    {
     "data": {
      "image/png": "[encoded data removed]",
      "text/plain": [
       "<Figure size 432x288 with 1 Axes>"
      ]
     },
     "metadata": {
      "needs_background": "light"
     },
     "output_type": "display_data"
    }
   ],
   "source": [
    "hist(abundance,histtype='bar', density=False,bins=30,)\n",
    "title(\"Keyword Abundance Distribution\")\n",
    "xlabel(\"Abundance in Samples\")\n",
    "ylabel(\"Frequency\")"
   ]
  },
  {
   "cell_type": "code",
   "execution_count": 52,
   "metadata": {},
   "outputs": [],
   "source": [
    "abMeSH=[]\n",
    "for i in MajMeSHtoProj.keys():\n",
    "    abMeSH.append(len(MajMeSHtoProj[i]))"
   ]
  },
  {
   "cell_type": "code",
   "execution_count": 59,
   "metadata": {},
   "outputs": [
    {
     "data": {
      "text/plain": [
       "Text(0, 0.5, 'Frequency')"
      ]
     },
     "execution_count": 59,
     "metadata": {},
     "output_type": "execute_result"
    },
    {
     "data": {
      "image/png": "[encoded data removed]",
      "text/plain": [
       "<Figure size 432x288 with 1 Axes>"
      ]
     },
     "metadata": {
      "needs_background": "light"
     },
     "output_type": "display_data"
    }
   ],
   "source": [
    "hist(abMeSH,histtype='bar', density=False,bins=30,)\n",
    "title(\"MeSH Abundance Distribution\")\n",
    "xlabel(\"Abundance in Samples\")\n",
    "ylabel(\"Frequency\")"
   ]
  },
  {
   "cell_type": "markdown",
   "metadata": {},
   "source": [
    "#### Generate Metadata Table"
   ]
  },
  {
   "cell_type": "code",
   "execution_count": 37,
   "metadata": {},
   "outputs": [],
   "source": [
    "keyIn=[]\n",
    "for i in kwordtoProj.keys():\n",
    "    if len(kwordtoProj[i])>4:\n",
    "        keyIn.append(i)\n",
    "\n",
    "table=open(\"DraftMetadata.tab\",\"w\")\n",
    "header=\"id;Project\"\n",
    "for i in keyIn:\n",
    "    header=header+\"\\t\"+i\n",
    "for j in MajMeSHtoProj:\n",
    "    header=header+\"\\t\"+j\n",
    "table.write(header+\"\\n\")\n",
    "\n",
    "for i in range(len(ids)):\n",
    "    line=str(ids[i])+\"\\t\"+projects[col[i]]\n",
    "    for z in keyIn:\n",
    "        if projects[col[i]] in kwordtoProj[z]:\n",
    "            line=line+\"\\t\"+\"Yes\"\n",
    "        else:\n",
    "            line=line+\"\\t\"+\"No\"\n",
    "    for j in MajMeSHtoProj:\n",
    "        if projects[col[i]] in MajMeSHtoProj[j]:\n",
    "            line=line+\"\\t\"+\"Yes\"\n",
    "        else:\n",
    "            line=line+\"\\t\"+\"No\"\n",
    "    table.write(line+\"\\n\")\n",
    "table.close()"
   ]
  },
  {
   "cell_type": "code",
   "execution_count": null,
   "metadata": {},
   "outputs": [],
   "source": []
  }
 ],
 "metadata": {
  "kernelspec": {
   "display_name": "Python 3",
   "language": "python",
   "name": "python3"
  },
  "language_info": {
   "codemirror_mode": {
    "name": "ipython",
    "version": 3
   },
   "file_extension": ".py",
   "mimetype": "text/x-python",
   "name": "python",
   "nbconvert_exporter": "python",
   "pygments_lexer": "ipython3",
   "version": "3.8.5"
  }
 },
 "nbformat": 4,
 "nbformat_minor": 4
}
